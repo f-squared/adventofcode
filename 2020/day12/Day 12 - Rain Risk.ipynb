{
 "cells": [
  {
   "cell_type": "code",
   "execution_count": 1,
   "metadata": {
    "scrolled": false
   },
   "outputs": [],
   "source": [
    "class Instruction:\n",
    "    \n",
    "    def __init__(self, instruction: str):\n",
    "        self.action = instruction[0]\n",
    "        self.value = int(instruction[1:])\n",
    "        \n",
    "    def __repr__(self):\n",
    "        return f\"Instruction({self.action}, {self.value})\"\n",
    "\n",
    "\n",
    "DIRECTIONS_TO_DEGREES = {\n",
    "    \"N\": 0,\n",
    "    \"E\": 90,\n",
    "    \"S\": 180,\n",
    "    \"W\": 270,\n",
    "}\n",
    "\n",
    "DEGREES_TO_DIRECTIONS = {\n",
    "    0: \"N\",\n",
    "    90: \"E\",\n",
    "    180: \"S\",\n",
    "    270: \"W\",\n",
    "}\n",
    "\n",
    "\n",
    "def calculate_new_direction(curr_direction: str, instruction: Instruction) -> str:\n",
    "    new_degrees = DIRECTIONS_TO_DEGREES[curr_direction]\n",
    "    \n",
    "    if instruction.action == \"L\":\n",
    "        new_degrees -= instruction.value\n",
    "    elif instruction.action == \"R\":\n",
    "        new_degrees += instruction.value\n",
    "    else:\n",
    "        raise ValueError(\"Unexpected action for turning!\")\n",
    "        \n",
    "    return DEGREES_TO_DIRECTIONS[new_degrees % 360] "
   ]
  },
  {
   "cell_type": "code",
   "execution_count": 2,
   "metadata": {},
   "outputs": [],
   "source": [
    "filename = \"day-12-input.txt\"\n",
    "\n",
    "with open(filename) as file:\n",
    "    instructions = [Instruction(line.strip()) for line in file.readlines()]"
   ]
  },
  {
   "cell_type": "markdown",
   "metadata": {},
   "source": [
    "# Part 1"
   ]
  },
  {
   "cell_type": "code",
   "execution_count": 3,
   "metadata": {},
   "outputs": [
    {
     "name": "stdout",
     "output_type": "stream",
     "text": [
      "Manhattan distance: 381\n"
     ]
    }
   ],
   "source": [
    "# Ship's coordinates\n",
    "x = 0  # east/west\n",
    "y = 0  # north/south\n",
    "curr_direction = \"E\"   \n",
    "for instruction in instructions:\n",
    "    if instruction.action == \"E\":\n",
    "        x += instruction.value\n",
    "        \n",
    "    elif instruction.action == \"W\":\n",
    "        x -= instruction.value\n",
    "        \n",
    "    elif instruction.action == \"N\":\n",
    "        y += instruction.value\n",
    "        \n",
    "    elif instruction.action == \"S\":\n",
    "        y -= instruction.value\n",
    "        \n",
    "    elif instruction.action == \"L\" or instruction.action == \"R\":\n",
    "        curr_direction = calculate_new_direction(\n",
    "            curr_direction, instruction)\n",
    "    \n",
    "    elif instruction.action == \"F\":\n",
    "        if curr_direction == \"E\":\n",
    "            x += instruction.value\n",
    "        elif curr_direction == \"W\":\n",
    "            x -= instruction.value\n",
    "        elif curr_direction == \"N\":\n",
    "            y += instruction.value\n",
    "        elif curr_direction == \"S\":\n",
    "            y -= instruction.value\n",
    "        else:\n",
    "            raise ValueError(\"Unexpected direction!\")\n",
    "    \n",
    "    else:\n",
    "        raise ValueError(\"Unexpected action!\")\n",
    "        \n",
    "print(f\"Manhattan distance: {abs(x) + abs(y)}\")"
   ]
  },
  {
   "cell_type": "markdown",
   "metadata": {},
   "source": [
    "# Part 2"
   ]
  },
  {
   "cell_type": "code",
   "execution_count": 4,
   "metadata": {},
   "outputs": [],
   "source": [
    "from typing import Tuple\n",
    "\n",
    "\n",
    "def calculate_new_waypoint_coord(\n",
    "    waypoint_x: int, \n",
    "    waypoint_y: int,\n",
    "    instruction: Instruction\n",
    ") -> Tuple[int, int]:\n",
    "    \n",
    "    new_x = 0\n",
    "    new_y = 0\n",
    "\n",
    "    # east/west\n",
    "    if waypoint_x >= 0:\n",
    "        x_direction = \"E\"\n",
    "    else:\n",
    "        x_direction = \"W\"\n",
    "    new_x_direction = calculate_new_direction(x_direction, instruction)\n",
    "    \n",
    "    # north/south\n",
    "    if waypoint_y >= 0:\n",
    "        y_direction = \"N\"\n",
    "    else:\n",
    "        y_direction = \"S\"\n",
    "    new_y_direction = calculate_new_direction(y_direction, instruction)\n",
    "    \n",
    "    # calculate new relative coordinates\n",
    "    for direction, distance in [(new_x_direction, abs(waypoint_x)), \n",
    "                                (new_y_direction, abs(waypoint_y))]:\n",
    "        if direction == \"N\":\n",
    "            new_y += distance\n",
    "            \n",
    "        elif direction == \"S\":\n",
    "            new_y -= distance\n",
    "            \n",
    "        elif direction == \"E\":\n",
    "            new_x += distance\n",
    "            \n",
    "        elif direction == \"W\":\n",
    "            new_x -= distance\n",
    "            \n",
    "        else:\n",
    "            raise ValueError(\"Unexpected direction for waypoint turning!\")\n",
    "            \n",
    "    return new_x, new_y"
   ]
  },
  {
   "cell_type": "code",
   "execution_count": 5,
   "metadata": {},
   "outputs": [
    {
     "name": "stdout",
     "output_type": "stream",
     "text": [
      "Manhattan distance: 28591\n"
     ]
    }
   ],
   "source": [
    "# Ship's coordinates\n",
    "x = 0  # east/west\n",
    "y = 0  # north/south\n",
    "\n",
    "# Waypoint coordinates relative to ship\n",
    "waypoint_x = 10  # starts 10 units east\n",
    "waypoint_y = 1   # starts 1 unit west\n",
    "\n",
    "for instruction in instructions:\n",
    "    if instruction.action == \"E\":\n",
    "        waypoint_x += instruction.value\n",
    "        \n",
    "    elif instruction.action == \"W\":\n",
    "        waypoint_x -= instruction.value\n",
    "        \n",
    "    elif instruction.action == \"N\":\n",
    "        waypoint_y += instruction.value\n",
    "        \n",
    "    elif instruction.action == \"S\":\n",
    "        waypoint_y -= instruction.value\n",
    "        \n",
    "    elif instruction.action == \"L\" or instruction.action == \"R\":\n",
    "        waypoint_x, waypoint_y = calculate_new_waypoint_coord(\n",
    "            waypoint_x, waypoint_y, instruction)\n",
    "    \n",
    "    elif instruction.action == \"F\":\n",
    "        x += waypoint_x * instruction.value\n",
    "        y += waypoint_y * instruction.value\n",
    "    \n",
    "    else:\n",
    "        raise ValueError(\"Unexpected action!\")\n",
    "        \n",
    "print(f\"Manhattan distance: {abs(x) + abs(y)}\")"
   ]
  },
  {
   "cell_type": "code",
   "execution_count": null,
   "metadata": {},
   "outputs": [],
   "source": []
  }
 ],
 "metadata": {
  "kernelspec": {
   "display_name": "Python 3",
   "language": "python",
   "name": "python3"
  },
  "language_info": {
   "codemirror_mode": {
    "name": "ipython",
    "version": 3
   },
   "file_extension": ".py",
   "mimetype": "text/x-python",
   "name": "python",
   "nbconvert_exporter": "python",
   "pygments_lexer": "ipython3",
   "version": "3.6.5"
  }
 },
 "nbformat": 4,
 "nbformat_minor": 2
}
