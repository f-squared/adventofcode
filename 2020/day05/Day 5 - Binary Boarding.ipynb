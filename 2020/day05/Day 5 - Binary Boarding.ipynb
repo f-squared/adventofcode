{
 "cells": [
  {
   "cell_type": "code",
   "execution_count": 1,
   "metadata": {},
   "outputs": [],
   "source": [
    "from typing import NamedTuple\n",
    "\n",
    "\n",
    "class Seat(NamedTuple):\n",
    "    row: int\n",
    "    col: int\n",
    "    id: int\n",
    "\n",
    "        \n",
    "def find_seat(boarding_pass: str) -> Seat:\n",
    "    row = find_row(boarding_pass)\n",
    "    col = find_col(boarding_pass)\n",
    "    return Seat(row=row, col=col, id=row*8+col)\n",
    "\n",
    "\n",
    "def find_row(boarding_pass: str) -> int:\n",
    "    row_chars = boarding_pass[:7]\n",
    "    \n",
    "    row_min = 0\n",
    "    row_max = 127\n",
    "    \n",
    "    for row_char in row_chars:\n",
    "        middle = (row_min + row_max) // 2\n",
    "        if row_char == \"F\":\n",
    "            row_max = middle\n",
    "        elif row_char == \"B\":\n",
    "            row_min = middle + 1\n",
    "        else:\n",
    "            raise ValueError(\"Unexpected row character! Must be F or B.\")\n",
    "            \n",
    "    if row_min != row_max:\n",
    "        raise Exception(\"Your row algorithm is wrong!\")\n",
    "    \n",
    "    return row_min\n",
    "\n",
    "\n",
    "def find_col(boarding_pass: str) -> int:\n",
    "    col_chars = boarding_pass[7:]\n",
    "    if len(col_chars) != 3:\n",
    "        raise ValueError(\"Not enough column characters!\")\n",
    "    \n",
    "    col_min = 0\n",
    "    col_max = 7\n",
    "    \n",
    "    for col_char in col_chars:\n",
    "        middle = (col_min + col_max) // 2\n",
    "        if col_char == \"L\":\n",
    "            col_max = middle\n",
    "        elif col_char == \"R\":\n",
    "            col_min = middle + 1\n",
    "        else:\n",
    "            raise ValueError(\"Unexpected col character! Must be L or R.\")\n",
    "    \n",
    "    if col_min != col_max:\n",
    "        raise Exception(\"Your col algorithm is wrong!\")\n",
    "        \n",
    "    return col_min"
   ]
  },
  {
   "cell_type": "markdown",
   "metadata": {},
   "source": [
    "# Test Cases"
   ]
  },
  {
   "cell_type": "code",
   "execution_count": 2,
   "metadata": {},
   "outputs": [
    {
     "name": "stdout",
     "output_type": "stream",
     "text": [
      "It all passed! :D\n"
     ]
    }
   ],
   "source": [
    "def test_find_seat():\n",
    "    seat = find_seat(\"FBFBBFFRLR\")\n",
    "    assert seat.row == 44\n",
    "    assert seat.col == 5\n",
    "    assert seat.id == 357\n",
    "    \n",
    "    seat = find_seat(\"BFFFBBFRRR\")\n",
    "    assert seat.row == 70\n",
    "    assert seat.col == 7\n",
    "    assert seat.id == 567\n",
    "    \n",
    "    seat = find_seat(\"FFFBBBFRRR\")\n",
    "    assert seat.row == 14\n",
    "    assert seat.col == 7\n",
    "    assert seat.id == 119\n",
    "    \n",
    "    seat = find_seat(\"BBFFBBFRLL\")\n",
    "    assert seat.row == 102\n",
    "    assert seat.col == 4\n",
    "    assert seat.id == 820\n",
    "    \n",
    "    print(\"It all passed! :D\")\n",
    "    \n",
    "test_find_seat()"
   ]
  },
  {
   "cell_type": "markdown",
   "metadata": {},
   "source": [
    "# Part 1"
   ]
  },
  {
   "cell_type": "code",
   "execution_count": 3,
   "metadata": {},
   "outputs": [
    {
     "name": "stdout",
     "output_type": "stream",
     "text": [
      "Highest seat ID on a board pass is: 970\n"
     ]
    }
   ],
   "source": [
    "filename = \"day-5-input.txt\"\n",
    "\n",
    "with open(filename) as file:\n",
    "    boarding_passes = [line.strip() for line in file.readlines()]\n",
    "\n",
    "    \n",
    "max_seat_id = 0\n",
    "seat_ids = []  # for part 2\n",
    "for boarding_pass in boarding_passes:\n",
    "    seat = find_seat(boarding_pass)\n",
    "    if seat.id > max_seat_id:\n",
    "        max_seat_id = seat.id\n",
    "    seat_ids.append(seat.id)\n",
    "\n",
    "print(\"Highest seat ID on a board pass is:\", max_seat_id)"
   ]
  },
  {
   "cell_type": "markdown",
   "metadata": {},
   "source": [
    "# Part 2"
   ]
  },
  {
   "cell_type": "code",
   "execution_count": 4,
   "metadata": {},
   "outputs": [
    {
     "name": "stdout",
     "output_type": "stream",
     "text": [
      "Your seat ID is: 587\n"
     ]
    }
   ],
   "source": [
    "seat_ids.sort()\n",
    "\n",
    "prev_seat_id = 68\n",
    "for seat_id in seat_ids[1:]:\n",
    "    if seat_id-1 != prev_seat_id:\n",
    "        assert seat_id-2 == prev_seat_id\n",
    "        print(\"Your seat ID is:\", seat_id-1)\n",
    "        break\n",
    "    prev_seat_id = seat_id"
   ]
  }
 ],
 "metadata": {
  "kernelspec": {
   "display_name": "Python 3",
   "language": "python",
   "name": "python3"
  },
  "language_info": {
   "codemirror_mode": {
    "name": "ipython",
    "version": 3
   },
   "file_extension": ".py",
   "mimetype": "text/x-python",
   "name": "python",
   "nbconvert_exporter": "python",
   "pygments_lexer": "ipython3",
   "version": "3.6.5"
  }
 },
 "nbformat": 4,
 "nbformat_minor": 2
}
