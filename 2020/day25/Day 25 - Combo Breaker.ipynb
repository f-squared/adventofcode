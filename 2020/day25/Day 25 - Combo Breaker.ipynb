{
 "cells": [
  {
   "cell_type": "code",
   "execution_count": 1,
   "metadata": {},
   "outputs": [],
   "source": [
    "puzzle_input_example = [5764801, 17807724]\n",
    "puzzle_input_real = [2069194, 16426071]"
   ]
  },
  {
   "cell_type": "code",
   "execution_count": 2,
   "metadata": {},
   "outputs": [],
   "source": [
    "def transform(subject_num: int, loop_size: int) -> int:\n",
    "    return pow(subject_num, loop_size, 20201227)\n",
    "\n",
    "\n",
    "def find_loop_size(public_key: int, subject_num: int) -> int:\n",
    "    result = 1\n",
    "    loop_size = 0\n",
    "    \n",
    "    while result != public_key:\n",
    "        loop_size += 1\n",
    "        result = (result * subject_num) % 20201227\n",
    "        \n",
    "    return loop_size"
   ]
  },
  {
   "cell_type": "markdown",
   "metadata": {},
   "source": [
    "# Part 1"
   ]
  },
  {
   "cell_type": "code",
   "execution_count": 3,
   "metadata": {},
   "outputs": [],
   "source": [
    "# Test with example input\n",
    "card_public_key, door_public_key = puzzle_input_example\n",
    "\n",
    "card_loop_size = find_loop_size(card_public_key, 7)\n",
    "door_loop_size = find_loop_size(door_public_key, 7)\n",
    "assert card_loop_size == 8\n",
    "assert door_loop_size == 11\n",
    "\n",
    "assert (transform(door_public_key, card_loop_size) \n",
    "        == transform(card_public_key, door_loop_size)\n",
    "        == 14897079)"
   ]
  },
  {
   "cell_type": "code",
   "execution_count": 4,
   "metadata": {},
   "outputs": [
    {
     "name": "stdout",
     "output_type": "stream",
     "text": [
      "Card loop size: 13207740\n",
      "Door loop size: 8229037\n",
      "\n",
      "Encryption key: 11576351\n"
     ]
    }
   ],
   "source": [
    "# Use actual input\n",
    "card_public_key, door_public_key = puzzle_input_real\n",
    "\n",
    "card_loop_size = find_loop_size(card_public_key, 7)\n",
    "door_loop_size = find_loop_size(door_public_key, 7)\n",
    "print(\"Card loop size:\", card_loop_size)\n",
    "print(\"Door loop size:\", door_loop_size)\n",
    "print()\n",
    "\n",
    "encryption_key_1 = transform(door_public_key, card_loop_size)\n",
    "encryption_key_2 = transform(card_public_key, door_loop_size)\n",
    "\n",
    "assert encryption_key_1 == encryption_key_2\n",
    "print(\"Encryption key:\", encryption_key_1)"
   ]
  },
  {
   "cell_type": "markdown",
   "metadata": {},
   "source": [
    "# Part 2\n",
    "That's it! We've paid the deposit!"
   ]
  },
  {
   "cell_type": "code",
   "execution_count": null,
   "metadata": {},
   "outputs": [],
   "source": []
  }
 ],
 "metadata": {
  "kernelspec": {
   "display_name": "Python 3",
   "language": "python",
   "name": "python3"
  },
  "language_info": {
   "codemirror_mode": {
    "name": "ipython",
    "version": 3
   },
   "file_extension": ".py",
   "mimetype": "text/x-python",
   "name": "python",
   "nbconvert_exporter": "python",
   "pygments_lexer": "ipython3",
   "version": "3.6.5"
  }
 },
 "nbformat": 4,
 "nbformat_minor": 2
}
