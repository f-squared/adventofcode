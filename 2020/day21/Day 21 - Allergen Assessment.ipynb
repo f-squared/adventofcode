{
 "cells": [
  {
   "cell_type": "code",
   "execution_count": 1,
   "metadata": {},
   "outputs": [],
   "source": [
    "filename = \"day-21-input.txt\""
   ]
  },
  {
   "cell_type": "code",
   "execution_count": 2,
   "metadata": {},
   "outputs": [],
   "source": [
    "import collections\n",
    "\n",
    "\n",
    "class IngredientList:\n",
    "    \n",
    "    def __init__(self, raw_content: str):\n",
    "        self.ingredients = raw_content.split(\" (contains \")[0].split()\n",
    "        self.allergens = raw_content.split(\"(contains \")[1].strip(\")\").split(\", \")"
   ]
  },
  {
   "cell_type": "markdown",
   "metadata": {},
   "source": [
    "# Part 1"
   ]
  },
  {
   "cell_type": "code",
   "execution_count": 3,
   "metadata": {},
   "outputs": [
    {
     "name": "stdout",
     "output_type": "stream",
     "text": [
      "The ingredients with no allergens appear 2302 times.\n"
     ]
    }
   ],
   "source": [
    "with open(filename) as file:\n",
    "    ing_lists = [IngredientList(line.strip()) for line in file.readlines()]\n",
    "\n",
    "# ingredient -> allergence -> number of times that allergen appears\n",
    "ingredient_to_allergen = collections.defaultdict(dict)\n",
    "# number of lists an allergen appears in\n",
    "allergen_count = collections.defaultdict(int)\n",
    "# number of lists an ingredient appears in\n",
    "ingredient_count = collections.defaultdict(int)\n",
    "\n",
    "\n",
    "for ing_list in ing_lists:\n",
    "    for allergen in ing_list.allergens:\n",
    "        allergen_count[allergen] += 1\n",
    "    \n",
    "    for ingredient in ing_list.ingredients:\n",
    "        ingredient_count[ingredient] += 1\n",
    "        \n",
    "        for allergen in ing_list.allergens:\n",
    "            if allergen not in ingredient_to_allergen[ingredient]:\n",
    "                ingredient_to_allergen[ingredient][allergen] = 1\n",
    "            else:\n",
    "                ingredient_to_allergen[ingredient][allergen] += 1\n",
    "                \n",
    "\n",
    "# Find out which ingredients don't have allergens\n",
    "all_ingredients = set(ingredient_count.keys())\n",
    "yes_allergens = set()\n",
    "for ingredient, allergen_appearances in ingredient_to_allergen.items():\n",
    "    for allergen, count in allergen_count.items():\n",
    "        if allergen in allergen_appearances and allergen_appearances[allergen] == count:\n",
    "            yes_allergens.add(ingredient)\n",
    "            continue\n",
    "no_allergens = all_ingredients - yes_allergens\n",
    "\n",
    "\n",
    "# Find out how many times the no-allergen ingredients appear\n",
    "part1_answer = 0\n",
    "for ingredient in no_allergens:\n",
    "    part1_answer += ingredient_count[ingredient]\n",
    "\n",
    "print(f\"The ingredients with no allergens appear {part1_answer} times.\")"
   ]
  },
  {
   "cell_type": "markdown",
   "metadata": {},
   "source": [
    "# Part 2"
   ]
  },
  {
   "cell_type": "code",
   "execution_count": 4,
   "metadata": {},
   "outputs": [],
   "source": [
    "# Pop off all ingredients that have no allergens\n",
    "for ingredient in no_allergens:\n",
    "    ingredient_to_allergen.pop(ingredient)"
   ]
  },
  {
   "cell_type": "code",
   "execution_count": 5,
   "metadata": {
    "scrolled": false
   },
   "outputs": [
    {
     "name": "stdout",
     "output_type": "stream",
     "text": [
      "Canonical dangerous ingredient list:\n",
      "smfz,vhkj,qzlmr,tvdvzd,lcb,lrqqqsg,dfzqlk,shp\n"
     ]
    }
   ],
   "source": [
    "# allergent -> ingredient\n",
    "allergen_to_ingredient = {}\n",
    "\n",
    "ingredients = set(yes_allergens)\n",
    "allergens = set(allergen_count.keys())\n",
    "\n",
    "# populate allergen_to_ingredient\n",
    "while ingredients:\n",
    "    found = False\n",
    "    for allergen in allergens:\n",
    "        # ingredients that may contain allergen\n",
    "        contenders = []\n",
    "        for ingredient in ingredients:\n",
    "            if ingredient_to_allergen[ingredient].get(allergen) == allergen_count[allergen]:\n",
    "                contenders.append(ingredient)\n",
    "        if len(contenders) == 1:\n",
    "            found = True\n",
    "            break\n",
    "    \n",
    "    # bookkeeping\n",
    "    if found:\n",
    "        contender = contenders[0]\n",
    "        \n",
    "        allergen_to_ingredient[allergen] = contender\n",
    "        ingredients.remove(contender)\n",
    "        allergens.remove(allergen)\n",
    "        ingredient_to_allergen.pop(contender)\n",
    "        \n",
    "# construct answer:\n",
    "answer_list = []\n",
    "\n",
    "for allergen in sorted(allergen_to_ingredient.keys()):\n",
    "    ingredient = allergen_to_ingredient[allergen]\n",
    "    answer_list.append(ingredient)\n",
    "\n",
    "print(\"Canonical dangerous ingredient list:\")\n",
    "print(\",\".join(answer_list))"
   ]
  },
  {
   "cell_type": "code",
   "execution_count": null,
   "metadata": {},
   "outputs": [],
   "source": []
  }
 ],
 "metadata": {
  "kernelspec": {
   "display_name": "Python 3",
   "language": "python",
   "name": "python3"
  },
  "language_info": {
   "codemirror_mode": {
    "name": "ipython",
    "version": 3
   },
   "file_extension": ".py",
   "mimetype": "text/x-python",
   "name": "python",
   "nbconvert_exporter": "python",
   "pygments_lexer": "ipython3",
   "version": "3.6.5"
  }
 },
 "nbformat": 4,
 "nbformat_minor": 2
}
