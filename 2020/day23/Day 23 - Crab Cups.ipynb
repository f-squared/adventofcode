{
 "cells": [
  {
   "cell_type": "code",
   "execution_count": 1,
   "metadata": {},
   "outputs": [],
   "source": [
    "example_cup_labels = \"389125467\"\n",
    "actual_cup_labels = \"496138527\""
   ]
  },
  {
   "cell_type": "code",
   "execution_count": 2,
   "metadata": {},
   "outputs": [],
   "source": [
    "from typing import List\n",
    "\n",
    "\n",
    "class Cup:\n",
    "    def __init__(self, label: int):\n",
    "        self.label = label\n",
    "        self.next = None\n",
    "\n",
    "\n",
    "class Game:\n",
    "    \n",
    "    NUM_CUPS = 1_000_000\n",
    "    \n",
    "    def __init__(self, \n",
    "                 cup_labels: List[int], \n",
    "                 verbose=False,\n",
    "                 is_part_2=False):\n",
    "        \n",
    "        if verbose and is_part_2:\n",
    "            raise ValueError(\"You don't want to kill your Jupyter notebook!\")\n",
    "\n",
    "        self.verbose = verbose\n",
    "        self.move = 1\n",
    "        self.max_label = max(cup_labels)\n",
    "        \n",
    "        # Create looped LinkedList\n",
    "        self.curr_cup = Cup(cup_labels[0])\n",
    "        self.label_to_cup = {cup_labels[0]: self.curr_cup}\n",
    "        \n",
    "        cup = self.curr_cup\n",
    "        for label in cup_labels[1:]:\n",
    "            next_cup = Cup(label)\n",
    "            cup.next = next_cup\n",
    "            cup = next_cup\n",
    "            self.label_to_cup[label] = cup\n",
    "        if is_part_2:\n",
    "            # The crab sure likes its cups.\n",
    "            for label in range(self.max_label+1, self.NUM_CUPS+1):\n",
    "                next_cup = Cup(label)\n",
    "                cup.next = next_cup\n",
    "                cup = next_cup\n",
    "                self.label_to_cup[label] = cup\n",
    "            self.max_label = self.NUM_CUPS\n",
    "        cup.next = self.curr_cup\n",
    "        \n",
    "    def cups_as_string(self):\n",
    "        str_cups = [f\"({self.curr_cup.label})\"]\n",
    "        \n",
    "        cup = self.curr_cup.next\n",
    "        while cup != self.curr_cup:\n",
    "            str_cups.append(f\" {cup.label} \")\n",
    "            cup = cup.next\n",
    "        \n",
    "        return \"\".join(str_cups)\n",
    "        \n",
    "        \n",
    "    def advance(self):\n",
    "        if self.verbose:\n",
    "            print(f\"-- move {self.move} --\")\n",
    "            print(\"cups: \", self.cups_as_string())\n",
    "            \n",
    "        # Get three cups to pick up\n",
    "        three_cups_head = self.curr_cup.next\n",
    "        three_labels = [\n",
    "            three_cups_head.label, \n",
    "            three_cups_head.next.label,\n",
    "            three_cups_head.next.next.label,\n",
    "        ]\n",
    "        if self.verbose:\n",
    "            print(\"pick up:\", \", \".join([str(c) for c in three_labels]))\n",
    "        # Detach the three cups\n",
    "        self.curr_cup.next = three_cups_head.next.next.next\n",
    "        three_cups_head.next.next.next = None\n",
    "        \n",
    "        # Determine destination label\n",
    "        dest_label = self.curr_cup.label - 1\n",
    "        while dest_label in three_labels or dest_label <= 0:\n",
    "            if dest_label <= 0:\n",
    "                dest_label = self.max_label\n",
    "            else:\n",
    "                dest_label -= 1\n",
    "        if self.verbose:\n",
    "            print(\"destination:\", dest_label)\n",
    "            print()\n",
    "        # Locate destination cup\n",
    "        dest_cup = self.label_to_cup[dest_label]\n",
    "        # Place three cups after destination cup.\n",
    "        three_cups_head.next.next.next = dest_cup.next\n",
    "        dest_cup.next = three_cups_head\n",
    "            \n",
    "        self.curr_cup = self.curr_cup.next\n",
    "        self.move += 1\n",
    "    \n",
    "    @property\n",
    "    def labels_after_1(self):\n",
    "        labels = []\n",
    "        \n",
    "        cup = self.label_to_cup[1].next\n",
    "        while cup != self.label_to_cup[1]:\n",
    "            labels.append(cup.label)\n",
    "            cup = cup.next\n",
    "            \n",
    "        return \"\".join([str(label) for label in labels])\n",
    "    \n",
    "    def print_part_2_answer(self):\n",
    "        cup_a = self.label_to_cup[1].next\n",
    "        cup_b = cup_a.next\n",
    "        \n",
    "        print(f\"The answer is: {cup_a.label} * {cup_b.label} = {cup_a.label * cup_b.label}\")"
   ]
  },
  {
   "cell_type": "markdown",
   "metadata": {},
   "source": [
    "# Part 1"
   ]
  },
  {
   "cell_type": "markdown",
   "metadata": {},
   "source": [
    "### Test Cases"
   ]
  },
  {
   "cell_type": "code",
   "execution_count": 3,
   "metadata": {},
   "outputs": [],
   "source": [
    "cup_labels = [int(i) for i in list(example_cup_labels)]\n",
    "game = Game(cup_labels)\n",
    "for i in range(10):\n",
    "    game.advance()\n",
    "assert game.labels_after_1 == \"92658374\"\n",
    "for i in range(90):\n",
    "    game.advance()\n",
    "assert game.labels_after_1 == \"67384529\""
   ]
  },
  {
   "cell_type": "markdown",
   "metadata": {},
   "source": [
    "### Actual case"
   ]
  },
  {
   "cell_type": "code",
   "execution_count": 4,
   "metadata": {},
   "outputs": [
    {
     "name": "stdout",
     "output_type": "stream",
     "text": [
      "Answer to part 1: 69425837\n"
     ]
    }
   ],
   "source": [
    "cups = [int(i) for i in list(actual_cup_labels)]\n",
    "game = Game(cups)\n",
    "for i in range(100):\n",
    "    game.advance()\n",
    "print(\"Answer to part 1:\", game.labels_after_1)"
   ]
  },
  {
   "cell_type": "markdown",
   "metadata": {},
   "source": [
    "# Part 2"
   ]
  },
  {
   "cell_type": "code",
   "execution_count": 5,
   "metadata": {},
   "outputs": [],
   "source": [
    "NUM_MOVES = 10_000_000"
   ]
  },
  {
   "cell_type": "markdown",
   "metadata": {},
   "source": [
    "### Test Case"
   ]
  },
  {
   "cell_type": "code",
   "execution_count": 6,
   "metadata": {},
   "outputs": [
    {
     "name": "stdout",
     "output_type": "stream",
     "text": [
      "The answer is: 934001 * 159792 = 149245887792\n"
     ]
    }
   ],
   "source": [
    "cup_labels = [int(i) for i in list(example_cup_labels)]\n",
    "game = Game(cup_labels, is_part_2=True)\n",
    "for i in range(NUM_MOVES):\n",
    "    game.advance()\n",
    "game.print_part_2_answer()"
   ]
  },
  {
   "cell_type": "markdown",
   "metadata": {},
   "source": [
    "### Actual Case"
   ]
  },
  {
   "cell_type": "code",
   "execution_count": 7,
   "metadata": {},
   "outputs": [
    {
     "name": "stdout",
     "output_type": "stream",
     "text": [
      "The answer is: 843145 * 259603 = 218882971435\n"
     ]
    }
   ],
   "source": [
    "cup_labels = [int(i) for i in list(actual_cup_labels)]\n",
    "game = Game(cup_labels, is_part_2=True)\n",
    "for i in range(NUM_MOVES):\n",
    "    game.advance()\n",
    "game.print_part_2_answer()"
   ]
  },
  {
   "cell_type": "code",
   "execution_count": null,
   "metadata": {},
   "outputs": [],
   "source": []
  }
 ],
 "metadata": {
  "kernelspec": {
   "display_name": "Python 3",
   "language": "python",
   "name": "python3"
  },
  "language_info": {
   "codemirror_mode": {
    "name": "ipython",
    "version": 3
   },
   "file_extension": ".py",
   "mimetype": "text/x-python",
   "name": "python",
   "nbconvert_exporter": "python",
   "pygments_lexer": "ipython3",
   "version": "3.6.5"
  }
 },
 "nbformat": 4,
 "nbformat_minor": 2
}
