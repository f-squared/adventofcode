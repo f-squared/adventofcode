{
 "cells": [
  {
   "cell_type": "markdown",
   "metadata": {},
   "source": [
    "I was \"too lazy\" to create linked lists for Part 1. Not only did linked lists turn out to be more or less necessary for Part 2, Part 1 was also pretty fiddly to get right without linked lists. Lesson learned: just do linked lists when it's the right thing to do. 😛"
   ]
  },
  {
   "cell_type": "code",
   "execution_count": 1,
   "metadata": {},
   "outputs": [],
   "source": [
    "from typing import List\n",
    "\n",
    "\n",
    "class Game:\n",
    "    \n",
    "    def __init__(self, cups: List[int], verbose=False):\n",
    "        self.verbose = verbose\n",
    "        self.cups = cups\n",
    "        \n",
    "        self.current_idx = 0\n",
    "        self.min_cup = min(self.cups)\n",
    "        self.max_cup = max(self.cups)\n",
    "        \n",
    "        self.move = 1\n",
    "    \n",
    "    def cups_as_string(self):\n",
    "        str_cups = []\n",
    "        for i, cup in enumerate(self.cups):\n",
    "            if i == self.current_idx:\n",
    "                str_cups.append(f\"({cup})\")\n",
    "            else:\n",
    "                str_cups.append(f\" {cup} \")\n",
    "        return \"\".join(str_cups)\n",
    "        \n",
    "    def advance(self):\n",
    "        if self.verbose:\n",
    "            print(f\"-- move {self.move} --\")\n",
    "            print(\"cups: \", self.cups_as_string())\n",
    "        \n",
    "        \n",
    "        # Get three cups to pick up\n",
    "        three_cups = []\n",
    "        for i in range(3):\n",
    "            three_cups.append(\n",
    "                self.cups[(self.current_idx + i + 1) % len(self.cups)]\n",
    "            )\n",
    "        if self.verbose:\n",
    "            print(\"pick up:\", \", \".join([str(c) for c in three_cups]))\n",
    "        \n",
    "        # Find destination cup\n",
    "        current_cup = self.cups[self.current_idx]\n",
    "        dest_cup = current_cup - 1\n",
    "        while dest_cup in three_cups or dest_cup <= 0:\n",
    "            if dest_cup <= 0:\n",
    "                dest_cup = self.max_cup\n",
    "            else:\n",
    "                dest_cup -= 1\n",
    "        if self.verbose:\n",
    "            print(\"destination:\", dest_cup)\n",
    "            print()\n",
    "        \n",
    "        # Place picked up cups and put after destination cup\n",
    "        new_cups = [0 for c in self.cups]\n",
    "        # Current cup stays put\n",
    "        new_cups[self.current_idx] = current_cup\n",
    "        # Collect remaining cups to place that are not part of the three reserved cups:\n",
    "        remaining_cups = []\n",
    "        for i in range(len(cups)):\n",
    "            cup = self.cups[(self.current_idx+i) % len(self.cups)]\n",
    "            if cup not in three_cups and cup != current_cup:\n",
    "                remaining_cups.append(cup)\n",
    "        # Place remaining \n",
    "        new_idx = self.current_idx\n",
    "        for cup in remaining_cups:\n",
    "            new_idx = (new_idx + 1) % len(self.cups)\n",
    "            new_cups[new_idx] = cup\n",
    "            if cup == dest_cup:\n",
    "                # It's time to place the three cups\n",
    "                for picked_up_cup in three_cups:\n",
    "                    new_idx = (new_idx + 1) % len(self.cups)\n",
    "                    new_cups[new_idx] = picked_up_cup\n",
    "        \n",
    "        self.cups = new_cups\n",
    "                  \n",
    "        self.current_idx = (self.current_idx + 1) % len(self.cups)\n",
    "        self.move += 1\n",
    "    \n",
    "    @property\n",
    "    def labels_after_1(self):\n",
    "        one_idx = self.cups.index(1)\n",
    "        labels = []\n",
    "        for i in range(1, len(self.cups)):\n",
    "            label = self.cups[(one_idx+i) % len(self.cups)]\n",
    "            labels.append(label)\n",
    "            \n",
    "        return \"\".join([str(label) for label in labels])"
   ]
  },
  {
   "cell_type": "markdown",
   "metadata": {},
   "source": [
    "# Part 1"
   ]
  },
  {
   "cell_type": "markdown",
   "metadata": {},
   "source": [
    "### Test Cases"
   ]
  },
  {
   "cell_type": "code",
   "execution_count": 2,
   "metadata": {},
   "outputs": [],
   "source": [
    "cups = [int(i) for i in list(\"389125467\")]\n",
    "game = Game(cups)\n",
    "for i in range(10):\n",
    "    game.advance()\n",
    "assert game.labels_after_1 == \"92658374\"\n",
    "for i in range(90):\n",
    "    game.advance()\n",
    "assert game.labels_after_1 == \"67384529\""
   ]
  },
  {
   "cell_type": "markdown",
   "metadata": {},
   "source": [
    "### Actual problem"
   ]
  },
  {
   "cell_type": "code",
   "execution_count": 3,
   "metadata": {},
   "outputs": [
    {
     "name": "stdout",
     "output_type": "stream",
     "text": [
      "Answer to part 1: 69425837\n"
     ]
    }
   ],
   "source": [
    "cups = [int(i) for i in list(\"496138527\")]\n",
    "game = Game(cups)\n",
    "for i in range(100):\n",
    "    game.advance()\n",
    "print(\"Answer to part 1:\", game.labels_after_1)"
   ]
  },
  {
   "cell_type": "code",
   "execution_count": null,
   "metadata": {},
   "outputs": [],
   "source": []
  }
 ],
 "metadata": {
  "kernelspec": {
   "display_name": "Python 3",
   "language": "python",
   "name": "python3"
  },
  "language_info": {
   "codemirror_mode": {
    "name": "ipython",
    "version": 3
   },
   "file_extension": ".py",
   "mimetype": "text/x-python",
   "name": "python",
   "nbconvert_exporter": "python",
   "pygments_lexer": "ipython3",
   "version": "3.6.5"
  }
 },
 "nbformat": 4,
 "nbformat_minor": 2
}
