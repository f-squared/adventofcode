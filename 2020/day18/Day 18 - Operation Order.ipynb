{
 "cells": [
  {
   "cell_type": "code",
   "execution_count": 1,
   "metadata": {},
   "outputs": [],
   "source": [
    "import collections\n",
    "from typing import Deque"
   ]
  },
  {
   "cell_type": "code",
   "execution_count": 2,
   "metadata": {},
   "outputs": [],
   "source": [
    "filename = \"day-18-input.txt\"\n",
    "\n",
    "with open(filename) as file:\n",
    "    expressions = file.readlines()"
   ]
  },
  {
   "cell_type": "markdown",
   "metadata": {},
   "source": [
    "# Part 1"
   ]
  },
  {
   "cell_type": "code",
   "execution_count": 3,
   "metadata": {},
   "outputs": [],
   "source": [
    "def evaluate_expression(expression: str) -> int:\n",
    "    symbols = collections.deque(expression.split())\n",
    "    return evaluate(symbols)\n",
    "\n",
    "\n",
    "def recursive_parens(symbols: Deque[str]) -> Deque[str]:\n",
    "    open_parens = symbols[0].count(\"(\")\n",
    "    rec_symbols = collections.deque(\n",
    "        [symbols.popleft()[1:]]  # remove first \"(\"\n",
    "    )\n",
    "\n",
    "    while open_parens > 0:\n",
    "        open_parens += symbols[0].count(\"(\")\n",
    "        open_parens -= symbols[0].count(\")\")\n",
    "        rec_symbols.append(symbols.popleft())\n",
    "\n",
    "    rec_symbols[-1] = rec_symbols[-1][:-1]  # remove last \")\"\n",
    "    \n",
    "    return rec_symbols\n",
    "\n",
    "\n",
    "def evaluate(symbols: Deque[str]) -> int:\n",
    "#     print(symbols)\n",
    "    \n",
    "    result = 0\n",
    "    operator = \"+\"\n",
    "    \n",
    "    while symbols:\n",
    "        if symbols[0].startswith(\"(\"):\n",
    "            rec_symbols = recursive_parens(symbols)\n",
    "            value = evaluate(rec_symbols)\n",
    "            \n",
    "        elif symbols[0] in (\"+\", \"*\"):\n",
    "            operator = symbols.popleft()\n",
    "            continue\n",
    "        else:\n",
    "            value = int(symbols.popleft())\n",
    "            \n",
    "        if operator == \"+\":\n",
    "            result += value\n",
    "        elif operator == \"*\":\n",
    "            result *= value\n",
    "        else:\n",
    "            raise ValueError(\"Unknown error!\")\n",
    "            \n",
    "    return result"
   ]
  },
  {
   "cell_type": "code",
   "execution_count": 4,
   "metadata": {},
   "outputs": [],
   "source": [
    "test_cases = [\n",
    "    (\"1 + 2 * 3 + 4 * 5 + 6\", 71),\n",
    "    (\"1 + (2 * 3) + (4 * (5 + 6))\", 51),\n",
    "    (\"2 * 3 + (4 * 5)\", 26),\n",
    "    (\"5 + (8 * 3 + 9 + 3 * 4 * 3)\", 437),\n",
    "    (\"5 * 9 * (7 * 3 * 3 + 9 * 3 + (8 + 6 * 4))\", 12240),\n",
    "    (\"((2 + 4 * 9) * (6 + 9 * 8 + 6) + 6) + 2 + 4 * 2\", 13632),\n",
    "]\n",
    "\n",
    "for expression, answer in test_cases:\n",
    "    assert evaluate_expression(expression) == answer"
   ]
  },
  {
   "cell_type": "code",
   "execution_count": 5,
   "metadata": {},
   "outputs": [
    {
     "name": "stdout",
     "output_type": "stream",
     "text": [
      "Answer to Part 1: 8298263963837\n"
     ]
    }
   ],
   "source": [
    "total = sum([evaluate_expression(expr) for expr in expressions])\n",
    "\n",
    "print(\"Answer to Part 1:\", total)"
   ]
  },
  {
   "cell_type": "markdown",
   "metadata": {},
   "source": [
    "# Part 2\n",
    "copy-pasta, since I'm in a hurry"
   ]
  },
  {
   "cell_type": "code",
   "execution_count": 6,
   "metadata": {},
   "outputs": [],
   "source": [
    "def evaluate_expression(expression: str) -> int:\n",
    "    symbols = collections.deque(expression.split())\n",
    "    return evaluate(symbols)\n",
    "\n",
    "\n",
    "def recursive_parens(symbols: Deque[str]) -> Deque[str]:\n",
    "    open_parens = symbols[0].count(\"(\")\n",
    "    rec_symbols = collections.deque(\n",
    "        [symbols.popleft()[1:]]  # remove first \"(\"\n",
    "    )\n",
    "\n",
    "    while open_parens > 0:\n",
    "        open_parens += symbols[0].count(\"(\")\n",
    "        open_parens -= symbols[0].count(\")\")\n",
    "        rec_symbols.append(symbols.popleft())\n",
    "\n",
    "    rec_symbols[-1] = rec_symbols[-1][:-1]  # remove last \")\"\n",
    "    \n",
    "    return rec_symbols\n",
    "\n",
    "\n",
    "def recursive_mult(symbols: Deque[str]) -> Deque[str]:\n",
    "    rec_symbols = collections.deque()\n",
    "    open_parens = 0\n",
    "    \n",
    "    while symbols and (symbols[0] != \"*\" or open_parens > 0):\n",
    "        open_parens += symbols[0].count(\"(\")\n",
    "        open_parens -= symbols[0].count(\")\")\n",
    "        \n",
    "        rec_symbols.append(symbols.popleft())\n",
    "    return rec_symbols\n",
    "\n",
    "\n",
    "def evaluate(symbols: Deque[str]) -> int:\n",
    "    result = 0\n",
    "    operator = \"+\"\n",
    "    \n",
    "    while symbols:\n",
    "        if symbols[0].startswith(\"(\"):\n",
    "            rec_symbols = recursive_parens(symbols)\n",
    "            value = evaluate(rec_symbols)\n",
    "        \n",
    "        elif symbols[0] == \"+\":\n",
    "            operator = symbols.popleft()\n",
    "            continue\n",
    "        \n",
    "        elif symbols[0] == \"*\":\n",
    "            operator = symbols.popleft()\n",
    "            \n",
    "            rec_symbols = recursive_mult(symbols)\n",
    "            value = evaluate(rec_symbols)\n",
    "        \n",
    "        else:\n",
    "            value = int(symbols.popleft())\n",
    "        \n",
    "        if operator == \"+\":\n",
    "            result += value\n",
    "        elif operator == \"*\":\n",
    "            result *= value\n",
    "        else:\n",
    "            raise ValueError(\"Unknown error!\")\n",
    "            \n",
    "    return result"
   ]
  },
  {
   "cell_type": "code",
   "execution_count": 7,
   "metadata": {
    "scrolled": false
   },
   "outputs": [],
   "source": [
    "test_cases = [\n",
    "    (\"1 + 2 * 3 + 4 * 5 + 6\", 231),\n",
    "    (\"1 + (2 * 3) + (4 * (5 + 6))\", 51),\n",
    "    (\"2 * 3 + (4 * 5)\", 46),\n",
    "    (\"5 + (8 * 3 + 9 + 3 * 4 * 3)\", 1445),\n",
    "    (\"5 * 9 * (7 * 3 * 3 + 9 * 3 + (8 + 6 * 4))\", 669060),\n",
    "    (\"((2 + 4 * 9) * (6 + 9 * 8 + 6) + 6) + 2 + 4 * 2\", 23340),\n",
    "]\n",
    "\n",
    "for expression, answer in test_cases:\n",
    "    assert evaluate_expression(expression) == answer"
   ]
  },
  {
   "cell_type": "code",
   "execution_count": 8,
   "metadata": {},
   "outputs": [
    {
     "name": "stdout",
     "output_type": "stream",
     "text": [
      "Answer to Part 2: 145575710203332\n"
     ]
    }
   ],
   "source": [
    "total = sum([evaluate_expression(expr) for expr in expressions])\n",
    "\n",
    "print(\"Answer to Part 2:\", total)"
   ]
  },
  {
   "cell_type": "code",
   "execution_count": null,
   "metadata": {},
   "outputs": [],
   "source": []
  }
 ],
 "metadata": {
  "kernelspec": {
   "display_name": "Python 3",
   "language": "python",
   "name": "python3"
  },
  "language_info": {
   "codemirror_mode": {
    "name": "ipython",
    "version": 3
   },
   "file_extension": ".py",
   "mimetype": "text/x-python",
   "name": "python",
   "nbconvert_exporter": "python",
   "pygments_lexer": "ipython3",
   "version": "3.6.5"
  }
 },
 "nbformat": 4,
 "nbformat_minor": 2
}
