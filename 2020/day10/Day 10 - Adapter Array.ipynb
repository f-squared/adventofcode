{
 "cells": [
  {
   "cell_type": "code",
   "execution_count": 1,
   "metadata": {},
   "outputs": [],
   "source": [
    "import collections\n",
    "\n",
    "\n",
    "filename = \"day-10-input.txt\"\n",
    "\n",
    "with open(filename) as file:\n",
    "    adapters = [int(line.strip()) for line in file.readlines()]\n",
    "\n",
    "adapters.append(0)\n",
    "adapters.sort()\n",
    "adapters.append(adapters[-1]+3)"
   ]
  },
  {
   "cell_type": "markdown",
   "metadata": {},
   "source": [
    "# Part 1"
   ]
  },
  {
   "cell_type": "code",
   "execution_count": 2,
   "metadata": {},
   "outputs": [
    {
     "name": "stdout",
     "output_type": "stream",
     "text": [
      "Differences:\n",
      "\t1-jolt: 68\n",
      "\t3-jolt: 32\n",
      "\n",
      "Answer is: 68 * 32 = 2176\n"
     ]
    }
   ],
   "source": [
    "diffs = collections.defaultdict(int)\n",
    "for i in range(len(adapters)-1):\n",
    "    diffs[adapters[i+1]-adapters[i]] += 1\n",
    "    \n",
    "print('Differences:')\n",
    "for diff, count in diffs.items():\n",
    "    print(f\"\\t{diff}-jolt: {count}\")\n",
    "print()\n",
    "print(f\"Answer is: {diffs[1]} * {diffs[3]} = {diffs[1]*diffs[3]}\")"
   ]
  },
  {
   "cell_type": "markdown",
   "metadata": {},
   "source": [
    "# Part 2"
   ]
  },
  {
   "cell_type": "code",
   "execution_count": 3,
   "metadata": {
    "scrolled": true
   },
   "outputs": [
    {
     "name": "stdout",
     "output_type": "stream",
     "text": [
      "Answer is: 18512297918464\n"
     ]
    }
   ],
   "source": [
    "num_branches = {0: 1}  # adapter -> number of branches it appears in\n",
    "\n",
    "for adapter in adapters[1:]:\n",
    "    count = 0\n",
    "    for diff in (1, 2, 3):\n",
    "        if adapter-diff in num_branches:\n",
    "            count += num_branches[adapter-diff]\n",
    "    \n",
    "    num_branches[adapter] = count\n",
    "            \n",
    "print(f\"Answer is: {num_branches[adapters[-1]]}\")"
   ]
  },
  {
   "cell_type": "code",
   "execution_count": null,
   "metadata": {},
   "outputs": [],
   "source": []
  }
 ],
 "metadata": {
  "kernelspec": {
   "display_name": "Python 3",
   "language": "python",
   "name": "python3"
  },
  "language_info": {
   "codemirror_mode": {
    "name": "ipython",
    "version": 3
   },
   "file_extension": ".py",
   "mimetype": "text/x-python",
   "name": "python",
   "nbconvert_exporter": "python",
   "pygments_lexer": "ipython3",
   "version": "3.6.5"
  }
 },
 "nbformat": 4,
 "nbformat_minor": 2
}
