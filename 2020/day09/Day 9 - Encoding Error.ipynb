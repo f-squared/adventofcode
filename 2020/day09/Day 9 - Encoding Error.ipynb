{
 "cells": [
  {
   "cell_type": "code",
   "execution_count": 1,
   "metadata": {},
   "outputs": [],
   "source": [
    "import collections\n",
    "import itertools\n",
    "from typing import List\n",
    "\n",
    "\n",
    "def find_invalid_number(numbers: List[int], preamble_length: int) -> int:\n",
    "    combos = itertools.combinations(numbers[:preamble_length], 2)\n",
    "    \n",
    "    valid_sums = collections.defaultdict(dict)  # sum -> {a: b, b: a}\n",
    "    num_to_sums = collections.defaultdict(set)  # num -> sums\n",
    "    for a, b in combos:\n",
    "        valid_sums[a+b][a] = b\n",
    "        valid_sums[a+b][b] = a\n",
    "        num_to_sums[a].add(a+b)\n",
    "        num_to_sums[b].add(a+b)\n",
    "        \n",
    "    for i in range(preamble_length, len(numbers)):\n",
    "        # First, verify that this is a good number.\n",
    "        if numbers[i] not in valid_sums:\n",
    "            return numbers[i]\n",
    "        \n",
    "        # Bookkeep sum info.\n",
    "        num_to_remove = numbers[i-preamble_length]\n",
    "        for sum_ in num_to_sums[num_to_remove]:\n",
    "            counterpart = valid_sums[sum_].pop(num_to_remove)\n",
    "            valid_sums[sum_].pop(counterpart)\n",
    "            num_to_sums[counterpart].remove(sum_)\n",
    "            if len(valid_sums[sum_]) == 0:\n",
    "                valid_sums.pop(sum_)\n",
    "        num_to_sums.pop(num_to_remove)\n",
    "        \n",
    "        \n",
    "        num_to_add = numbers[i]\n",
    "        for other_num in numbers[i-preamble_length+1: i]:\n",
    "            sum_ = num_to_add+other_num\n",
    "            valid_sums[sum_][num_to_add] = other_num\n",
    "            valid_sums[sum_][other_num] = num_to_add\n",
    "            num_to_sums[num_to_add].add(sum_)\n",
    "            num_to_sums[other_num].add(sum_)\n"
   ]
  },
  {
   "cell_type": "markdown",
   "metadata": {},
   "source": [
    "# Part 1"
   ]
  },
  {
   "cell_type": "code",
   "execution_count": 2,
   "metadata": {},
   "outputs": [
    {
     "name": "stdout",
     "output_type": "stream",
     "text": [
      "Invalid number is: 15690279\n"
     ]
    }
   ],
   "source": [
    "filename = \"day-9-input.txt\"\n",
    "preamble_length = 25\n",
    "\n",
    "with open(filename) as file:\n",
    "    numbers = [int(line.strip()) for line in file.readlines()]\n",
    "\n",
    "invalid_number = find_invalid_number(numbers, preamble_length)\n",
    "print(\"Invalid number is:\", invalid_number)"
   ]
  },
  {
   "cell_type": "markdown",
   "metadata": {},
   "source": [
    "# Part 2"
   ]
  },
  {
   "cell_type": "code",
   "execution_count": 3,
   "metadata": {
    "scrolled": false
   },
   "outputs": [
    {
     "name": "stdout",
     "output_type": "stream",
     "text": [
      "2174232\n"
     ]
    }
   ],
   "source": [
    "# brute force\n",
    "for start, end in itertools.combinations(range(len(numbers)), 2):\n",
    "    if end-start <= 1:\n",
    "        continue\n",
    "    \n",
    "    if sum(numbers[start:end]) == invalid_number:\n",
    "        print(min(numbers[start:end]) + max(numbers[start:end]))\n",
    "        break"
   ]
  },
  {
   "cell_type": "code",
   "execution_count": null,
   "metadata": {},
   "outputs": [],
   "source": []
  }
 ],
 "metadata": {
  "kernelspec": {
   "display_name": "Python 3",
   "language": "python",
   "name": "python3"
  },
  "language_info": {
   "codemirror_mode": {
    "name": "ipython",
    "version": 3
   },
   "file_extension": ".py",
   "mimetype": "text/x-python",
   "name": "python",
   "nbconvert_exporter": "python",
   "pygments_lexer": "ipython3",
   "version": "3.6.5"
  }
 },
 "nbformat": 4,
 "nbformat_minor": 2
}
