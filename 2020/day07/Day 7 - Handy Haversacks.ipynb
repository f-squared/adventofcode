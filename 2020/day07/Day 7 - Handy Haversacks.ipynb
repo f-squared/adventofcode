{
 "cells": [
  {
   "cell_type": "code",
   "execution_count": 1,
   "metadata": {},
   "outputs": [],
   "source": [
    "from typing import Dict\n",
    "\n",
    "\n",
    "filename = \"day-7-input.txt\"\n",
    "\n",
    "class Bag:\n",
    "    \n",
    "    def __init__(self, rule: str):\n",
    "        self.color, contain_bags_raw = rule.split(\" bags contain \")\n",
    "        \n",
    "        self.contain_bags = {}\n",
    "        if \"no other bags\" in contain_bags_raw:\n",
    "            return\n",
    "        \n",
    "        for bag_info in contain_bags_raw.strip().strip(\".\").split(\", \"):\n",
    "            bag_info_split = bag_info.split()\n",
    "            num_bags = bag_info_split[0]\n",
    "            bag_color = \" \".join(bag_info_split[1:3])\n",
    "            self.contain_bags[bag_color] = int(num_bags)\n",
    "        \n",
    "                \n",
    "    def __repr__(self) -> str:\n",
    "        return f'Bag(color=\"{self.color}\", contain_bags=\"{self.contain_bags}\")'\n",
    "    \n",
    "    def contains_shiny_gold(self, bag_inventory: Dict[str, \"Bag\"]) -> bool:\n",
    "        if \"shiny gold\" in self.contain_bags:\n",
    "            return True\n",
    "        \n",
    "        for bag_color in self.contain_bags:\n",
    "            bag = bag_inventory[bag_color]\n",
    "            if bag.contains_shiny_gold(bag_inventory):\n",
    "                return True\n",
    "            \n",
    "        return False\n",
    "    \n",
    "    def total_contained_bags(self, bag_inventory: Dict[str, \"Bag\"]) -> int:\n",
    "        total_count = 0\n",
    "        for bag_color, count in self.contain_bags.items():\n",
    "            bag = bag_inventory[bag_color]\n",
    "            total_count += count\n",
    "            total_count += bag.total_contained_bags(bag_inventory) * count\n",
    "            \n",
    "        return total_count\n",
    "        \n",
    "\n",
    "# bag color -> bag object\n",
    "bag_inventory = {}\n",
    "\n",
    "with open(filename) as file:\n",
    "    for rule in file.readlines():\n",
    "        bag = Bag(rule)\n",
    "        bag_inventory[bag.color] = bag"
   ]
  },
  {
   "cell_type": "markdown",
   "metadata": {},
   "source": [
    "# Part 1"
   ]
  },
  {
   "cell_type": "code",
   "execution_count": 2,
   "metadata": {},
   "outputs": [
    {
     "name": "stdout",
     "output_type": "stream",
     "text": [
      "355 bags can contain shiny gold bag(s).\n"
     ]
    }
   ],
   "source": [
    "# brute force\n",
    "can_contain_shiny_gold = 0\n",
    "for bag in bag_inventory.values():\n",
    "    if bag.contains_shiny_gold(bag_inventory):\n",
    "        can_contain_shiny_gold += 1\n",
    "        \n",
    "print(f\"{can_contain_shiny_gold} bags can contain shiny gold bag(s).\")"
   ]
  },
  {
   "cell_type": "markdown",
   "metadata": {},
   "source": [
    "# Part 2"
   ]
  },
  {
   "cell_type": "code",
   "execution_count": 3,
   "metadata": {},
   "outputs": [
    {
     "name": "stdout",
     "output_type": "stream",
     "text": [
      "A single shiny gold bag must contain 5312 other bags.\n"
     ]
    }
   ],
   "source": [
    "shiny_gold_bag = bag_inventory[\"shiny gold\"]\n",
    "answer = shiny_gold_bag.total_contained_bags(bag_inventory)\n",
    "\n",
    "print(f\"A single shiny gold bag must contain {answer} other bags.\")"
   ]
  },
  {
   "cell_type": "code",
   "execution_count": null,
   "metadata": {},
   "outputs": [],
   "source": []
  }
 ],
 "metadata": {
  "kernelspec": {
   "display_name": "Python 3",
   "language": "python",
   "name": "python3"
  },
  "language_info": {
   "codemirror_mode": {
    "name": "ipython",
    "version": 3
   },
   "file_extension": ".py",
   "mimetype": "text/x-python",
   "name": "python",
   "nbconvert_exporter": "python",
   "pygments_lexer": "ipython3",
   "version": "3.6.5"
  }
 },
 "nbformat": 4,
 "nbformat_minor": 2
}
