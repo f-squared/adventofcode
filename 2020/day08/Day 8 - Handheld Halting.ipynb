{
 "cells": [
  {
   "cell_type": "code",
   "execution_count": 1,
   "metadata": {},
   "outputs": [],
   "source": [
    "from typing import List, Set\n",
    "\n",
    "\n",
    "class Instruction:\n",
    "    \n",
    "    def __init__(self, raw: str):\n",
    "        self.operation, raw_argument = raw.strip().split()\n",
    "        self.argument = int(raw_argument)"
   ]
  },
  {
   "cell_type": "code",
   "execution_count": 2,
   "metadata": {},
   "outputs": [],
   "source": [
    "filename = \"day-8-input.txt\"\n",
    "        \n",
    "with open(filename) as file:\n",
    "    instructions = [Instruction(entry) for entry in file.readlines()]"
   ]
  },
  {
   "cell_type": "markdown",
   "metadata": {},
   "source": [
    "# Part 1"
   ]
  },
  {
   "cell_type": "code",
   "execution_count": 3,
   "metadata": {},
   "outputs": [
    {
     "name": "stdout",
     "output_type": "stream",
     "text": [
      "Accumulator value: 1675\n"
     ]
    }
   ],
   "source": [
    "accumulator = 0\n",
    "\n",
    "position = 0\n",
    "visited_positions = set()\n",
    "\n",
    "while position not in visited_positions:\n",
    "    visited_positions.add(position)\n",
    "    instruction = instructions[position]\n",
    "    \n",
    "    if instruction.operation == \"acc\":\n",
    "        accumulator += instruction.argument\n",
    "    \n",
    "    if instruction.operation == \"jmp\":\n",
    "        position += instruction.argument\n",
    "    else:\n",
    "        position += 1\n",
    "\n",
    "print(\"Accumulator value:\", accumulator)"
   ]
  },
  {
   "cell_type": "markdown",
   "metadata": {},
   "source": [
    "# Part 2"
   ]
  },
  {
   "cell_type": "code",
   "execution_count": 4,
   "metadata": {},
   "outputs": [],
   "source": [
    "def visit(instructions: List[Instruction], \n",
    "          position: int, \n",
    "          accumulator: int, \n",
    "          visited_positions: Set[int]) -> (bool, int):\n",
    "    \"\"\"\n",
    "    Return values:\n",
    "    - True if the program is able to terminate, False otherwise.\n",
    "    - Value of accumulator at termination or right before loop restarts.\n",
    "    \"\"\"\n",
    "    \n",
    "    while position < len(instructions):\n",
    "        if position in visited_positions:\n",
    "            return False, accumulator\n",
    "    \n",
    "        visited_positions.add(position)\n",
    "        instruction = instructions[position]\n",
    "\n",
    "        if instruction.operation == \"acc\":\n",
    "            accumulator += instruction.argument\n",
    "\n",
    "        if instruction.operation == \"jmp\":\n",
    "            position += instruction.argument\n",
    "        else:\n",
    "            position += 1\n",
    "            \n",
    "    return True, accumulator\n",
    "\n",
    "# P.S. This will now provide the answer to Part 1:\n",
    "# visit(instructions, 0, 0, set())"
   ]
  },
  {
   "cell_type": "code",
   "execution_count": 5,
   "metadata": {
    "scrolled": false
   },
   "outputs": [
    {
     "name": "stdout",
     "output_type": "stream",
     "text": [
      "Accumulator value: 1532\n"
     ]
    }
   ],
   "source": [
    "accumulator = 0\n",
    "\n",
    "position = 0\n",
    "visited_positions = set()\n",
    "\n",
    "while position < len(instructions):\n",
    "    visited_positions.add(position)\n",
    "    instruction = instructions[position]\n",
    "    \n",
    "    if instruction.operation == \"nop\":\n",
    "        # Pretend this was a jump and visit next instruction\n",
    "        terminated, final_acc = visit(\n",
    "            instructions, \n",
    "            position+instruction.argument, \n",
    "            accumulator,\n",
    "            set(visited_positions)\n",
    "        )\n",
    "        if terminated:\n",
    "            print(\"Accumulator value:\", final_acc)\n",
    "            break\n",
    "    \n",
    "    if instruction.operation == \"acc\":\n",
    "        accumulator += instruction.argument\n",
    "    \n",
    "    if instruction.operation == \"jmp\":\n",
    "        # Pretend this was a nop and visit next instruction\n",
    "        terminated, final_acc = visit(\n",
    "            instructions, \n",
    "            position+1, \n",
    "            accumulator,\n",
    "            set(visited_positions)\n",
    "        )\n",
    "        if terminated:\n",
    "            print(\"Accumulator value:\", final_acc)\n",
    "            break\n",
    "        \n",
    "        position += instruction.argument\n",
    "    else:\n",
    "        position += 1\n"
   ]
  },
  {
   "cell_type": "code",
   "execution_count": null,
   "metadata": {},
   "outputs": [],
   "source": []
  }
 ],
 "metadata": {
  "kernelspec": {
   "display_name": "Python 3",
   "language": "python",
   "name": "python3"
  },
  "language_info": {
   "codemirror_mode": {
    "name": "ipython",
    "version": 3
   },
   "file_extension": ".py",
   "mimetype": "text/x-python",
   "name": "python",
   "nbconvert_exporter": "python",
   "pygments_lexer": "ipython3",
   "version": "3.6.5"
  }
 },
 "nbformat": 4,
 "nbformat_minor": 2
}
