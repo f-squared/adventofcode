{
 "cells": [
  {
   "cell_type": "markdown",
   "metadata": {},
   "source": [
    "# Part 1"
   ]
  },
  {
   "cell_type": "code",
   "execution_count": 1,
   "metadata": {},
   "outputs": [
    {
     "name": "stdout",
     "output_type": "stream",
     "text": [
      "649 * 1371 = 889779\n"
     ]
    }
   ],
   "source": [
    "filename = \"day-1-report-repair-input.txt\"\n",
    "\n",
    "with open(filename) as file:\n",
    "    entries = {int(entry.strip()) for entry in file.readlines()}\n",
    "    \n",
    "for entry in entries:\n",
    "    if 2020 - entry in entries:\n",
    "        print(f\"{entry} * {2020-entry} = {entry*(2020-entry)}\")\n",
    "        break"
   ]
  },
  {
   "cell_type": "markdown",
   "metadata": {},
   "source": [
    "# Part 2"
   ]
  },
  {
   "cell_type": "code",
   "execution_count": 2,
   "metadata": {},
   "outputs": [
    {
     "name": "stdout",
     "output_type": "stream",
     "text": [
      "128 * 398 * 1494 = 76110336\n"
     ]
    }
   ],
   "source": [
    "from itertools import combinations\n",
    "\n",
    "filename = \"day-1-report-repair-input.txt\"\n",
    "\n",
    "with open(filename) as file:\n",
    "    entries = {int(entry.strip()) for entry in file.readlines()}\n",
    "\n",
    "for combo in combinations(entries, 2):\n",
    "    difference = 2020 - sum(combo)\n",
    "    if difference in entries:\n",
    "        print(f\"{combo[0]} * {combo[1]} * {difference} = {combo[0]*combo[1]*difference}\")\n",
    "        break"
   ]
  },
  {
   "cell_type": "code",
   "execution_count": null,
   "metadata": {},
   "outputs": [],
   "source": []
  }
 ],
 "metadata": {
  "kernelspec": {
   "display_name": "Python 3",
   "language": "python",
   "name": "python3"
  },
  "language_info": {
   "codemirror_mode": {
    "name": "ipython",
    "version": 3
   },
   "file_extension": ".py",
   "mimetype": "text/x-python",
   "name": "python",
   "nbconvert_exporter": "python",
   "pygments_lexer": "ipython3",
   "version": "3.6.5"
  }
 },
 "nbformat": 4,
 "nbformat_minor": 2
}
