{
 "cells": [
  {
   "cell_type": "code",
   "execution_count": 1,
   "metadata": {},
   "outputs": [],
   "source": [
    "from typing import NamedTuple, Callable, List\n",
    "\n",
    "\n",
    "class PasswordPolicy(NamedTuple):\n",
    "    letter: str\n",
    "    min_num: int\n",
    "    max_num:int\n",
    "\n",
    "\n",
    "class PasswordInfo(NamedTuple):\n",
    "    policy: str\n",
    "    password: str\n",
    "\n",
    "\n",
    "filename = \"day-2-input.txt\"\n",
    "\n",
    "with open(filename) as file:\n",
    "    entries = [line.strip().split(\": \") for line in file.readlines()]\n",
    "    password_infos = []\n",
    "    for entry in entries:\n",
    "        nums, letter = entry[0].split()\n",
    "        min_num, max_num = [int(num) for num in nums.split(\"-\")]\n",
    "        password_infos.append(\n",
    "            PasswordInfo(\n",
    "                policy=PasswordPolicy(letter=letter, min_num=min_num, max_num=max_num),\n",
    "                password=entry[1]\n",
    "            )\n",
    "        )\n",
    "\n",
    "def count_valid_passwords(validation_func: Callable[[PasswordPolicy, str], bool], \n",
    "                          password_infos: List[PasswordInfo]) -> int:\n",
    "    num_valid_passwords = 0\n",
    "    for policy, password in password_infos:\n",
    "        if validation_func(policy, password):\n",
    "            num_valid_passwords += 1\n",
    "        \n",
    "    return num_valid_passwords"
   ]
  },
  {
   "cell_type": "markdown",
   "metadata": {},
   "source": [
    "# Part 1"
   ]
  },
  {
   "cell_type": "code",
   "execution_count": 2,
   "metadata": {},
   "outputs": [
    {
     "name": "stdout",
     "output_type": "stream",
     "text": [
      "Number of valid passwords: 460\n"
     ]
    }
   ],
   "source": [
    "def is_valid_password_part1(policy: PasswordPolicy, password: str) -> bool:\n",
    "    occurrences = password.count(policy.letter)\n",
    "    return policy.min_num <= occurrences <= policy.max_num\n",
    "\n",
    "print(\"Number of valid passwords:\", count_valid_passwords(is_valid_password_part1, password_infos))"
   ]
  },
  {
   "cell_type": "markdown",
   "metadata": {},
   "source": [
    "# Part 2"
   ]
  },
  {
   "cell_type": "code",
   "execution_count": 3,
   "metadata": {},
   "outputs": [
    {
     "name": "stdout",
     "output_type": "stream",
     "text": [
      "Number of valid passwords: 251\n"
     ]
    }
   ],
   "source": [
    "def is_valid_password_part2(policy: PasswordPolicy, password: str) -> bool:\n",
    "    # Toboggan Corporate Policies have no concept of \"index zero\"\n",
    "    first_pos = password[policy.min_num-1] == policy.letter\n",
    "    second_pos = password[policy.max_num-1] == policy.letter\n",
    "    \n",
    "    return first_pos ^ second_pos\n",
    "\n",
    "print(\"Number of valid passwords:\", count_valid_passwords(is_valid_password_part2, password_infos))"
   ]
  },
  {
   "cell_type": "code",
   "execution_count": null,
   "metadata": {},
   "outputs": [],
   "source": []
  }
 ],
 "metadata": {
  "kernelspec": {
   "display_name": "Python 3",
   "language": "python",
   "name": "python3"
  },
  "language_info": {
   "codemirror_mode": {
    "name": "ipython",
    "version": 3
   },
   "file_extension": ".py",
   "mimetype": "text/x-python",
   "name": "python",
   "nbconvert_exporter": "python",
   "pygments_lexer": "ipython3",
   "version": "3.6.5"
  }
 },
 "nbformat": 4,
 "nbformat_minor": 2
}
