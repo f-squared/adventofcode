{
 "cells": [
  {
   "cell_type": "markdown",
   "metadata": {},
   "source": [
    "This solution takes advantage of [cube coordinates](https://www.redblobgames.com/grids/hexagons/#coordinates-cube)."
   ]
  },
  {
   "cell_type": "code",
   "execution_count": 1,
   "metadata": {},
   "outputs": [],
   "source": [
    "import collections\n",
    "from typing import List, Tuple\n",
    "\n",
    "\n",
    "MOVE = {\n",
    "    \"e\": (1, -1, 0),\n",
    "    \"se\": (0, -1, 1),\n",
    "    \"sw\": (-1, 0, 1),\n",
    "    \"w\": (-1, 1, 0),\n",
    "    \"nw\": (0, 1, -1),\n",
    "    \"ne\": (1, 0, -1),\n",
    "}\n",
    "\n",
    "def parse_directions(raw_dirs: str) -> List[str]:\n",
    "    directions = []\n",
    "    \n",
    "    i = 0\n",
    "    while i < len(raw_dirs):\n",
    "        if raw_dirs[i] in [\"s\", \"n\"]:\n",
    "            directions.append(raw_dirs[i:i+2])\n",
    "            i += 2\n",
    "        elif raw_dirs[i] in [\"e\", \"w\"]:\n",
    "            directions.append(raw_dirs[i])\n",
    "            i += 1\n",
    "        else:\n",
    "            raise ValueError(\"Unexpected direction!\")\n",
    "            \n",
    "    return directions\n"
   ]
  },
  {
   "cell_type": "code",
   "execution_count": 2,
   "metadata": {},
   "outputs": [],
   "source": [
    "filename = \"day-24-input.txt\""
   ]
  },
  {
   "cell_type": "markdown",
   "metadata": {},
   "source": [
    "# Part 1"
   ]
  },
  {
   "cell_type": "code",
   "execution_count": 3,
   "metadata": {},
   "outputs": [],
   "source": [
    "with open(filename) as file:\n",
    "    directions_list = [parse_directions(line.strip()) \n",
    "                       for line in file.readlines()]"
   ]
  },
  {
   "cell_type": "code",
   "execution_count": 4,
   "metadata": {},
   "outputs": [
    {
     "name": "stdout",
     "output_type": "stream",
     "text": [
      "The number of black tiles is: 528\n"
     ]
    }
   ],
   "source": [
    "# Maps (x, y, z) coordinate -> num flips\n",
    "tiles = collections.defaultdict(int)\n",
    "\n",
    "for directions in directions_list:\n",
    "    # Travel to correct tile\n",
    "    x, y, z = (0, 0, 0)  # Always start at origin\n",
    "    for d in directions:\n",
    "        assert d in ['e', 'se', 'sw', 'w', 'nw', 'ne']\n",
    "        \n",
    "        dx, dy, dz = MOVE[d]\n",
    "        x, y, z = x+dx, y+dy, z+dz\n",
    "        \n",
    "    # Flip the tile color\n",
    "    tiles[(x, y, z)] += 1\n",
    "\n",
    "    \n",
    "def count_black(tiles: dict) -> int:\n",
    "    num_black = 0\n",
    "    for _coord, flips in tiles.items():\n",
    "        if flips % 2 == 1:\n",
    "            num_black += 1\n",
    "    return num_black\n",
    "\n",
    "\n",
    "print(\"The number of black tiles is:\", count_black(tiles))"
   ]
  },
  {
   "cell_type": "markdown",
   "metadata": {},
   "source": [
    "# Part 2"
   ]
  },
  {
   "cell_type": "code",
   "execution_count": 5,
   "metadata": {},
   "outputs": [],
   "source": [
    "def count_num_black_neighbors(coord: Tuple[int, int, int], tiles: dict) -> int:\n",
    "    x, y, z = coord\n",
    "    count = 0\n",
    "    for dx, dy, dz in MOVE.values():\n",
    "        n_coord = (x+dx, y+dy, z+dz)\n",
    "        if n_coord in tiles and tiles[n_coord] % 2 == 1:\n",
    "            count += 1\n",
    "    return count\n",
    "\n",
    "\n",
    "def coord_and_neighbors(coord: Tuple[int, int, int]) -> List[Tuple]:\n",
    "    coords = [coord]\n",
    "    x, y, z = coord\n",
    "    for dx, dy, dz in MOVE.values():\n",
    "        coords.append((x+dx, y+dy, z+dz))\n",
    "    return coords\n",
    "\n",
    "\n",
    "def advance(tiles: dict) -> dict:\n",
    "    updated_tiles = {}\n",
    "    \n",
    "    for orig_coord in tiles:\n",
    "        \n",
    "        # Visit this tile and its neighbors\n",
    "        for coord in coord_and_neighbors(orig_coord):\n",
    "            if coord in updated_tiles:\n",
    "                # already visited, can skip\n",
    "                continue\n",
    "            \n",
    "            num_black = count_num_black_neighbors(coord, tiles)\n",
    "            flips = tiles[coord] if coord in tiles else 0\n",
    "            # black tile\n",
    "            if flips % 2 == 1 and (num_black == 0 or num_black > 2):\n",
    "                updated_tiles[coord] = 0\n",
    "            # white tile\n",
    "            elif flips % 2 == 0 and (num_black == 2):\n",
    "                updated_tiles[coord] = 1\n",
    "            else:\n",
    "                updated_tiles[coord] = flips\n",
    "    return updated_tiles"
   ]
  },
  {
   "cell_type": "code",
   "execution_count": 6,
   "metadata": {
    "scrolled": true
   },
   "outputs": [
    {
     "name": "stdout",
     "output_type": "stream",
     "text": [
      "Day 1: 245\n",
      "Day 2: 322\n",
      "Day 3: 361\n",
      "Day 4: 414\n",
      "Day 5: 464\n",
      "Day 6: 461\n",
      "Day 7: 508\n",
      "Day 8: 519\n",
      "Day 9: 549\n",
      "Day 10: 516\n",
      "Day 20: 839\n",
      "Day 30: 1071\n",
      "Day 40: 1447\n",
      "Day 50: 1769\n",
      "Day 60: 2210\n",
      "Day 70: 2662\n",
      "Day 80: 3182\n",
      "Day 90: 3667\n",
      "Day 100: 4200\n"
     ]
    }
   ],
   "source": [
    "for i in range(1, 101):\n",
    "    tiles = advance(tiles)\n",
    "    if i <= 10 or i % 10 == 0:\n",
    "        print(f\"Day {i}:\", count_black(tiles))"
   ]
  },
  {
   "cell_type": "code",
   "execution_count": null,
   "metadata": {},
   "outputs": [],
   "source": []
  }
 ],
 "metadata": {
  "kernelspec": {
   "display_name": "Python 3",
   "language": "python",
   "name": "python3"
  },
  "language_info": {
   "codemirror_mode": {
    "name": "ipython",
    "version": 3
   },
   "file_extension": ".py",
   "mimetype": "text/x-python",
   "name": "python",
   "nbconvert_exporter": "python",
   "pygments_lexer": "ipython3",
   "version": "3.6.5"
  }
 },
 "nbformat": 4,
 "nbformat_minor": 2
}
