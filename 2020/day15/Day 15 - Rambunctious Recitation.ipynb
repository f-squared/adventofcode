{
 "cells": [
  {
   "cell_type": "code",
   "execution_count": 1,
   "metadata": {},
   "outputs": [],
   "source": [
    "from typing import List, Tuple\n",
    "\n",
    "\n",
    "class MemoryGame:\n",
    "    \n",
    "    def __init__(self, starting_numbers: List[int]):\n",
    "        # number -> turn number\n",
    "        self.most_recent = {}\n",
    "        self.prev_most_recent = {}\n",
    "        \n",
    "        self.turn = len(starting_numbers)\n",
    "        self.last_number = starting_numbers[-1]\n",
    "        \n",
    "        for idx, number in enumerate(starting_numbers):\n",
    "            self.most_recent[number] = idx+1\n",
    "            \n",
    "            \n",
    "        self.track_record = starting_numbers\n",
    "        \n",
    "    def advance(self) -> Tuple[int, int]:\n",
    "        \"\"\"Returns turn number and the number spoken for this turn.\"\"\"\n",
    "        if self.last_number not in self.prev_most_recent:\n",
    "            answer = 0\n",
    "        else:\n",
    "            answer = (self.most_recent[self.last_number] \n",
    "                      - self.prev_most_recent[self.last_number])\n",
    "        \n",
    "        self.last_number = answer\n",
    "        self.turn += 1\n",
    "        \n",
    "        if answer in self.most_recent:\n",
    "            self.prev_most_recent[answer] = self.most_recent[answer]\n",
    "        self.most_recent[answer] = self.turn\n",
    "        \n",
    "        self.track_record.append(answer)\n",
    "        \n",
    "        return self.turn, answer\n",
    "    \n",
    "#     def advance_to_turn_2020(self) -> int:\n",
    "#         while self.turn < 2020:\n",
    "#             self.advance()\n",
    "#         return self.last_number\n",
    "\n",
    "    def advance_to_turn(self, turn: int) -> int:\n",
    "        while self.turn < turn:\n",
    "            self.advance()\n",
    "        return self.last_number"
   ]
  },
  {
   "cell_type": "markdown",
   "metadata": {},
   "source": [
    "# Part 1"
   ]
  },
  {
   "cell_type": "code",
   "execution_count": 2,
   "metadata": {},
   "outputs": [],
   "source": [
    "test_cases = [\n",
    "    # starting numbers, 2020th spoken number\n",
    "    ([1,3,2], 1),\n",
    "    ([2,1,3], 10),\n",
    "    ([1,2,3], 27),\n",
    "    ([2,3,1], 78),\n",
    "    ([3,2,1], 438),\n",
    "    ([3,1,2], 1836),\n",
    "]\n",
    "\n",
    "for starting_numbers, answer in test_cases:\n",
    "    game = MemoryGame(starting_numbers)\n",
    "    assert game.advance_to_turn(2020) == answer"
   ]
  },
  {
   "cell_type": "code",
   "execution_count": 3,
   "metadata": {},
   "outputs": [
    {
     "name": "stdout",
     "output_type": "stream",
     "text": [
      "The 2020th number spoken is: 260\n"
     ]
    }
   ],
   "source": [
    "game = MemoryGame([13,0,10,12,1,5,8])\n",
    "print(\"The 2020th number spoken is:\", game.advance_to_turn(2020))"
   ]
  },
  {
   "cell_type": "markdown",
   "metadata": {},
   "source": [
    "# Part 2"
   ]
  },
  {
   "cell_type": "code",
   "execution_count": 4,
   "metadata": {},
   "outputs": [
    {
     "name": "stdout",
     "output_type": "stream",
     "text": [
      "The 30000000th number spoken is: 950\n",
      "\n",
      "CPU times: user 1min, sys: 1.22 s, total: 1min 1s\n",
      "Wall time: 1min 7s\n"
     ]
    }
   ],
   "source": [
    "%%time\n",
    "# hey, it still runs\n",
    "print(\"The 30000000th number spoken is:\", game.advance_to_turn(30000000))\n",
    "print()"
   ]
  },
  {
   "cell_type": "code",
   "execution_count": null,
   "metadata": {},
   "outputs": [],
   "source": []
  }
 ],
 "metadata": {
  "kernelspec": {
   "display_name": "Python 3",
   "language": "python",
   "name": "python3"
  },
  "language_info": {
   "codemirror_mode": {
    "name": "ipython",
    "version": 3
   },
   "file_extension": ".py",
   "mimetype": "text/x-python",
   "name": "python",
   "nbconvert_exporter": "python",
   "pygments_lexer": "ipython3",
   "version": "3.6.5"
  }
 },
 "nbformat": 4,
 "nbformat_minor": 2
}
