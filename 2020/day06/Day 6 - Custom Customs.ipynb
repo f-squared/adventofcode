{
 "cells": [
  {
   "cell_type": "code",
   "execution_count": 1,
   "metadata": {},
   "outputs": [],
   "source": [
    "filename = \"day-6-input.txt\"\n",
    "\n",
    "with open(filename) as file:\n",
    "    groups = file.read().split(\"\\n\\n\")"
   ]
  },
  {
   "cell_type": "markdown",
   "metadata": {},
   "source": [
    "# Part 1"
   ]
  },
  {
   "cell_type": "code",
   "execution_count": 2,
   "metadata": {},
   "outputs": [
    {
     "name": "stdout",
     "output_type": "stream",
     "text": [
      "Sum of yes counts: 6587\n"
     ]
    }
   ],
   "source": [
    "def count_anyone_yes(group: str) -> int:\n",
    "    answers = group.split()\n",
    "    yesses = set()\n",
    "    for answer in answers:\n",
    "        for char in answer:\n",
    "            yesses.add(char)\n",
    "    return len(yesses)\n",
    "\n",
    "\n",
    "yes_count = 0\n",
    "for group in groups:\n",
    "    yes_count += count_anyone_yes(group)\n",
    "\n",
    "print(\"Sum of yes counts:\", yes_count)"
   ]
  },
  {
   "cell_type": "markdown",
   "metadata": {},
   "source": [
    "# Part 2"
   ]
  },
  {
   "cell_type": "code",
   "execution_count": 3,
   "metadata": {},
   "outputs": [
    {
     "name": "stdout",
     "output_type": "stream",
     "text": [
      "Sum of yes counts: 3235\n"
     ]
    }
   ],
   "source": [
    "def count_everyone_yes(group: str) -> int:\n",
    "    answers = [set(entry) for entry in group.split()]\n",
    "    \n",
    "    yesses = answers[0]\n",
    "    \n",
    "    for answer in answers[1:]:\n",
    "        not_in = []\n",
    "        for char in yesses:\n",
    "            if char not in answer:\n",
    "                not_in.append(char)\n",
    "        \n",
    "        for char in not_in:\n",
    "            yesses.remove(char)\n",
    "        \n",
    "    return len(yesses)\n",
    "\n",
    "\n",
    "yes_count = 0\n",
    "for group in groups:\n",
    "    yes_count += count_everyone_yes(group)\n",
    "\n",
    "print(\"Sum of yes counts:\", yes_count)"
   ]
  },
  {
   "cell_type": "code",
   "execution_count": null,
   "metadata": {},
   "outputs": [],
   "source": []
  }
 ],
 "metadata": {
  "kernelspec": {
   "display_name": "Python 3",
   "language": "python",
   "name": "python3"
  },
  "language_info": {
   "codemirror_mode": {
    "name": "ipython",
    "version": 3
   },
   "file_extension": ".py",
   "mimetype": "text/x-python",
   "name": "python",
   "nbconvert_exporter": "python",
   "pygments_lexer": "ipython3",
   "version": "3.6.5"
  }
 },
 "nbformat": 4,
 "nbformat_minor": 2
}
