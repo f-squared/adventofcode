{
 "cells": [
  {
   "cell_type": "code",
   "execution_count": 1,
   "metadata": {},
   "outputs": [],
   "source": [
    "from typing import List\n",
    "\n",
    "\n",
    "class Geography:\n",
    "    \"\"\"Represents the peculiar geography of this tropical island.\"\"\"\n",
    "    \n",
    "    def __init__(self, tree_map_lines: List[str]):\n",
    "        # In this grid, True means there's a tree in the coordinate,\n",
    "        # otherwise False.\n",
    "        self.tree_grid = []\n",
    "        \n",
    "        for line in tree_map_lines:\n",
    "            row = []\n",
    "            for coord in line:\n",
    "                if coord == \"#\":\n",
    "                    row.append(True)\n",
    "                else:\n",
    "                    row.append(False)\n",
    "                    \n",
    "            self.tree_grid.append(row)\n",
    "        \n",
    "        self.pattern_num_cols = len(self.tree_grid[0])\n",
    "        self.num_rows = len(self.tree_grid)\n",
    "    \n",
    "    def is_tree_at_coord(self, row: int, col: int) -> bool:\n",
    "        \"\"\"True if there's a tree at this coordinate, False otherwise.\"\"\"\n",
    "        return self.tree_grid[row][col % self.pattern_num_cols]\n",
    "    \n",
    "    def count_trees_in_path(self, right: int, down: int) -> int:\n",
    "        num_trees = 0\n",
    "\n",
    "        row, col = down, right\n",
    "        while row < self.num_rows:\n",
    "            if self.is_tree_at_coord(row, col):\n",
    "                num_trees += 1\n",
    "            row += down\n",
    "            col += right\n",
    "\n",
    "        return num_trees\n",
    "\n",
    "\n",
    "filename = \"day-3-input.txt\"\n",
    "\n",
    "with open(filename) as file:\n",
    "    lines = [line.strip() for line in file.readlines()]\n",
    "    geography = Geography(lines)"
   ]
  },
  {
   "cell_type": "markdown",
   "metadata": {},
   "source": [
    "# Part 1"
   ]
  },
  {
   "cell_type": "code",
   "execution_count": 2,
   "metadata": {},
   "outputs": [
    {
     "data": {
      "text/plain": [
       "205"
      ]
     },
     "execution_count": 2,
     "metadata": {},
     "output_type": "execute_result"
    }
   ],
   "source": [
    "geography.count_trees_in_path(3, 1)"
   ]
  },
  {
   "cell_type": "markdown",
   "metadata": {},
   "source": [
    "# Part 2"
   ]
  },
  {
   "cell_type": "code",
   "execution_count": 3,
   "metadata": {},
   "outputs": [
    {
     "name": "stdout",
     "output_type": "stream",
     "text": [
      "3952146825\n"
     ]
    }
   ],
   "source": [
    "slopes = [\n",
    "    # right, down\n",
    "    (1, 1),\n",
    "    (3, 1),\n",
    "    (5, 1),\n",
    "    (7, 1),\n",
    "    (1, 2),\n",
    "]\n",
    "\n",
    "product = 1\n",
    "for right, down in slopes:\n",
    "    product *= geography.count_trees_in_path(right, down)\n",
    "    \n",
    "print(product)"
   ]
  },
  {
   "cell_type": "code",
   "execution_count": null,
   "metadata": {},
   "outputs": [],
   "source": []
  }
 ],
 "metadata": {
  "kernelspec": {
   "display_name": "Python 3",
   "language": "python",
   "name": "python3"
  },
  "language_info": {
   "codemirror_mode": {
    "name": "ipython",
    "version": 3
   },
   "file_extension": ".py",
   "mimetype": "text/x-python",
   "name": "python",
   "nbconvert_exporter": "python",
   "pygments_lexer": "ipython3",
   "version": "3.6.5"
  }
 },
 "nbformat": 4,
 "nbformat_minor": 2
}
