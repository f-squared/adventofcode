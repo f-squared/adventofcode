{
 "cells": [
  {
   "cell_type": "code",
   "execution_count": 1,
   "metadata": {},
   "outputs": [],
   "source": [
    "import math\n",
    "from typing import List, Union"
   ]
  },
  {
   "cell_type": "code",
   "execution_count": 2,
   "metadata": {},
   "outputs": [],
   "source": [
    "def parse_bus_ids(raw_bus_ids: str) -> List[Union[int, str]]:\n",
    "    bus_id_strs = raw_bus_ids.strip().split(\",\")\n",
    "    bus_ids = []\n",
    "    # lol\n",
    "    for bus_id in bus_id_strs:\n",
    "        if bus_id == \"x\":\n",
    "            bus_ids.append(bus_id)\n",
    "        else:\n",
    "            bus_ids.append(int(bus_id))\n",
    "    return bus_ids"
   ]
  },
  {
   "cell_type": "code",
   "execution_count": 3,
   "metadata": {},
   "outputs": [],
   "source": [
    "filename = \"day-13-input.txt\"\n",
    "\n",
    "with open(filename) as file:\n",
    "    lines = file.readlines()\n",
    "\n",
    "assert len(lines) == 2\n",
    "estimated_ts = int(lines[0].strip())\n",
    "bus_ids = parse_bus_ids(lines[1])"
   ]
  },
  {
   "cell_type": "markdown",
   "metadata": {},
   "source": [
    "# Part 1"
   ]
  },
  {
   "cell_type": "code",
   "execution_count": 4,
   "metadata": {},
   "outputs": [
    {
     "name": "stdout",
     "output_type": "stream",
     "text": [
      "Bus ID: 29\n",
      "Departure timestamp: 1001805\n",
      "Answer is: 29 * 7 = 203\n"
     ]
    }
   ],
   "source": [
    "earliest_ts = float(\"inf\")\n",
    "earliest_bus_id = -1\n",
    "\n",
    "for bus_id in bus_ids:\n",
    "    if bus_id == \"x\":\n",
    "        continue\n",
    "    ts_multiple = int(bus_id)\n",
    "    ts = math.ceil(estimated_ts / ts_multiple) * ts_multiple\n",
    "    \n",
    "    if ts < earliest_ts:\n",
    "        earliest_bus_id = ts_multiple\n",
    "        earliest_ts = ts\n",
    "\n",
    "print(\"Bus ID:\", earliest_bus_id)\n",
    "print(\"Departure timestamp:\", earliest_ts)\n",
    "ts_diff = earliest_ts - estimated_ts\n",
    "print(f\"Answer is: {earliest_bus_id} * {ts_diff} = {earliest_bus_id*ts_diff}\")"
   ]
  },
  {
   "cell_type": "markdown",
   "metadata": {},
   "source": [
    "# Part 2: Number Theory Method\n",
    "\n",
    "Wow, this required me to do some serious brushing up on Number Theory, which I am *really* rusty on.\n",
    "\n",
    "The solution here relies on all pairings of bus ids being co-prime (the next cell checks for this)."
   ]
  },
  {
   "cell_type": "code",
   "execution_count": 5,
   "metadata": {},
   "outputs": [],
   "source": [
    "# First, check that all the numbers are pairwise co-prime.\n",
    "\n",
    "import itertools\n",
    "\n",
    "\n",
    "def check_gcds(bus_ids):\n",
    "    bus_ids = [bus_id for bus_id in bus_ids if isinstance(bus_id, int)]\n",
    "    for combo in itertools.combinations(bus_ids, 2):\n",
    "        if math.gcd(*combo) != 1: \n",
    "            return False\n",
    "        \n",
    "    return True\n",
    "\n",
    "assert check_gcds(bus_ids)"
   ]
  },
  {
   "cell_type": "markdown",
   "metadata": {},
   "source": [
    "Once that's verified, we can use the [Chinese Remainder Theorem](https://en.wikipedia.org/wiki/Chinese_remainder_theorem) to figure out the appropriate timestamp. To get the final answer of timestamp $T$, we'd basically be solving this system of linear congruences:\n",
    "\n",
    "$$\\begin{align}\n",
    "  T - \\text{bus_index}_0 &\\equiv 0 \\pmod {\\text{bus_id}_0}\\\\\n",
    "  T - \\text{bus_index}_1 &\\equiv 0 \\pmod {\\text{bus_id}_1}\\\\\n",
    "  T - \\text{bus_index}_2 &\\equiv 0 \\pmod {\\text{bus_id}_2}\\\\\n",
    "  &\\,\\,\\,\\vdots\n",
    "\\end{align}$$\n",
    "\n",
    "This can be re-rwitten as:\n",
    "$$\\begin{align}\n",
    "  T &\\equiv -\\text{bus_index}_0 \\pmod {\\text{bus_id}_0}\\\\\n",
    "  T &\\equiv -\\text{bus_index}_1 \\pmod {\\text{bus_id}_1}\\\\\n",
    "  T &\\equiv -\\text{bus_index}_2 \\pmod {\\text{bus_id}_2}\\\\\n",
    "  &\\,\\,\\,\\vdots\n",
    "\\end{align}$$\n",
    "\n",
    "I can't say I've had the patience to read the Wikipedia article for the Chinese Remainder Theorem, but luckily I had notes about from my AoPS days... which I still spent a good chunk of my Sunday reading.\n",
    "\n",
    "In any case, here's the algorithm I used for the Chinese Remainder Theorem:\n",
    "\n",
    "1. For every congruence, find the product $P$ of all the other congruences' moduli (all the other $\\text{bus_id}$s). Then multiply $P$ by the multiplicative inverse of $P$ for this congruence's modulus and by the right side of the equation (I forget the mathematical term for it; it's equivalent to $-\\text{bus_index}_i$ in this problem).\n",
    "2. Add up all your results from step 1.\n",
    "3. Reduce step 2's result by modulo $Q$, where $Q$ is the product of all the moduli (in this case, all the $\\text{bus_id}$s).\n",
    "\n",
    "You can convince yourself this works by taking the *unreduced* addition expressions at step 2 (don't add the results from step 1 together and also keep the bus indices factored out in each product from step 1) and seeing what happens to every term when you reduce this expression by modulo $\\text{bus_id}$ for every $\\text{bus_id}$.\n",
    "\n",
    "(And if what I'm writing doesn't make sense... I'm not spending a whole lot of time on this explanation, so you'll need to find some other resource that does make sense for you. 🙂)"
   ]
  },
  {
   "cell_type": "code",
   "execution_count": 6,
   "metadata": {},
   "outputs": [],
   "source": [
    "def multiply_bus_ids(bus_ids: List[Union[int, str]], exclude_idx: int) -> int:\n",
    "    \"\"\"Multiplies non-x bus ids, with option to exclude a bus id.\"\"\"\n",
    "    product = 1\n",
    "    for idx, bus_id in enumerate(bus_ids):\n",
    "        if bus_id == \"x\" or idx == exclude_idx:\n",
    "            continue\n",
    "        product *= bus_id\n",
    "    return product"
   ]
  },
  {
   "cell_type": "code",
   "execution_count": 7,
   "metadata": {},
   "outputs": [],
   "source": [
    "def multiplicative_inverse(num: int, mod: int) -> int:\n",
    "    \"\"\"\n",
    "    The multiplicative inverse (b) of a mod m fulfills this expression:\n",
    "    ab ≡ 1 (mod m)\n",
    "    (If the symbol doesn't show up, it's the \"three lines\" sign similar to an equals sign.)\n",
    "    \"\"\"\n",
    "    # brute force, wheeeee!\n",
    "    for i in range(mod):\n",
    "        if num * i % mod == 1:\n",
    "            return i"
   ]
  },
  {
   "cell_type": "code",
   "execution_count": 8,
   "metadata": {},
   "outputs": [],
   "source": [
    "def find_timestamp(bus_ids: List[Union[int, str]]) -> int:\n",
    "    \n",
    "    answer = 0\n",
    "    \n",
    "    for idx, bus_id in enumerate(bus_ids):\n",
    "        if bus_id == \"x\":\n",
    "            continue\n",
    "        \n",
    "        other_ids_product = multiply_bus_ids(bus_ids, idx)\n",
    "        answer += -idx * other_ids_product * multiplicative_inverse(other_ids_product, bus_id)\n",
    "    \n",
    "    all_product = multiply_bus_ids(bus_ids, None)\n",
    "    \n",
    "    return answer % all_product"
   ]
  },
  {
   "cell_type": "markdown",
   "metadata": {},
   "source": [
    "### Test Cases:"
   ]
  },
  {
   "cell_type": "code",
   "execution_count": 9,
   "metadata": {
    "scrolled": false
   },
   "outputs": [
    {
     "name": "stdout",
     "output_type": "stream",
     "text": [
      "1068781 == 1068781\n",
      "3417 == 3417\n",
      "754018 == 754018\n",
      "779210 == 779210\n",
      "1261476 == 1261476\n",
      "1202161486 == 1202161486\n"
     ]
    }
   ],
   "source": [
    "test_cases = [\n",
    "    (\"7,13,x,x,59,x,31,19\", 1068781),\n",
    "    (\"17,x,13,19\", 3417),\n",
    "    (\"67,7,59,61\", 754018),\n",
    "    (\"67,x,7,59,61\", 779210),\n",
    "    (\"67,7,x,59,61\", 1261476),\n",
    "    (\"1789,37,47,1889\", 1202161486),\n",
    "]\n",
    "\n",
    "for bus_ids_str, answer in test_cases:\n",
    "    ts = find_timestamp(parse_bus_ids(bus_ids_str))\n",
    "    assert ts == answer\n",
    "    sign = \"==\" if ts == answer else \"!=\"\n",
    "    print(f\"{ts} {sign} {answer}\")"
   ]
  },
  {
   "cell_type": "markdown",
   "metadata": {},
   "source": [
    "### Actual Answer:"
   ]
  },
  {
   "cell_type": "code",
   "execution_count": 10,
   "metadata": {},
   "outputs": [
    {
     "name": "stdout",
     "output_type": "stream",
     "text": [
      "The earliest timestamp for Part 2 is: 905694340256752\n"
     ]
    }
   ],
   "source": [
    "print(\"The earliest timestamp for Part 2 is:\", find_timestamp(bus_ids))"
   ]
  },
  {
   "cell_type": "code",
   "execution_count": null,
   "metadata": {},
   "outputs": [],
   "source": []
  }
 ],
 "metadata": {
  "kernelspec": {
   "display_name": "Python 3",
   "language": "python",
   "name": "python3"
  },
  "language_info": {
   "codemirror_mode": {
    "name": "ipython",
    "version": 3
   },
   "file_extension": ".py",
   "mimetype": "text/x-python",
   "name": "python",
   "nbconvert_exporter": "python",
   "pygments_lexer": "ipython3",
   "version": "3.6.5"
  }
 },
 "nbformat": 4,
 "nbformat_minor": 2
}
