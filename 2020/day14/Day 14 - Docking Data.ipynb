{
 "cells": [
  {
   "cell_type": "code",
   "execution_count": 1,
   "metadata": {},
   "outputs": [],
   "source": [
    "filename = \"day-14-input.txt\"\n",
    "\n",
    "with open(filename) as file:\n",
    "    lines = [line.strip() for line in file.readlines()]"
   ]
  },
  {
   "cell_type": "code",
   "execution_count": 2,
   "metadata": {},
   "outputs": [],
   "source": [
    "# Adapted from Cracking the Coding Interview, because it's\n",
    "# early in the morning and I haven't had breakfast yet. :)\n",
    "\n",
    "def update_bit(num: int, i: int, bitIsOne: bool) -> int:\n",
    "    value = 1 if bitIsOne else 0\n",
    "    mask = ~(1 << i)\n",
    "    return (num & mask) | (value << i)\n",
    "    \n",
    "\n",
    "def set_bit(num: int, i: int) -> int:\n",
    "    return num | (1 << i)\n",
    "\n",
    "\n",
    "def clear_bit(num:  int, i: int) -> int:\n",
    "    mask = ~(1 << i)\n",
    "    return num & mask"
   ]
  },
  {
   "cell_type": "markdown",
   "metadata": {},
   "source": [
    "# Part 1"
   ]
  },
  {
   "cell_type": "code",
   "execution_count": 3,
   "metadata": {},
   "outputs": [],
   "source": [
    "def apply_mask(num: int, mask: str) -> int:\n",
    "    for idx, char in enumerate(mask):\n",
    "        if char == \"X\":\n",
    "            continue\n",
    "        \n",
    "        i = len(mask) - idx - 1        \n",
    "        if char == \"1\":\n",
    "            num = update_bit(num, i, True)\n",
    "        elif char == \"0\":\n",
    "            num = update_bit(num, i, False)\n",
    "        else:\n",
    "            print(mask)\n",
    "            raise ValueError(\"Unexpected mask character!\")\n",
    "    \n",
    "    return num"
   ]
  },
  {
   "cell_type": "code",
   "execution_count": 4,
   "metadata": {},
   "outputs": [
    {
     "name": "stdout",
     "output_type": "stream",
     "text": [
      "Sum of values left in memory: 13865835758282\n"
     ]
    }
   ],
   "source": [
    "memory = {}  # address -> value\n",
    "mask = \"\"\n",
    "\n",
    "for line in lines:\n",
    "    if line.startswith(\"mask\"):\n",
    "        mask = line.split(\" = \")[1].strip()\n",
    "        \n",
    "    else:\n",
    "        address = int(line.split(\"[\")[1].split(']')[0])\n",
    "        value = int(line.split(\" = \")[1].strip())\n",
    "        memory[address] = apply_mask(value, mask)\n",
    "\n",
    "print(\"Sum of values left in memory:\", sum(memory.values()))"
   ]
  },
  {
   "cell_type": "markdown",
   "metadata": {},
   "source": [
    "# Part 2"
   ]
  },
  {
   "cell_type": "code",
   "execution_count": 5,
   "metadata": {},
   "outputs": [],
   "source": [
    "from typing import List\n",
    "\n",
    "\n",
    "def get_addresses(address: int, mask: str) -> List[int]:\n",
    "    float_idxs = []\n",
    "    \n",
    "    for idx, char in enumerate(mask):\n",
    "        if char == \"0\":\n",
    "            continue\n",
    "        \n",
    "        i = len(mask) - idx - 1        \n",
    "        if char == \"1\":\n",
    "            address = set_bit(address, i)\n",
    "        elif char == \"X\":\n",
    "            float_idxs.append(i)\n",
    "        else:\n",
    "            print(mask)\n",
    "            raise ValueError(\"Unexpected mask character!\")\n",
    "\n",
    "    addresses = [address]\n",
    "    for float_idx in float_idxs:\n",
    "        new_addresses = []\n",
    "        for a in addresses:\n",
    "            new_addresses.append(set_bit(a, float_idx))\n",
    "            new_addresses.append(clear_bit(a, float_idx))\n",
    "        addresses = new_addresses\n",
    "\n",
    "    return addresses"
   ]
  },
  {
   "cell_type": "code",
   "execution_count": 6,
   "metadata": {},
   "outputs": [
    {
     "name": "stdout",
     "output_type": "stream",
     "text": [
      "Sum of values left in memory: 4195339838136\n"
     ]
    }
   ],
   "source": [
    "# copy-pasta to be quick this morning\n",
    "\n",
    "memory = {}  # address -> value\n",
    "mask = \"\"\n",
    "\n",
    "for line in lines:\n",
    "    if line.startswith(\"mask\"):\n",
    "        mask = line.split(\" = \")[1].strip()\n",
    "        \n",
    "    else:\n",
    "        address = int(line.split(\"[\")[1].split(']')[0])\n",
    "        value = int(line.split(\" = \")[1].strip())\n",
    "        for address in get_addresses(address, mask):\n",
    "            memory[address] = value\n",
    "\n",
    "print(\"Sum of values left in memory:\", sum(memory.values()))"
   ]
  },
  {
   "cell_type": "code",
   "execution_count": null,
   "metadata": {},
   "outputs": [],
   "source": []
  }
 ],
 "metadata": {
  "kernelspec": {
   "display_name": "Python 3",
   "language": "python",
   "name": "python3"
  },
  "language_info": {
   "codemirror_mode": {
    "name": "ipython",
    "version": 3
   },
   "file_extension": ".py",
   "mimetype": "text/x-python",
   "name": "python",
   "nbconvert_exporter": "python",
   "pygments_lexer": "ipython3",
   "version": "3.6.5"
  }
 },
 "nbformat": 4,
 "nbformat_minor": 2
}
