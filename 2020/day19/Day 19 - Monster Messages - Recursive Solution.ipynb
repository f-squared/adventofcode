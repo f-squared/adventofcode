{
 "cells": [
  {
   "cell_type": "markdown",
   "metadata": {},
   "source": [
    "A recursive solution to Day 19, Part 1 only. If I were less tired, I probably could've taken this to Part 2, but alas, I was pretty tired this day."
   ]
  },
  {
   "cell_type": "code",
   "execution_count": 1,
   "metadata": {
    "scrolled": true
   },
   "outputs": [],
   "source": [
    "from typing import List, Dict\n",
    "\n",
    "\n",
    "class Rule:\n",
    "    \n",
    "    def __init__(self, raw_rule: str):\n",
    "        self.sub_rule_lists = []\n",
    "        self.is_expanded = False\n",
    "        # The following attributes will be added outside of __init__\n",
    "        self.all_rules = None  # Dict: rule number -> \"super\" rule\n",
    "        self.allowed_messages = None\n",
    "        \n",
    "        for raw_sub_rule_list in raw_rule.split(\" | \"):\n",
    "            sub_rule_list = []\n",
    "            for sub_rule in raw_sub_rule_list.split():\n",
    "                if sub_rule in ['\"a\"', '\"b\"']:\n",
    "                    sub_rule_list.append(sub_rule[1:-1])\n",
    "                    self.is_expanded = True\n",
    "                else:\n",
    "                    sub_rule_list.append(int(sub_rule))\n",
    "\n",
    "            self.sub_rule_lists.append(sub_rule_list)\n",
    "\n",
    "    def __repr__(self) -> str:\n",
    "        return f\"{Rule}({self.sub_rule_lists}, is_expanded={self.is_expanded})\"\n",
    "    \n",
    "    def expand(self) -> None:\n",
    "        if self.is_expanded:\n",
    "            return\n",
    "        \n",
    "        if not self.all_rules:\n",
    "            raise AttributeError(\"Expecting `self.all_rules` to be set!\")\n",
    "        \n",
    "\n",
    "        new_sub_rule_lists = []\n",
    "        for sub_rule_list in self.sub_rule_lists:\n",
    "            expanded = [[]]\n",
    "            \n",
    "            for entry in sub_rule_list:\n",
    "                if entry == \"a\" or entry == \"b\":\n",
    "                    # base case\n",
    "                    additions = [[entry]]\n",
    "                else:\n",
    "                    sub_rule = self.all_rules[entry]\n",
    "                    sub_rule.expand()\n",
    "                    additions = sub_rule.sub_rule_lists\n",
    "            \n",
    "                new_expanded = []\n",
    "                for exp in expanded:\n",
    "                    for addition in additions:\n",
    "                        new_expanded.append(exp + addition)\n",
    "                expanded = new_expanded\n",
    "            \n",
    "            new_sub_rule_lists.extend(expanded)\n",
    "\n",
    "        self.is_expanded = True\n",
    "        self.sub_rule_lists = new_sub_rule_lists\n",
    "        \n",
    "    def is_match(self, message: str) -> bool:\n",
    "        self.expand()\n",
    "        if self.allowed_messages is None:\n",
    "            self.allowed_messages = set()\n",
    "            for sub_rule_list in self.sub_rule_lists:\n",
    "                self.allowed_messages.add(\"\".join(sub_rule_list))\n",
    "        \n",
    "        return message in self.allowed_messages\n",
    "\n",
    "\n",
    "def parse_rules(raw_rules: str) -> Dict[int, Rule]:\n",
    "    split_raw_rules = raw_rules.splitlines()\n",
    "    rules = {}\n",
    "    \n",
    "    for raw_rule in split_raw_rules:\n",
    "        number = int(raw_rule.split(\": \")[0])\n",
    "        rule = Rule(raw_rule.split(\": \")[1])\n",
    "        rules[number] = rule\n",
    "\n",
    "    for rule in rules.values():\n",
    "        rule.all_rules = rules\n",
    "    return rules"
   ]
  },
  {
   "cell_type": "markdown",
   "metadata": {},
   "source": [
    "# Part 1"
   ]
  },
  {
   "cell_type": "code",
   "execution_count": 2,
   "metadata": {
    "scrolled": true
   },
   "outputs": [
    {
     "name": "stdout",
     "output_type": "stream",
     "text": [
      "195 messages completely match rule 0.\n"
     ]
    }
   ],
   "source": [
    "filename = \"day-19-input.txt\"\n",
    "\n",
    "with open(filename) as file:\n",
    "    raw_rules, raw_messages = file.read().split(\"\\n\\n\")\n",
    "    \n",
    "rules = parse_rules(raw_rules)\n",
    "messages = raw_messages.splitlines()\n",
    "\n",
    "rule_zero = rules[0]\n",
    "rule_zero.expand()\n",
    "\n",
    "count = 0\n",
    "for message in messages:\n",
    "    if rule_zero.is_match(message):\n",
    "        count += 1\n",
    "\n",
    "print(f\"{count} messages completely match rule 0.\")"
   ]
  },
  {
   "cell_type": "code",
   "execution_count": null,
   "metadata": {},
   "outputs": [],
   "source": []
  }
 ],
 "metadata": {
  "kernelspec": {
   "display_name": "Python 3",
   "language": "python",
   "name": "python3"
  },
  "language_info": {
   "codemirror_mode": {
    "name": "ipython",
    "version": 3
   },
   "file_extension": ".py",
   "mimetype": "text/x-python",
   "name": "python",
   "nbconvert_exporter": "python",
   "pygments_lexer": "ipython3",
   "version": "3.6.5"
  }
 },
 "nbformat": 4,
 "nbformat_minor": 2
}
