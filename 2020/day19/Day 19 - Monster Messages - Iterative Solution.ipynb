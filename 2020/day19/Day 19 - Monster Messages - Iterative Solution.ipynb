{
 "cells": [
  {
   "cell_type": "code",
   "execution_count": 1,
   "metadata": {},
   "outputs": [],
   "source": [
    "from typing import List, Union, Set, Tuple, Dict\n",
    "\n",
    "class Part:\n",
    "    \"\"\"\n",
    "    Either a message or a sublist of rule numbers.\n",
    "    Examples:\n",
    "    - message:      part.content == \"a\"\n",
    "    - rule numbers: part.content == [1, 2, 3]\n",
    "    \"\"\"\n",
    "    \n",
    "    def __init__(self, values: List[Union[str, int]]):\n",
    "        self.is_message = True\n",
    "        \n",
    "        self.content = []\n",
    "        for value in values:\n",
    "            if isinstance(value, int):\n",
    "                self.is_message = False\n",
    "            self.content.append(value)\n",
    "        \n",
    "        if self.is_message:\n",
    "            self.content = \"\".join(self.content)\n",
    "                    \n",
    "    @classmethod\n",
    "    def from_raw(cls, raw_content: str):\n",
    "\n",
    "        if raw_content in ['\"a\"', '\"b\"']:\n",
    "            value = raw_content[1:-1]\n",
    "        else:\n",
    "            value = [int(entry) for entry in raw_content.split()]\n",
    "            \n",
    "        return cls(value)\n",
    "            \n",
    "    def __repr__(self):\n",
    "        return f\"Part({self.content})\"\n",
    "\n",
    "\n",
    "class Rule:\n",
    "    \n",
    "    def __init__(self, raw_rule: str):\n",
    "        self.number = int(raw_rule.split(\": \")[0])\n",
    "        self.parts = []\n",
    "        self.sub_rule_numbers = set()  # Keep track of which sub-rules are in this rule\n",
    "        \n",
    "        for sub_rule in raw_rule.split(\": \")[1].split(\" | \"):\n",
    "            part = Part.from_raw(sub_rule)\n",
    "            self.parts.append(part)\n",
    "            if not part.is_message:\n",
    "                for sub_rule_number in part.content:\n",
    "                    self.sub_rule_numbers.add(sub_rule_number)\n",
    "\n",
    "        self._allowed_messages = None  # Set of allowed messages; will be set later.\n",
    "\n",
    "    def __repr__(self) -> str:\n",
    "        return f\"{self.number:3}: {self.parts}\"\n",
    "\n",
    "    @property\n",
    "    def is_done(self):\n",
    "        return len(self.sub_rule_numbers) == 0\n",
    "    \n",
    "    @property\n",
    "    def allowed_messages(self):\n",
    "        if self._allowed_messages is not None:\n",
    "            return self._allowed_messages\n",
    "        \n",
    "        allowed_messages = set()\n",
    "        for part in self.parts:\n",
    "            if part.is_message:\n",
    "                allowed_messages.add(part.content)\n",
    "#             else:\n",
    "#                 raise Exception(\"Not ready to access allowed messages yet!\")\n",
    "        \n",
    "        self._allowed_messages = allowed_messages\n",
    "        return self._allowed_messages\n",
    "\n",
    "    def is_match(self, message: str) -> bool:        \n",
    "        return message in self.allowed_messages\n",
    "    \n",
    "    def replace(self, other_rule: \"Rule\") -> bool:\n",
    "        \"\"\"Returns whether or not this rule is done after the replacement\"\"\"\n",
    "        # other_rule's parts must be messages.\n",
    "        for part in other_rule.parts:\n",
    "            assert part.is_message\n",
    "        \n",
    "        if other_rule.number not in self.sub_rule_numbers:\n",
    "            # Nothing to replace here\n",
    "            return\n",
    "        \n",
    "        self.sub_rule_numbers.remove(other_rule.number)\n",
    "        updated_parts = []\n",
    "        \n",
    "        for part in self.parts:\n",
    "\n",
    "            if part.is_message:\n",
    "                # There are no rules to be replaced\n",
    "                updated_parts.append(part)\n",
    "                continue\n",
    "            \n",
    "            # Part still contains other rule numbers - replace them\n",
    "            new_contents = [[]]\n",
    "            for entry in part.content:\n",
    "                \n",
    "                if entry != other_rule.number:\n",
    "                    for new_content in new_contents:\n",
    "                        new_content.append(entry)\n",
    "                    continue\n",
    "                    \n",
    "                next_new_contents = []\n",
    "                \n",
    "                for new_content in new_contents:\n",
    "                    for other_part in other_rule.parts:\n",
    "                        next_new_contents.append(new_content + [other_part.content])\n",
    "                \n",
    "                new_contents = next_new_contents\n",
    "            \n",
    "            updated_parts.extend([Part(values) for values in new_contents])\n",
    "        self.parts = updated_parts\n",
    "        \n",
    "        return self.is_done\n",
    "\n",
    "def process_rules(raw_rules: str, is_part_two=False) -> Dict[int, Rule]:\n",
    "    rules = {}\n",
    "    ready_numbers = set()\n",
    "    for raw_rule in raw_rules.splitlines():\n",
    "        rule = Rule(raw_rule)\n",
    "        if rule.is_done:\n",
    "            ready_numbers.add(rule.number)\n",
    "        rules[rule.number] = rule\n",
    "        \n",
    "    if is_part_two:\n",
    "        rules[8] = Rule(\"8: 42 | 42 8\")\n",
    "        rules[11] = Rule(\"11: 42 31 | 42 11 31\")\n",
    "\n",
    "    while ready_numbers:\n",
    "        other_rule = rules[ready_numbers.pop()]\n",
    "\n",
    "        for rule in rules.values():\n",
    "            is_done = rule.replace(other_rule)\n",
    "            if is_done:\n",
    "                ready_numbers.add(rule.number)\n",
    "\n",
    "    return rules"
   ]
  },
  {
   "cell_type": "markdown",
   "metadata": {},
   "source": [
    "# Part 1\n",
    "This takes a while to run because it's making every possible message that would match Rule 0. I could make it faster (at minimum using Part 2 techniques), but I don't want to right now. :D"
   ]
  },
  {
   "cell_type": "code",
   "execution_count": 2,
   "metadata": {},
   "outputs": [
    {
     "name": "stdout",
     "output_type": "stream",
     "text": [
      "195 messages completely match rule 0.\n"
     ]
    }
   ],
   "source": [
    "filename = \"day-19-input.txt\"\n",
    "\n",
    "with open(filename) as file:\n",
    "    raw_rules, raw_messages = file.read().split(\"\\n\\n\")\n",
    "    \n",
    "messages = raw_messages.splitlines()\n",
    "\n",
    "rules = process_rules(raw_rules)\n",
    "rule_zero = rules[0]\n",
    "\n",
    "count = 0\n",
    "for message in messages:\n",
    "    if rule_zero.is_match(message):\n",
    "        count += 1\n",
    "\n",
    "print(f\"{count} messages completely match rule 0.\")"
   ]
  },
  {
   "cell_type": "markdown",
   "metadata": {},
   "source": [
    "# Part 2\n",
    "Takes advantage of the fact that Rule 0 is:\n",
    "```\n",
    "0: 8 11\n",
    "```\n",
    "and Rules 8 and 11 are:\n",
    "```\n",
    "8: 42 | 42 8\n",
    "11: 42 31 | 42 11 31\n",
    "```\n",
    "This is a lot faster than my current implementation of Part 1."
   ]
  },
  {
   "cell_type": "code",
   "execution_count": 3,
   "metadata": {},
   "outputs": [
    {
     "data": {
      "text/plain": [
       "  0: [Part([8, 11])]"
      ]
     },
     "execution_count": 3,
     "metadata": {},
     "output_type": "execute_result"
    }
   ],
   "source": [
    "filename = \"day-19-input.txt\"\n",
    "\n",
    "with open(filename) as file:\n",
    "    raw_rules, raw_messages = file.read().split(\"\\n\\n\")\n",
    "    \n",
    "messages = raw_messages.splitlines()\n",
    "\n",
    "rules = process_rules(raw_rules, is_part_two=True)\n",
    "rules[0]"
   ]
  },
  {
   "cell_type": "code",
   "execution_count": 4,
   "metadata": {},
   "outputs": [
    {
     "name": "stdout",
     "output_type": "stream",
     "text": [
      "8\n",
      "8\n"
     ]
    }
   ],
   "source": [
    "def get_match_lenth(rule: Rule) -> int:\n",
    "    lengths = set([len(message) for message in rule.allowed_messages])\n",
    "    assert len(lengths) == 1\n",
    "    result = lengths.pop()\n",
    "    print(result)\n",
    "    return result\n",
    "\n",
    "rule_42_match_length = get_match_lenth(rules[42])\n",
    "rule_31_match_length = get_match_lenth(rules[31])"
   ]
  },
  {
   "cell_type": "code",
   "execution_count": 5,
   "metadata": {
    "scrolled": false
   },
   "outputs": [
    {
     "name": "stdout",
     "output_type": "stream",
     "text": [
      "309 messages completely match rule 0.\n"
     ]
    }
   ],
   "source": [
    "def check_against_11(message) -> bool:\n",
    "    \"\"\"Returns True if it matches Rule 11. False otherwise.\"\"\"\n",
    "    \n",
    "    # If the message length is too short, we can reject it immediately.\n",
    "    if len(message) < rule_42_match_length + rule_31_match_length:\n",
    "        return False\n",
    "    \n",
    "    remainder = message\n",
    "    # Check beginning of message against Rule 42 and end of message against Rule 31\n",
    "    while (rules[42].is_match(remainder[:rule_42_match_length]) \n",
    "           and rules[31].is_match(remainder[-rule_31_match_length:])):\n",
    "        # Now we only need to check the middle of the message for the potential next iteration\n",
    "        remainder = remainder[rule_42_match_length:-rule_31_match_length]\n",
    "\n",
    "        # If we have nothing left to check, then we've found a match!\n",
    "        if len(remainder) == 0:\n",
    "            return True\n",
    "        \n",
    "        # If the remainder is too short, then we can reject now.\n",
    "        if len(remainder) < rule_42_match_length + rule_31_match_length:\n",
    "            return False\n",
    "\n",
    "count = 0\n",
    "for message in messages:\n",
    "    remainder = message\n",
    "    # Check beginning of message against Rule 8\n",
    "    while rules[42].is_match(remainder[:rule_42_match_length]):\n",
    "        # Now we only need to check the rest of the message against Rule 11\n",
    "        remainder = remainder[rule_42_match_length:]\n",
    "        if check_against_11(remainder):\n",
    "            count += 1\n",
    "            break\n",
    "        # If it doesn't match Rule 11, we try going through Rule 8 again.\n",
    "\n",
    "print(f\"{count} messages completely match rule 0.\")"
   ]
  }
 ],
 "metadata": {
  "kernelspec": {
   "display_name": "Python 3",
   "language": "python",
   "name": "python3"
  },
  "language_info": {
   "codemirror_mode": {
    "name": "ipython",
    "version": 3
   },
   "file_extension": ".py",
   "mimetype": "text/x-python",
   "name": "python",
   "nbconvert_exporter": "python",
   "pygments_lexer": "ipython3",
   "version": "3.6.5"
  }
 },
 "nbformat": 4,
 "nbformat_minor": 2
}
