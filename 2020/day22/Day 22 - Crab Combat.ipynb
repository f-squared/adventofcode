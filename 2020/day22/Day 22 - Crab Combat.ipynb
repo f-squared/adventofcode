{
 "cells": [
  {
   "cell_type": "code",
   "execution_count": 1,
   "metadata": {},
   "outputs": [],
   "source": [
    "filename = \"day-22-input.txt\""
   ]
  },
  {
   "cell_type": "markdown",
   "metadata": {},
   "source": [
    "# Part 1"
   ]
  },
  {
   "cell_type": "code",
   "execution_count": 2,
   "metadata": {},
   "outputs": [],
   "source": [
    "import collections\n",
    "\n",
    "\n",
    "class Game:\n",
    "    \n",
    "    def __init__(self, raw_input: str):\n",
    "        player_decks = raw_input.split(\"\\n\\n\")\n",
    "        \n",
    "        self.deck_1 = self.create_deck(player_decks[0])\n",
    "        self.deck_2 = self.create_deck(player_decks[1])\n",
    "        \n",
    "        self.is_over = False\n",
    "\n",
    "    @staticmethod\n",
    "    def create_deck(raw_deck: str):\n",
    "        return collections.deque([int(card) for card \n",
    "                in raw_deck.split(\"\\n\\n\")[0].split(\":\\n\")[1].split()])\n",
    "    \n",
    "    def play(self):\n",
    "        while not self.is_over:\n",
    "            self.advance()\n",
    "            \n",
    "    def advance(self):\n",
    "        card_1 = self.deck_1.popleft()\n",
    "        card_2 = self.deck_2.popleft()\n",
    "        \n",
    "        # Player 1 wins\n",
    "        if card_1 > card_2:\n",
    "            self.deck_1.append(card_1)\n",
    "            self.deck_1.append(card_2)\n",
    "        \n",
    "        # Player 2 wins\n",
    "        elif card_2 > card_1:\n",
    "            self.deck_2.append(card_2)\n",
    "            self.deck_2.append(card_1)\n",
    "        \n",
    "        else:\n",
    "            raise Exception(\"Unexpected move!\")\n",
    "        \n",
    "        # Check if game is over.\n",
    "        if len(self.deck_1) == 0 or len(self.deck_2) == 0:\n",
    "            self.is_over = True\n",
    "                \n",
    "    def winning_score(self):\n",
    "        assert self.is_over\n",
    "        \n",
    "        winning_deck = self.deck_1 if self.deck_1 else self.deck_2\n",
    "        \n",
    "        score = 0\n",
    "        for i, card in zip(range(len(winning_deck), 0, -1), winning_deck):\n",
    "            score += i * card\n",
    "        \n",
    "        return score"
   ]
  },
  {
   "cell_type": "code",
   "execution_count": 3,
   "metadata": {},
   "outputs": [
    {
     "data": {
      "text/plain": [
       "33403"
      ]
     },
     "execution_count": 3,
     "metadata": {},
     "output_type": "execute_result"
    }
   ],
   "source": [
    "with open(filename) as file:\n",
    "    game = Game(file.read())\n",
    "\n",
    "game.play()\n",
    "game.winning_score()"
   ]
  },
  {
   "cell_type": "markdown",
   "metadata": {},
   "source": [
    "# Part 2"
   ]
  },
  {
   "cell_type": "code",
   "execution_count": 4,
   "metadata": {},
   "outputs": [],
   "source": [
    "import collections\n",
    "from typing import List\n",
    "\n",
    "class Game:\n",
    "    \n",
    "    def __init__(self, deck_1: List[int], deck_2: List[int]):        \n",
    "        # make copies of decks\n",
    "        self.deck_1 = collections.deque(deck_1)\n",
    "        self.deck_2 = collections.deque(deck_2)\n",
    "        self.is_over = False\n",
    "        \n",
    "        self.configurations = set()\n",
    "        self.is_player_1_winner = False\n",
    "        \n",
    "    @classmethod\n",
    "    def from_raw(cls, raw_input: str):\n",
    "        raw_decks = raw_input.split(\"\\n\\n\")\n",
    "        \n",
    "        decks = []\n",
    "        for raw_deck in raw_decks:\n",
    "            deck = [\n",
    "                int(card) for card \n",
    "                in raw_deck.split(\"\\n\\n\")[0].split(\":\\n\")[1].split()\n",
    "            ]\n",
    "            decks.append(deck)\n",
    "        \n",
    "        return cls(decks[0], decks[1])\n",
    "    \n",
    "    def play(self):\n",
    "        while not self.is_over:\n",
    "            self.advance()\n",
    "        if not self.is_player_1_winner:\n",
    "            self.is_player_1_winner = len(self.deck_1) > 0\n",
    "            \n",
    "    def advance(self):\n",
    "        # Prevent infinite games of Recursive Combat\n",
    "        config = self.create_configuration()\n",
    "        if config in self.configurations:\n",
    "            # Player 1 wins the round\n",
    "            self.is_over = True\n",
    "            self.is_player_1_winner = True\n",
    "            return\n",
    "        \n",
    "        card_1 = self.deck_1.popleft()\n",
    "        card_2 = self.deck_2.popleft()\n",
    "        \n",
    "        self.configurations.add(config)\n",
    "        \n",
    "        # Case: play subgame to determine winner\n",
    "        if len(self.deck_1) >= card_1 and len(self.deck_2) >= card_2:\n",
    "            subgame = Game(\n",
    "                list(self.deck_1)[:card_1], \n",
    "                list(self.deck_2)[:card_2]\n",
    "            )\n",
    "            subgame.play()\n",
    "            if subgame.is_player_1_winner:\n",
    "                self.deck_1.append(card_1)\n",
    "                self.deck_1.append(card_2)\n",
    "            else:\n",
    "                self.deck_2.append(card_2)\n",
    "                self.deck_2.append(card_1)\n",
    "        \n",
    "        # Player 1 wins\n",
    "        elif card_1 > card_2:\n",
    "            self.deck_1.append(card_1)\n",
    "            self.deck_1.append(card_2)\n",
    "        \n",
    "        # Player 2 wins\n",
    "        elif card_2 > card_1:\n",
    "            self.deck_2.append(card_2)\n",
    "            self.deck_2.append(card_1)\n",
    "        \n",
    "        else:\n",
    "            raise Exception(\"Unexpected move!\")\n",
    "        \n",
    "        # Check if game is over.\n",
    "        if len(self.deck_1) == 0 or len(self.deck_2) == 0:\n",
    "            self.is_over = True\n",
    "    \n",
    "    def create_configuration(self):\n",
    "        return (\",\".join([str(c) for c in self.deck_1]) \n",
    "                + \"|\" \n",
    "                + \",\".join([str(c) for c in self.deck_1]))\n",
    "        \n",
    "    def winning_score(self):\n",
    "        assert self.is_over\n",
    "        \n",
    "        winning_deck = self.deck_1 if self.deck_1 else self.deck_2\n",
    "        \n",
    "        score = 0\n",
    "        for i, card in zip(range(len(winning_deck), 0, -1), winning_deck):\n",
    "            score += i * card\n",
    "        \n",
    "        return score\n"
   ]
  },
  {
   "cell_type": "code",
   "execution_count": 5,
   "metadata": {
    "scrolled": false
   },
   "outputs": [
    {
     "data": {
      "text/plain": [
       "29177"
      ]
     },
     "execution_count": 5,
     "metadata": {},
     "output_type": "execute_result"
    }
   ],
   "source": [
    "with open(filename) as file:\n",
    "    game = Game.from_raw(file.read())\n",
    "\n",
    "game.play()\n",
    "game.winning_score()"
   ]
  },
  {
   "cell_type": "code",
   "execution_count": null,
   "metadata": {},
   "outputs": [],
   "source": []
  }
 ],
 "metadata": {
  "kernelspec": {
   "display_name": "Python 3",
   "language": "python",
   "name": "python3"
  },
  "language_info": {
   "codemirror_mode": {
    "name": "ipython",
    "version": 3
   },
   "file_extension": ".py",
   "mimetype": "text/x-python",
   "name": "python",
   "nbconvert_exporter": "python",
   "pygments_lexer": "ipython3",
   "version": "3.6.5"
  }
 },
 "nbformat": 4,
 "nbformat_minor": 2
}
