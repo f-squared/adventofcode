{
 "cells": [
  {
   "cell_type": "code",
   "execution_count": 1,
   "metadata": {},
   "outputs": [],
   "source": [
    "import collections\n",
    "from typing import List, Set\n",
    "\n",
    "\n",
    "class TicketRule:\n",
    "    def __init__(self, raw_rule: str):\n",
    "        self.field, raw_ranges = raw_rule.strip().split(\": \")\n",
    "        self.valid_ranges = []\n",
    "        for raw_range in raw_ranges.split(\" or \"):\n",
    "            self.valid_ranges.append(tuple([int(n) for n in raw_range.split(\"-\")]))\n",
    "        \n",
    "    def __repr__(self):\n",
    "        return f\"TicketRule(field={self.field}, valid_ranges={self.valid_ranges})\"\n",
    "    \n",
    "    def is_valid_value(self, value: int) -> bool:\n",
    "        \"\"\"Determine whether value is valid for this ticket rule.\"\"\"\n",
    "        any_valid = False\n",
    "        \n",
    "        for valid_range in self.valid_ranges:\n",
    "            if valid_range[0] <= value <= valid_range[1]:\n",
    "                any_valid = True\n",
    "        \n",
    "        return any_valid\n",
    "    \n",
    "    def possible_positions(self, valid_tickets: List[\"Ticket\"]) -> Set[int]:\n",
    "        positions = [True for v in valid_tickets[0].values]\n",
    "        \n",
    "        for ticket in valid_tickets:\n",
    "            for i, value in enumerate(ticket.values):\n",
    "                if not self.is_valid_value(value):\n",
    "                    positions[i] = False\n",
    "                \n",
    "        return {i for i, p in enumerate(positions) if p}\n",
    "        \n",
    "        \n",
    "    \n",
    "class Ticket:\n",
    "    def __init__(self, raw_ticket):\n",
    "        self.values = [int(v) for v in raw_ticket.strip().split(\",\")]\n",
    "    \n",
    "    def __repr__(self):\n",
    "        return f\"Ticket(values={self.values})\"\n",
    "    \n",
    "    def error_rate_for_rules(self, rules: List[TicketRule]) -> int:\n",
    "        error_rate = 0\n",
    "        \n",
    "        for value in self.values:\n",
    "            is_valid = False\n",
    "                    \n",
    "            for rule in rules:\n",
    "                if rule.is_valid_value(value):\n",
    "                    is_valid = True\n",
    "                    \n",
    "            if not is_valid:\n",
    "                error_rate += value\n",
    "                \n",
    "        return error_rate\n",
    "    \n",
    "    def is_valid_for_rules(self, rules: List[TicketRule]) -> bool:\n",
    "        return self.error_rate_for_rules(rules) == 0"
   ]
  },
  {
   "cell_type": "code",
   "execution_count": 2,
   "metadata": {},
   "outputs": [],
   "source": [
    "filename = \"day-16-input.txt\"\n",
    "\n",
    "with open(filename) as file:\n",
    "    raw_rules, raw_my_ticket, raw_nearby_tickets = file.read().split(\"\\n\\n\")\n",
    "    \n",
    "rules = [TicketRule(raw_rule) for raw_rule in raw_rules.splitlines()]\n",
    "my_ticket = Ticket(raw_my_ticket.splitlines()[1])\n",
    "nearby_tickets = [Ticket(raw_ticket) for raw_ticket in raw_nearby_tickets.splitlines()[1:]]"
   ]
  },
  {
   "cell_type": "markdown",
   "metadata": {},
   "source": [
    "# Part 1"
   ]
  },
  {
   "cell_type": "code",
   "execution_count": 3,
   "metadata": {},
   "outputs": [
    {
     "name": "stdout",
     "output_type": "stream",
     "text": [
      "Ticket scanning error rate: 24980\n"
     ]
    }
   ],
   "source": [
    "error_rate = 0\n",
    "\n",
    "for ticket in nearby_tickets:\n",
    "    error_rate += ticket.error_rate_for_rules(rules)\n",
    "    \n",
    "print(\"Ticket scanning error rate:\", error_rate)"
   ]
  },
  {
   "cell_type": "markdown",
   "metadata": {},
   "source": [
    "# Part 2"
   ]
  },
  {
   "cell_type": "code",
   "execution_count": 4,
   "metadata": {},
   "outputs": [],
   "source": [
    "valid_tickets = [\n",
    "    ticket for ticket in nearby_tickets if ticket.is_valid_for_rules(rules)\n",
    "]"
   ]
  },
  {
   "cell_type": "code",
   "execution_count": 5,
   "metadata": {},
   "outputs": [
    {
     "name": "stdout",
     "output_type": "stream",
     "text": [
      "The answer to part 2 is: 809376774329\n"
     ]
    }
   ],
   "source": [
    "# index -> set of field names\n",
    "position_to_field = collections.defaultdict(set)\n",
    "# field name -> possible indices\n",
    "field_to_positions = {}\n",
    "\n",
    "for rule in rules:\n",
    "    positions = rule.possible_positions(valid_tickets)\n",
    "    for pos in positions:\n",
    "        position_to_field[pos].add(rule.field)\n",
    "    field_to_positions[rule.field] = positions\n",
    "\n",
    "# Narrow down constraints\n",
    "# Note: the two dicts above are going to get mutated\n",
    "num_determined_fields = 0\n",
    "num_fields = len(field_to_positions)\n",
    "\n",
    "final_positions = [\"\" for i in range(num_fields)]\n",
    "while num_determined_fields < num_fields:\n",
    "    \n",
    "    # Find field that has clear position\n",
    "    for field, positions in field_to_positions.items():\n",
    "        if len(positions) == 1:\n",
    "            break\n",
    "    \n",
    "    # Bookkeep -- mutating the two dicts.\n",
    "    pos = positions.pop()\n",
    "    field_to_positions.pop(field)\n",
    "    position_to_field[pos].remove(field)\n",
    "    \n",
    "    final_positions[pos] = field\n",
    "    num_determined_fields += 1\n",
    "    \n",
    "    \n",
    "    for other_field in position_to_field[pos]:\n",
    "        field_to_positions[other_field].remove(pos)\n",
    "        if len(field_to_positions[other_field]) == 0:\n",
    "            field_to_positions.pop(other_field)\n",
    "            \n",
    "    position_to_field.pop(pos)\n",
    "    \n",
    "# Now that we've determined the field positions,\n",
    "# we can analyze our ticket.\n",
    "product = 1\n",
    "for value, field in zip(my_ticket.values, final_positions):\n",
    "    if field.startswith(\"departure\"):\n",
    "        product *= value\n",
    "        \n",
    "print(\"The answer to part 2 is:\", product)"
   ]
  },
  {
   "cell_type": "code",
   "execution_count": null,
   "metadata": {},
   "outputs": [],
   "source": []
  }
 ],
 "metadata": {
  "kernelspec": {
   "display_name": "Python 3",
   "language": "python",
   "name": "python3"
  },
  "language_info": {
   "codemirror_mode": {
    "name": "ipython",
    "version": 3
   },
   "file_extension": ".py",
   "mimetype": "text/x-python",
   "name": "python",
   "nbconvert_exporter": "python",
   "pygments_lexer": "ipython3",
   "version": "3.6.5"
  }
 },
 "nbformat": 4,
 "nbformat_minor": 2
}
