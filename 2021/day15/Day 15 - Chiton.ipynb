{
 "cells": [
  {
   "cell_type": "code",
   "execution_count": 1,
   "metadata": {},
   "outputs": [],
   "source": [
    "input_filename = \"input.txt\""
   ]
  },
  {
   "cell_type": "code",
   "execution_count": 2,
   "metadata": {},
   "outputs": [],
   "source": [
    "import heapq\n",
    "from typing import Iterable, List, Tuple\n",
    "\n",
    "\n",
    "def find_lowest_risk(risk_levels: List[List[int]]):\n",
    "    num_rows = len(risk_levels)\n",
    "    num_cols = len(risk_levels[0])\n",
    "\n",
    "    total_risk = [[-1 for _c in risk_levels[0]]\n",
    "                       for _r in risk_levels]\n",
    "\n",
    "    visited = set()\n",
    "    heap = [(0, (0, 0))]\n",
    "\n",
    "    while heap:\n",
    "        risk, (r, c) = heapq.heappop(heap)\n",
    "\n",
    "        # If we've already visited this cave, then it means\n",
    "        # we've already found a lower risk level\n",
    "        if total_risk[r][c] >= 0:\n",
    "            continue\n",
    "\n",
    "        total_risk[r][c] = risk\n",
    "\n",
    "        # See if we need to visit neighbors\n",
    "        for nr, nc in ((r+1, c), (r-1, c), (r, c+1), (r, c-1)):\n",
    "            # Check if out of bounds\n",
    "            if nr < 0 or nc < 0 or nr >= num_rows or nc >= num_cols:\n",
    "                continue\n",
    "\n",
    "            next_risk = risk + risk_levels[nr][nc]\n",
    "            heapq.heappush(heap, (next_risk, (nr, nc)))\n",
    "            \n",
    "    return total_risk[-1][-1]"
   ]
  },
  {
   "cell_type": "markdown",
   "metadata": {},
   "source": [
    "# Part 1"
   ]
  },
  {
   "cell_type": "code",
   "execution_count": 3,
   "metadata": {},
   "outputs": [],
   "source": [
    "with open(input_filename) as input_file:\n",
    "    orig_risk_levels = [[int(num) for num in row.strip()] for row in input_file.readlines()]"
   ]
  },
  {
   "cell_type": "code",
   "execution_count": 4,
   "metadata": {},
   "outputs": [
    {
     "data": {
      "text/plain": [
       "553"
      ]
     },
     "execution_count": 4,
     "metadata": {},
     "output_type": "execute_result"
    }
   ],
   "source": [
    "find_lowest_risk(orig_risk_levels)"
   ]
  },
  {
   "cell_type": "markdown",
   "metadata": {},
   "source": [
    "# Part 2"
   ]
  },
  {
   "cell_type": "code",
   "execution_count": 5,
   "metadata": {},
   "outputs": [],
   "source": [
    "# Create larger map\n",
    "bigger_risk_levels = []\n",
    "\n",
    "orig_num_rows = len(orig_risk_levels)\n",
    "orig_num_cols = len(orig_risk_levels[0])\n",
    "bigger_num_rows = orig_num_rows*5\n",
    "bigger_num_cols = orig_num_rows*5\n",
    "\n",
    "for r in range(bigger_num_rows):\n",
    "    row = []\n",
    "    for c in range(bigger_num_cols):\n",
    "        # Get coordinates to look into original matrix\n",
    "        mod_r = r % orig_num_rows\n",
    "        mod_c = c % orig_num_cols\n",
    "        \n",
    "        # Get how much we're adding to a risk level\n",
    "        add_r = r // orig_num_rows\n",
    "        add_c = c // orig_num_rows\n",
    "        \n",
    "        # Calculate risk level for this coordinate\n",
    "        new_risk = (orig_risk_levels[mod_r][mod_c] + add_r + add_c) % 9\n",
    "        if new_risk == 0:\n",
    "            new_risk = 9\n",
    "        \n",
    "        row.append(new_risk)\n",
    "    bigger_risk_levels.append(row)"
   ]
  },
  {
   "cell_type": "code",
   "execution_count": 6,
   "metadata": {},
   "outputs": [
    {
     "data": {
      "text/plain": [
       "2858"
      ]
     },
     "execution_count": 6,
     "metadata": {},
     "output_type": "execute_result"
    }
   ],
   "source": [
    "find_lowest_risk(bigger_risk_levels)"
   ]
  }
 ],
 "metadata": {
  "kernelspec": {
   "display_name": "Python 3 (ipykernel)",
   "language": "python",
   "name": "python3"
  },
  "language_info": {
   "codemirror_mode": {
    "name": "ipython",
    "version": 3
   },
   "file_extension": ".py",
   "mimetype": "text/x-python",
   "name": "python",
   "nbconvert_exporter": "python",
   "pygments_lexer": "ipython3",
   "version": "3.9.6"
  }
 },
 "nbformat": 4,
 "nbformat_minor": 2
}
