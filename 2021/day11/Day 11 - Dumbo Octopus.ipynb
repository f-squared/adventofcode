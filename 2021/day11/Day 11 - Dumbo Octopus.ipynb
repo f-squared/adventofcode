{
 "cells": [
  {
   "cell_type": "code",
   "execution_count": 1,
   "metadata": {},
   "outputs": [],
   "source": [
    "input_filename = 'input.txt'"
   ]
  },
  {
   "cell_type": "markdown",
   "metadata": {},
   "source": [
    "# Octopus Grid Logic"
   ]
  },
  {
   "cell_type": "code",
   "execution_count": 2,
   "metadata": {},
   "outputs": [],
   "source": [
    "from typing import List, Set, Tuple\n",
    "\n",
    "\n",
    "class OctopusGrid:\n",
    "    \n",
    "    def __init__(self, grid: List[List[int]]):\n",
    "        self.grid = grid\n",
    "        self.num_octopuses: int = len(self.grid) * len(self.grid[0])\n",
    "        \n",
    "        self.num_steps: int = 0\n",
    "        self.num_flashes: int = 0\n",
    "        \n",
    "    def step(self) -> bool:\n",
    "        \"\"\"Return True if the octopuses have all synced their flashes.\"\"\"\n",
    "        # Keep track of coordinates where flashes occur\n",
    "        flashes: Set[Tuple[int, int]] = set()\n",
    "        new_flashes: List[Tuple[int, int]] = []  # stack\n",
    "        \n",
    "        # Step up every octupus's energy level.\n",
    "        for r, row in enumerate(self.grid):\n",
    "            for c, _ in enumerate(row):\n",
    "                self.grid[r][c] += 1\n",
    "                if self.grid[r][c] > 9:\n",
    "                    new_flashes.append((r, c))\n",
    "        \n",
    "        # Octopuses that flash raise their neighbors' energy levels,\n",
    "        # which could cause them to flash too.\n",
    "        while new_flashes:\n",
    "            r, c = new_flashes.pop()\n",
    "            \n",
    "            # Check if we've already flashed this octopus.\n",
    "            if (r, c) in flashes:\n",
    "                continue\n",
    "            \n",
    "            # Flash the octopus and add potential new flashes to our stack.\n",
    "            new_flashes.extend(self.flash(r, c))\n",
    "            flashes.add((r, c))\n",
    "\n",
    "        # Set all flashed octopuses to energy level 0.\n",
    "        for r, c in flashes:\n",
    "            self.grid[r][c] = 0\n",
    "        \n",
    "        # Record how many flashes occurred this step.\n",
    "        self.num_flashes += len(flashes)\n",
    "        \n",
    "        # We're done with our step. Increase step counter.\n",
    "        self.num_steps += 1\n",
    "        \n",
    "        return len(flashes) == self.num_octopuses\n",
    "\n",
    "            \n",
    "    def flash(self, r: int, c: int) -> List[Tuple[int, int]]:\n",
    "        \"\"\"\n",
    "        Increase energy of all adjacent octopuses and return which \n",
    "        octopuses *might* flash next.\n",
    "        \"\"\"\n",
    "        potential_new_flashes: List[Tuple[int, int]] = []\n",
    "        for dr in (-1, 0, 1):\n",
    "            for dc in (-1, 0, 1):\n",
    "                # Ignore itself\n",
    "                if dr == 0 and dc == 0:\n",
    "                    continue\n",
    "                \n",
    "                i = r + dr\n",
    "                j = c + dc\n",
    "                # Ignore coordinates that are out of range\n",
    "                if i < 0 or j < 0 or i >= len(self.grid) or j >= len(self.grid[0]):\n",
    "                    continue\n",
    "                \n",
    "                self.grid[i][j] += 1\n",
    "                if self.grid[i][j] > 9:\n",
    "                    potential_new_flashes.append((i, j))\n",
    "        return potential_new_flashes\n",
    "\n",
    "    def print_grid(self):\n",
    "        for row in self.grid:\n",
    "            str_row = []\n",
    "            for cell in row:\n",
    "                if cell < 10:\n",
    "                    str_row.append(str(cell))\n",
    "                else:\n",
    "                    str_row.append(\"*\")\n",
    "            print(\"\".join(str_row))\n",
    "        print()"
   ]
  },
  {
   "cell_type": "code",
   "execution_count": 3,
   "metadata": {},
   "outputs": [],
   "source": [
    "def create_octopus_grid():\n",
    "    with open(input_filename) as input_file:\n",
    "        return OctopusGrid(\n",
    "            [[int(octopus) for octopus in line.strip()] \n",
    "             for line in input_file.readlines()]\n",
    "        )"
   ]
  },
  {
   "cell_type": "markdown",
   "metadata": {},
   "source": [
    "# Part 1"
   ]
  },
  {
   "cell_type": "code",
   "execution_count": 4,
   "metadata": {
    "scrolled": false
   },
   "outputs": [
    {
     "name": "stdout",
     "output_type": "stream",
     "text": [
      "Total number of flashes after 100 steps: 1700\n"
     ]
    }
   ],
   "source": [
    "grid = create_octopus_grid()\n",
    "\n",
    "for i in range(100):\n",
    "    grid.step()\n",
    "\n",
    "print(\"Total number of flashes after 100 steps:\", grid.num_flashes)"
   ]
  },
  {
   "cell_type": "markdown",
   "metadata": {},
   "source": [
    "# Part 2"
   ]
  },
  {
   "cell_type": "code",
   "execution_count": 5,
   "metadata": {},
   "outputs": [
    {
     "name": "stdout",
     "output_type": "stream",
     "text": [
      "The first step during which all octopuses flash: 273\n"
     ]
    }
   ],
   "source": [
    "# Start with new grid in case the octopuses sync before 100 steps.\n",
    "with open(input_filename) as input_file:\n",
    "    grid = OctopusGrid(\n",
    "        [[int(octopus) for octopus in line.strip()] \n",
    "         for line in input_file.readlines()]\n",
    "    )\n",
    "    \n",
    "while not grid.step():\n",
    "    # Putting this here in case I messed up and caused an infinite loop\n",
    "    if grid.num_steps > 5000:\n",
    "        break\n",
    "    pass\n",
    "\n",
    "print(\"The first step during which all octopuses flash:\", grid.num_steps)"
   ]
  },
  {
   "cell_type": "code",
   "execution_count": null,
   "metadata": {},
   "outputs": [],
   "source": []
  }
 ],
 "metadata": {
  "kernelspec": {
   "display_name": "Python 3 (ipykernel)",
   "language": "python",
   "name": "python3"
  },
  "language_info": {
   "codemirror_mode": {
    "name": "ipython",
    "version": 3
   },
   "file_extension": ".py",
   "mimetype": "text/x-python",
   "name": "python",
   "nbconvert_exporter": "python",
   "pygments_lexer": "ipython3",
   "version": "3.9.6"
  }
 },
 "nbformat": 4,
 "nbformat_minor": 2
}
