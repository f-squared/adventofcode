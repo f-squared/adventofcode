{
 "cells": [
  {
   "cell_type": "markdown",
   "metadata": {},
   "source": [
    "# Part 1"
   ]
  },
  {
   "cell_type": "code",
   "execution_count": 1,
   "metadata": {},
   "outputs": [
    {
     "name": "stdout",
     "output_type": "stream",
     "text": [
      "After 80 days, there are 346063 fish\n"
     ]
    }
   ],
   "source": [
    "input_filename = \"input.txt\"\n",
    "num_days = 80\n",
    "\n",
    "with open(input_filename) as input_file:\n",
    "    fishes = [int(num) for num in input_file.read().strip().split(',')]\n",
    "\n",
    "if input_filename == \"input-example.txt\":\n",
    "    print(f\"Initial state: {','.join([str(fish) for fish in fishes])}\")\n",
    "\n",
    "for i in range(num_days):\n",
    "    future_fishes = []\n",
    "    num_new_fishes = 0\n",
    "    \n",
    "    for fish in fishes:\n",
    "        future_fish = fish - 1\n",
    "        if future_fish < 0:\n",
    "            num_new_fishes += 1\n",
    "            future_fish = 6\n",
    "        future_fishes.append(future_fish)\n",
    "    \n",
    "    for _ in range(num_new_fishes):\n",
    "        future_fishes.append(8)\n",
    "    \n",
    "    fishes = future_fishes\n",
    "    if input_filename == \"input-example.txt\" and i < 18:\n",
    "        print(f\"After {i+1:2} days: {','.join([str(fish) for fish in fishes])}\")\n",
    "\n",
    "print(f\"After {num_days} days, there are {len(fishes)} fish\")"
   ]
  },
  {
   "cell_type": "markdown",
   "metadata": {},
   "source": [
    "# Part 2\n",
    "Let's do this faster and with less space."
   ]
  },
  {
   "cell_type": "code",
   "execution_count": 2,
   "metadata": {},
   "outputs": [
    {
     "name": "stdout",
     "output_type": "stream",
     "text": [
      "After 256 days, there are 1572358335990 fish\n"
     ]
    }
   ],
   "source": [
    "import collections\n",
    "\n",
    "\n",
    "input_filename = \"input.txt\"\n",
    "num_days = 256\n",
    "\n",
    "with open(input_filename) as input_file:\n",
    "    fish_map = collections.Counter([int(num) for num in input_file.read().strip().split(',')])\n",
    "    \n",
    "for i in range(num_days):\n",
    "    future_fish_map = collections.Counter()\n",
    "    \n",
    "    for countdown, num_fish in fish_map.items():\n",
    "        future_countdown = countdown - 1\n",
    "        if future_countdown < 0:\n",
    "            future_countdown = 6\n",
    "            future_fish_map[8] += num_fish\n",
    "\n",
    "        future_fish_map[future_countdown] += num_fish\n",
    "        \n",
    "    fish_map = future_fish_map    \n",
    "        \n",
    "total_fish = sum(fish_map.values())\n",
    "\n",
    "print(f\"After {num_days} days, there are {total_fish} fish\")"
   ]
  },
  {
   "cell_type": "code",
   "execution_count": null,
   "metadata": {},
   "outputs": [],
   "source": []
  }
 ],
 "metadata": {
  "kernelspec": {
   "display_name": "Python 3 (ipykernel)",
   "language": "python",
   "name": "python3"
  },
  "language_info": {
   "codemirror_mode": {
    "name": "ipython",
    "version": 3
   },
   "file_extension": ".py",
   "mimetype": "text/x-python",
   "name": "python",
   "nbconvert_exporter": "python",
   "pygments_lexer": "ipython3",
   "version": "3.9.6"
  }
 },
 "nbformat": 4,
 "nbformat_minor": 2
}
