{
 "cells": [
  {
   "cell_type": "code",
   "execution_count": 1,
   "metadata": {},
   "outputs": [],
   "source": [
    "from typing import List, Set, Tuple\n",
    "\n",
    "\n",
    "class Instruction:\n",
    "    \n",
    "    def __init__(self, axis: str, value: int):\n",
    "        self.axis = axis\n",
    "        self.value = value\n",
    "    \n",
    "    @classmethod\n",
    "    def from_raw(cls, raw_instr: str):\n",
    "        p1, p2 = raw_instr.split(\"=\")\n",
    "        \n",
    "        axis = p1[-1]\n",
    "        assert axis in (\"x\", \"y\")\n",
    "        \n",
    "        value = int(p2)\n",
    "        \n",
    "        return cls(axis, value)\n",
    "    \n",
    "    def __repr__(self):\n",
    "        return f\"Instruction({self.axis}={self.value})\"\n",
    "\n",
    "\n",
    "class TransparentPaper:\n",
    "    \n",
    "    def __init__(self, dots: Set[Tuple[int, int]]):\n",
    "        self.dots = dots\n",
    "        \n",
    "        self.max_x = 0\n",
    "        self.max_y = 0\n",
    "        \n",
    "        for x, y in dots:\n",
    "            self.max_x = max(x, self.max_x)\n",
    "            self.max_y = max(y, self.max_y)\n",
    "\n",
    "    \n",
    "    @classmethod\n",
    "    def from_raw_coords(cls, raw_coords: str):\n",
    "        coords = set()\n",
    "        \n",
    "        for raw_coord in raw_coords.split():\n",
    "            x, y = [int(c) for c in raw_coord.split(\",\")]\n",
    "            coords.add((x, y))\n",
    "        \n",
    "        return cls(coords)\n",
    "    \n",
    "    def print_grid(self):\n",
    "        if self.max_x > 200 or self.max_y > 200:\n",
    "            print(\"Too large to print\")\n",
    "            return\n",
    "        \n",
    "        grid = []\n",
    "        for y in range(self.max_y+1):\n",
    "            row = []\n",
    "            for x in range(self.max_x+1):\n",
    "                if (x, y) in self.dots:\n",
    "                    row.append(\"#\")\n",
    "                else:\n",
    "                    row.append(\".\")\n",
    "            grid.append(row)\n",
    "        \n",
    "        for row in grid:\n",
    "            print(\"\".join(row))\n",
    "            \n",
    "    def fold(self, instruction: Instruction) -> None:\n",
    "        if instruction.axis == \"y\":\n",
    "            self.fold_up(instruction.value)\n",
    "        elif instruction.axis == \"x\":\n",
    "            self.fold_left(instruction.value)\n",
    "        else:\n",
    "            ValueError(\"Unexpected axis!\", instruction.axis)\n",
    "            \n",
    "    def fold_up(self, axis_value: int):\n",
    "        new_dots = set()\n",
    "        for x, y in self.dots:\n",
    "            if y < axis_value:\n",
    "                # This dot doesn't need to mirrored\n",
    "                new_dots.add((x, y))\n",
    "            elif y > axis_value:\n",
    "                # This dot needs to be mirrored\n",
    "                new_dots.add((x, axis_value-(y-axis_value)))\n",
    "\n",
    "        self.dots = new_dots\n",
    "        self.max_y = axis_value - 1\n",
    "        \n",
    "    \n",
    "    def fold_left(self, axis_value: int):\n",
    "        new_dots = set()\n",
    "        for x, y in self.dots:\n",
    "            if x < axis_value:\n",
    "                # This dot doesn't need to mirrored\n",
    "                new_dots.add((x, y))\n",
    "            elif x > axis_value:\n",
    "                # This dot needs to be mirrored\n",
    "                new_dots.add((axis_value-(x-axis_value), y))\n",
    "\n",
    "        self.dots = new_dots\n",
    "        self.max_x = axis_value - 1"
   ]
  },
  {
   "cell_type": "code",
   "execution_count": 2,
   "metadata": {},
   "outputs": [],
   "source": [
    "input_filename = \"input.txt\"\n",
    "\n",
    "with open(input_filename) as input_file:\n",
    "    raw_coords, raw_instructions = input_file.read().split(\"\\n\\n\")\n",
    "    \n",
    "paper = TransparentPaper.from_raw_coords(raw_coords)\n",
    "instructions = [Instruction.from_raw(raw_instr) \n",
    "                for raw_instr in raw_instructions.splitlines()]"
   ]
  },
  {
   "cell_type": "code",
   "execution_count": 3,
   "metadata": {
    "scrolled": true
   },
   "outputs": [
    {
     "name": "stdout",
     "output_type": "stream",
     "text": [
      "Answer to Part 1: 618 dots are visible after first fold\n"
     ]
    }
   ],
   "source": [
    "for i, instruction in enumerate(instructions):\n",
    "    paper.fold(instruction)\n",
    "    if i == 0:\n",
    "        print(f\"Answer to Part 1: {len(paper.dots)} dots are visible after first fold\")"
   ]
  },
  {
   "cell_type": "code",
   "execution_count": 4,
   "metadata": {},
   "outputs": [
    {
     "name": "stdout",
     "output_type": "stream",
     "text": [
      "Answer to Part 2:\n",
      "\n",
      ".##..#....###..####.#..#.####.#..#.#..#.\n",
      "#..#.#....#..#.#....#.#..#....#.#..#..#.\n",
      "#..#.#....#..#.###..##...###..##...#..#.\n",
      "####.#....###..#....#.#..#....#.#..#..#.\n",
      "#..#.#....#.#..#....#.#..#....#.#..#..#.\n",
      "#..#.####.#..#.####.#..#.#....#..#..##..\n"
     ]
    }
   ],
   "source": [
    "print(\"Answer to Part 2:\\n\")\n",
    "paper.print_grid()"
   ]
  }
 ],
 "metadata": {
  "kernelspec": {
   "display_name": "Python 3 (ipykernel)",
   "language": "python",
   "name": "python3"
  },
  "language_info": {
   "codemirror_mode": {
    "name": "ipython",
    "version": 3
   },
   "file_extension": ".py",
   "mimetype": "text/x-python",
   "name": "python",
   "nbconvert_exporter": "python",
   "pygments_lexer": "ipython3",
   "version": "3.9.6"
  }
 },
 "nbformat": 4,
 "nbformat_minor": 2
}
