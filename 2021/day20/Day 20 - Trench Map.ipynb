{
 "cells": [
  {
   "cell_type": "code",
   "execution_count": 1,
   "metadata": {},
   "outputs": [],
   "source": [
    "input_filename = \"input.txt\"\n",
    "\n",
    "with open(input_filename) as input_file:\n",
    "    algorithm = input_file.readline().strip()\n",
    "    assert len(algorithm) == 512\n",
    "    raw_image = input_file.read().strip()"
   ]
  },
  {
   "cell_type": "code",
   "execution_count": 2,
   "metadata": {},
   "outputs": [],
   "source": [
    "from typing import Set, Tuple, List\n",
    "\n",
    "\n",
    "class Image:\n",
    "    \n",
    "    def __init__(self, raw_image: str, algorithm: str):\n",
    "        self.algorithm = algorithm\n",
    "        \n",
    "        self.lit_pixels: Set[Tuple[int, int]] = set()  # set of coordinates\n",
    "        self.min_r = 0\n",
    "        self.min_c = 0\n",
    "        self.max_r = 0\n",
    "        self.max_c = 0\n",
    "        self.is_infinitely_lit = False\n",
    "    \n",
    "        for r, line in enumerate(raw_image.strip().splitlines()):\n",
    "            for c, pixel in enumerate(line):\n",
    "                if pixel == \"#\":\n",
    "                    self.lit_pixels.add((r, c))\n",
    "                elif pixel != \".\":\n",
    "                    raise ValueError(f\"Unexpected pixel {pixel}!\")\n",
    "                    \n",
    "                self.max_r = max(self.max_r, r)\n",
    "                self.max_c = max(self.max_c, c)\n",
    "                \n",
    "    def print_output(self):\n",
    "        if self.max_r - self.min_r > 20 or self.max_c - self.min_c > 20:\n",
    "            print(\"Too large to print!\")\n",
    "            return\n",
    "        \n",
    "        for r in range(self.min_r, self.max_r+1):\n",
    "            line = []\n",
    "            for c in range(self.min_r, self.max_c+1):\n",
    "                if (r, c) in self.lit_pixels:\n",
    "                    line.append(\"#\")\n",
    "                else:\n",
    "                    line.append(\".\")\n",
    "            print(\"\".join(line))\n",
    "                \n",
    "    def enhance(self):\n",
    "        new_lit_pixels = set()\n",
    "        \n",
    "        pad = 1\n",
    "        \n",
    "        for r in range(self.min_r-pad, self.max_r+pad+1):\n",
    "            for c in range(self.min_c-pad, self.max_c+pad+1):\n",
    "                if self.new_pixel_is_lit(r, c):\n",
    "                    new_lit_pixels.add((r, c))\n",
    "        \n",
    "        self.min_r -= pad\n",
    "        self.min_c -= pad\n",
    "                    \n",
    "        self.max_r += pad\n",
    "        self.max_c += pad\n",
    "                    \n",
    "        self.lit_pixels = new_lit_pixels\n",
    "        if self.algorithm[0] == \"#\":\n",
    "            self.is_infinitely_lit = not self.is_infinitely_lit\n",
    "        \n",
    "    def new_pixel_is_lit(self, mid_r, mid_c):\n",
    "        bin_list: List[str] = []\n",
    "        \n",
    "        for r in (mid_r-1, mid_r, mid_r+1):\n",
    "            for c in (mid_c-1, mid_c, mid_c+1):\n",
    "                if (r, c) in self.lit_pixels:\n",
    "                    bin_list.append(\"1\")\n",
    "                else:\n",
    "                    if self.is_infinitely_lit and self.is_outside(r, c):\n",
    "                        bin_list.append(\"1\")\n",
    "                    else:\n",
    "                        bin_list.append(\"0\")\n",
    "        \n",
    "        bin_num = int(\"\".join(bin_list), 2)\n",
    "        return self.algorithm[bin_num] == \"#\"\n",
    "    \n",
    "    def is_outside(self, r, c):\n",
    "        is_inside = (self.min_r <= r <= self.max_r) and (self.min_c <= c <= self.max_c)\n",
    "        return not is_inside"
   ]
  },
  {
   "cell_type": "markdown",
   "metadata": {},
   "source": [
    "# Part 1"
   ]
  },
  {
   "cell_type": "code",
   "execution_count": 3,
   "metadata": {},
   "outputs": [
    {
     "name": "stdout",
     "output_type": "stream",
     "text": [
      "Too large to print!\n",
      "\n",
      "Too large to print!\n",
      "\n",
      "Too large to print!\n",
      "\n",
      "After 2 steps, there are 5464 pixels lit.\n"
     ]
    }
   ],
   "source": [
    "image = Image(raw_image, algorithm)\n",
    "\n",
    "image.print_output()\n",
    "print()\n",
    "\n",
    "for _ in range(2):\n",
    "    image.enhance()\n",
    "    image.print_output()\n",
    "    print()\n",
    "\n",
    "print(f\"After 2 steps, there are {len(image.lit_pixels)} pixels lit.\")"
   ]
  },
  {
   "cell_type": "markdown",
   "metadata": {},
   "source": [
    "# Part 2"
   ]
  },
  {
   "cell_type": "code",
   "execution_count": 4,
   "metadata": {},
   "outputs": [
    {
     "name": "stdout",
     "output_type": "stream",
     "text": [
      "After 50 steps, there are 19228 pixels lit.\n"
     ]
    }
   ],
   "source": [
    "image = Image(raw_image, algorithm)\n",
    "for _ in range(50):\n",
    "    image.enhance()\n",
    "\n",
    "print(f\"After 50 steps, there are {len(image.lit_pixels)} pixels lit.\")"
   ]
  }
 ],
 "metadata": {
  "kernelspec": {
   "display_name": "Python 3 (ipykernel)",
   "language": "python",
   "name": "python3"
  },
  "language_info": {
   "codemirror_mode": {
    "name": "ipython",
    "version": 3
   },
   "file_extension": ".py",
   "mimetype": "text/x-python",
   "name": "python",
   "nbconvert_exporter": "python",
   "pygments_lexer": "ipython3",
   "version": "3.9.6"
  }
 },
 "nbformat": 4,
 "nbformat_minor": 2
}
