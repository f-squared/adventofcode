{
 "cells": [
  {
   "cell_type": "code",
   "execution_count": 1,
   "metadata": {},
   "outputs": [],
   "source": [
    "input_filename = \"input.txt\""
   ]
  },
  {
   "cell_type": "code",
   "execution_count": 2,
   "metadata": {},
   "outputs": [],
   "source": [
    "import collections\n",
    "from typing import Dict, List, Tuple\n",
    "\n",
    "\n",
    "class VentLine:\n",
    "    \n",
    "    def __init__(self, x1: int, y1: int, x2: int, y2: int):\n",
    "        self.start_x = x1\n",
    "        self.start_y = y1\n",
    "        self.end_x = x2\n",
    "        self.end_y = y2\n",
    "        \n",
    "        # Keep track of direction\n",
    "        self.x_dir = 0 if x1 == x2 else (1 if x1 < x2 else -1)\n",
    "        self.y_dir = 0 if y1 == y2 else (1 if y1 < y2 else -1)\n",
    "        \n",
    "        self.max_x = max(x1, x2)\n",
    "        self.max_y = max(y1, y2)\n",
    "    \n",
    "    @classmethod\n",
    "    def from_raw(cls, raw_line: str):\n",
    "        coord1, arrow, coord2 = raw_line.strip().split()\n",
    "        assert arrow == \"->\"\n",
    "        \n",
    "        x1, y1 = [int(c) for c in coord1.split(\",\")]\n",
    "        x2, y2 = [int(c) for c in coord2.split(\",\")]\n",
    "        \n",
    "        return cls(x1, y1, x2, y2)\n",
    "    \n",
    "    @property\n",
    "    def is_horizontal(self):\n",
    "        return self.start_x == self.end_x\n",
    "    \n",
    "    @property\n",
    "    def is_vertical(self):\n",
    "        return self.start_y == self.end_y\n",
    "    \n",
    "    def __repr__(self):\n",
    "        coord1 = f\"{self.start_x},{self.start_y}\"\n",
    "        coord2 = f\"{self.end_x},{self.end_y}\"\n",
    "        return f\"VentLine({coord1} -> {coord2})\"\n",
    "\n",
    "    \n",
    "class OceanFloor:\n",
    "    \n",
    "    def __init__(self):        \n",
    "        # coordinate -> number of vents\n",
    "        self.coords: Dict[Tuple[int, int], int] = collections.defaultdict(int)\n",
    "        # keep track of number of intersections \n",
    "        # (where a coordinate has 2 or more vents)\n",
    "        self.num_intersections = 0\n",
    "        \n",
    "    def reset(self):\n",
    "        self.coords = collections.defaultdict(int)\n",
    "        self.num_intersections = 0\n",
    "                \n",
    "    def mark_vent(self, v: VentLine):\n",
    "        x, y = v.start_x, v.start_y\n",
    "        while x != v.end_x+v.x_dir or y != v.end_y+v.y_dir:\n",
    "            # safety features to prevent infinite loop in case I made a mistake\n",
    "            if x > v.max_x or x < 0 or y > v.max_y or y < 0:\n",
    "                raise Exception(\"You made a mistake!\")\n",
    "            \n",
    "            self.coords[(x, y)] += 1\n",
    "            if self.coords[(x, y)] == 2:\n",
    "                self.num_intersections += 1\n",
    "                \n",
    "            x += v.x_dir\n",
    "            y += v.y_dir\n",
    "                    \n",
    "    def print_diagram(self):\n",
    "        max_x = 0\n",
    "        max_y = 0\n",
    "        for x, y in self.coords:\n",
    "            max_x = max(x, max_x)\n",
    "            max_y = max(y, max_y)\n",
    "\n",
    "        # Only do this for reasonable inputs:\n",
    "        if max_x > 50 or max_y > 50:\n",
    "            print(\"Diagram too big to print.\")\n",
    "            return\n",
    "        \n",
    "        rows = [[\".\" for x in range(max_x+1)] for y in range(max_y+1)]\n",
    "        for (x, y), num_vents in self.coords.items():\n",
    "            rows[y][x] = str(num_vents)\n",
    "        \n",
    "        for row in rows:\n",
    "            print(\"\".join(row))"
   ]
  },
  {
   "cell_type": "code",
   "execution_count": 3,
   "metadata": {},
   "outputs": [],
   "source": [
    "with open(input_filename) as input_file:\n",
    "    vent_lines = [VentLine.from_raw(raw_line) \n",
    "                  for raw_line in input_file.readlines()]"
   ]
  },
  {
   "cell_type": "markdown",
   "metadata": {},
   "source": [
    "# Part 1"
   ]
  },
  {
   "cell_type": "code",
   "execution_count": 4,
   "metadata": {},
   "outputs": [
    {
     "data": {
      "text/plain": [
       "5585"
      ]
     },
     "execution_count": 4,
     "metadata": {},
     "output_type": "execute_result"
    }
   ],
   "source": [
    "ocean_floor = OceanFloor()\n",
    "\n",
    "for vent_line in vent_lines:\n",
    "    if vent_line.is_horizontal or vent_line.is_vertical:\n",
    "        ocean_floor.mark_vent(vent_line)\n",
    "\n",
    "ocean_floor.num_intersections"
   ]
  },
  {
   "cell_type": "code",
   "execution_count": 5,
   "metadata": {},
   "outputs": [
    {
     "name": "stdout",
     "output_type": "stream",
     "text": [
      "Diagram too big to print.\n"
     ]
    }
   ],
   "source": [
    "ocean_floor.print_diagram()"
   ]
  },
  {
   "cell_type": "markdown",
   "metadata": {},
   "source": [
    "# Part 2"
   ]
  },
  {
   "cell_type": "code",
   "execution_count": 6,
   "metadata": {},
   "outputs": [
    {
     "data": {
      "text/plain": [
       "17193"
      ]
     },
     "execution_count": 6,
     "metadata": {},
     "output_type": "execute_result"
    }
   ],
   "source": [
    "ocean_floor = OceanFloor()\n",
    "\n",
    "for vent_line in vent_lines:\n",
    "    ocean_floor.mark_vent(vent_line)\n",
    "\n",
    "ocean_floor.num_intersections"
   ]
  },
  {
   "cell_type": "code",
   "execution_count": 7,
   "metadata": {
    "scrolled": true
   },
   "outputs": [
    {
     "name": "stdout",
     "output_type": "stream",
     "text": [
      "Diagram too big to print.\n"
     ]
    }
   ],
   "source": [
    "ocean_floor.print_diagram()"
   ]
  },
  {
   "cell_type": "code",
   "execution_count": null,
   "metadata": {},
   "outputs": [],
   "source": []
  }
 ],
 "metadata": {
  "kernelspec": {
   "display_name": "Python 3 (ipykernel)",
   "language": "python",
   "name": "python3"
  },
  "language_info": {
   "codemirror_mode": {
    "name": "ipython",
    "version": 3
   },
   "file_extension": ".py",
   "mimetype": "text/x-python",
   "name": "python",
   "nbconvert_exporter": "python",
   "pygments_lexer": "ipython3",
   "version": "3.9.6"
  }
 },
 "nbformat": 4,
 "nbformat_minor": 2
}
