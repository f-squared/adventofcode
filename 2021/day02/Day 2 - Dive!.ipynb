{
 "cells": [
  {
   "cell_type": "code",
   "execution_count": 1,
   "metadata": {},
   "outputs": [],
   "source": [
    "from enum import Enum\n",
    "\n",
    "\n",
    "class Direction(Enum):\n",
    "    FORWARD = 'forward'\n",
    "    DOWN = 'down'\n",
    "    UP = 'up'\n",
    "\n",
    "\n",
    "class Instruction:\n",
    "    \n",
    "    def __init__(self, direction: Direction, unit: int):\n",
    "        self.direction = direction\n",
    "        self.unit = unit\n",
    "    \n",
    "    @classmethod\n",
    "    def from_input(cls, raw_instruction: str):\n",
    "        raw_direction, raw_unit = raw_instruction.strip().split()\n",
    "        return cls(Direction(raw_direction), int(raw_unit))\n",
    "    \n",
    "    def __repr__(self):\n",
    "        return f\"Instruction({self.direction.value}, {self.unit})\""
   ]
  },
  {
   "cell_type": "markdown",
   "metadata": {},
   "source": [
    "# Input"
   ]
  },
  {
   "cell_type": "code",
   "execution_count": 2,
   "metadata": {},
   "outputs": [],
   "source": [
    "input_filename = \"day-2-input.txt\""
   ]
  },
  {
   "cell_type": "code",
   "execution_count": 3,
   "metadata": {
    "scrolled": false
   },
   "outputs": [],
   "source": [
    "with open(input_filename) as input_file:\n",
    "    instructions = [Instruction.from_input(instr) for instr in input_file.readlines()]"
   ]
  },
  {
   "cell_type": "markdown",
   "metadata": {},
   "source": [
    "# Part 1"
   ]
  },
  {
   "cell_type": "code",
   "execution_count": 4,
   "metadata": {},
   "outputs": [
    {
     "name": "stdout",
     "output_type": "stream",
     "text": [
      "Part 1 Answer: 1939 * 1109 = 2150351\n"
     ]
    }
   ],
   "source": [
    "horiz_pos = 0\n",
    "depth = 0\n",
    "\n",
    "for instr in instructions:\n",
    "    if instr.direction == Direction.FORWARD:\n",
    "        horiz_pos += instr.unit\n",
    "    elif instr.direction == Direction.DOWN:\n",
    "        depth += instr.unit\n",
    "    elif instr.direction == Direction.UP:\n",
    "        depth -= instr.unit\n",
    "    else:\n",
    "        raise ValueError(\"Unexpected direction!\")\n",
    "\n",
    "print(f\"Part 1 Answer: {horiz_pos} * {depth} = {horiz_pos * depth}\")"
   ]
  },
  {
   "cell_type": "markdown",
   "metadata": {},
   "source": [
    "# Part 2"
   ]
  },
  {
   "cell_type": "code",
   "execution_count": 5,
   "metadata": {},
   "outputs": [
    {
     "name": "stdout",
     "output_type": "stream",
     "text": [
      "Part 2 Answer: 1939 * 950357 = 1842742223\n"
     ]
    }
   ],
   "source": [
    "horiz_pos = 0\n",
    "depth = 0\n",
    "aim = 0\n",
    "\n",
    "for instr in instructions:\n",
    "    if instr.direction == Direction.FORWARD:\n",
    "        horiz_pos += instr.unit\n",
    "        depth += aim * instr.unit\n",
    "    elif instr.direction == Direction.DOWN:\n",
    "        aim += instr.unit\n",
    "    elif instr.direction == Direction.UP:\n",
    "        aim -= instr.unit\n",
    "    else:\n",
    "        raise ValueError(\"Unexpected direction!\")\n",
    "\n",
    "print(f\"Part 2 Answer: {horiz_pos} * {depth} = {horiz_pos * depth}\")"
   ]
  },
  {
   "cell_type": "code",
   "execution_count": null,
   "metadata": {},
   "outputs": [],
   "source": []
  }
 ],
 "metadata": {
  "kernelspec": {
   "display_name": "Python 3 (ipykernel)",
   "language": "python",
   "name": "python3"
  },
  "language_info": {
   "codemirror_mode": {
    "name": "ipython",
    "version": 3
   },
   "file_extension": ".py",
   "mimetype": "text/x-python",
   "name": "python",
   "nbconvert_exporter": "python",
   "pygments_lexer": "ipython3",
   "version": "3.9.6"
  }
 },
 "nbformat": 4,
 "nbformat_minor": 2
}
