{
 "cells": [
  {
   "cell_type": "code",
   "execution_count": 1,
   "metadata": {},
   "outputs": [],
   "source": [
    "input_filename = \"input.txt\"\n",
    "\n",
    "with open(input_filename) as input_file:\n",
    "    report = [line.strip() for line in input_file.readlines()]"
   ]
  },
  {
   "cell_type": "markdown",
   "metadata": {},
   "source": [
    "# Part 1"
   ]
  },
  {
   "cell_type": "code",
   "execution_count": 2,
   "metadata": {},
   "outputs": [
    {
     "name": "stdout",
     "output_type": "stream",
     "text": [
      "Power consumption is: 935 * 3160 = 2954600\n"
     ]
    }
   ],
   "source": [
    "commonality_array = [0 for _ in range(len(report[0]))]\n",
    "for binary_number in report:\n",
    "    for i, bit in enumerate(binary_number):\n",
    "        if bit == \"0\":\n",
    "            commonality_array[i] -= 1\n",
    "        elif bit == \"1\":\n",
    "            commonality_array[i] += 1\n",
    "        else:\n",
    "            raise ValueError(\"Unexpected bit value!\")\n",
    "\n",
    "gamma_binary = \"\".join([\"0\" if value < 0 else \"1\" for value in commonality_array])\n",
    "epsilon_binary = \"\".join([\"1\" if value < 0 else \"0\" for value in commonality_array])\n",
    "\n",
    "gamma_rate = int(gamma_binary, 2)\n",
    "epsilon_rate = int(epsilon_binary, 2)\n",
    "\n",
    "print(f\"Power consumption is: {gamma_rate} * {epsilon_rate} = {gamma_rate * epsilon_rate}\")"
   ]
  },
  {
   "cell_type": "markdown",
   "metadata": {},
   "source": [
    "# Part 2"
   ]
  },
  {
   "cell_type": "code",
   "execution_count": 3,
   "metadata": {},
   "outputs": [],
   "source": [
    "from enum import Enum\n",
    "from typing import List\n",
    "\n",
    "\n",
    "class Rating(Enum):\n",
    "    OXYGEN_GENERATOR = 1\n",
    "    CO2_SCRUBBER = 2\n",
    "\n",
    "\n",
    "def find_desired_bit(numbers: List[str], \n",
    "                     bit_idx: int, \n",
    "                     rating_type: Rating) -> str:\n",
    "    commonality = 0  # I'm too tired to come up with a better name\n",
    "    for number in numbers:\n",
    "        bit = number[bit_idx]\n",
    "        if bit == \"0\":\n",
    "            commonality -= 1\n",
    "        elif bit == \"1\":\n",
    "            commonality += 1\n",
    "        else:\n",
    "            raise ValueError(\"Unexpected bit value!\", bit)\n",
    "    if rating_type == Rating.OXYGEN_GENERATOR:\n",
    "        return \"0\" if commonality < 0 else \"1\"\n",
    "    elif rating_type == Rating.CO2_SCRUBBER:\n",
    "        return \"1\" if commonality < 0 else \"0\"\n",
    "    else:\n",
    "        raise ValueError(\"Unexpected rating type!\")\n",
    "\n",
    "    \n",
    "def find_rating(report: List[str], rating_type: Rating):\n",
    "    numbers = report[:]\n",
    "    \n",
    "    num_bits = len(numbers[0])\n",
    "    for bit_idx in range(num_bits):\n",
    "        bit_to_match = find_desired_bit(numbers, bit_idx, rating_type)\n",
    "        \n",
    "        next_numbers = []\n",
    "        for number in numbers:\n",
    "            if number[bit_idx] == bit_to_match:\n",
    "                next_numbers.append(number)\n",
    "        \n",
    "        if len(next_numbers) == 1:\n",
    "            return next_numbers[0]\n",
    "        \n",
    "        numbers = next_numbers\n",
    "        \n",
    "    raise ValueError(\"I'm tired! We shouldn't be here. Here's the value of numbers:\", numbers)"
   ]
  },
  {
   "cell_type": "code",
   "execution_count": 4,
   "metadata": {},
   "outputs": [
    {
     "name": "stdout",
     "output_type": "stream",
     "text": [
      "Life support rating is: 573 * 2902 = 1662846\n"
     ]
    }
   ],
   "source": [
    "oxgen_generator_rating = int(find_rating(report, Rating.OXYGEN_GENERATOR), 2)\n",
    "co2_scrubber_rating = int(find_rating(report, Rating.CO2_SCRUBBER), 2)\n",
    "\n",
    "print(\n",
    "    f\"Life support rating is: \"\n",
    "    + f\"{oxgen_generator_rating} * {co2_scrubber_rating} \"\n",
    "    + f\"= {oxgen_generator_rating * co2_scrubber_rating}\")"
   ]
  },
  {
   "cell_type": "code",
   "execution_count": null,
   "metadata": {},
   "outputs": [],
   "source": []
  }
 ],
 "metadata": {
  "kernelspec": {
   "display_name": "Python 3 (ipykernel)",
   "language": "python",
   "name": "python3"
  },
  "language_info": {
   "codemirror_mode": {
    "name": "ipython",
    "version": 3
   },
   "file_extension": ".py",
   "mimetype": "text/x-python",
   "name": "python",
   "nbconvert_exporter": "python",
   "pygments_lexer": "ipython3",
   "version": "3.9.6"
  }
 },
 "nbformat": 4,
 "nbformat_minor": 2
}
