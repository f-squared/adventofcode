{
 "cells": [
  {
   "cell_type": "code",
   "execution_count": 1,
   "metadata": {},
   "outputs": [],
   "source": [
    "input_filename = \"input.txt\"\n",
    "\n",
    "with open(input_filename) as input_file:\n",
    "    heights = [[int(height) for height in list(row.strip())] for row in input_file.readlines()]"
   ]
  },
  {
   "cell_type": "code",
   "execution_count": 2,
   "metadata": {},
   "outputs": [],
   "source": [
    "from typing import List"
   ]
  },
  {
   "cell_type": "markdown",
   "metadata": {},
   "source": [
    "# Part 1"
   ]
  },
  {
   "cell_type": "code",
   "execution_count": 3,
   "metadata": {},
   "outputs": [],
   "source": [
    "def is_low_point(heights: List[List[int]], r: int, c: int) -> bool:\n",
    "    \"\"\"Determines if coordinates (r, c) is a low point in the heights matrix.\"\"\"\n",
    "    height = heights[r][c]\n",
    "\n",
    "    # only up, down, left, and right are adjacent\n",
    "    adjacent_coords = [(r-1, c), (r+1, c), (r, c-1), (r, c+1)]\n",
    "    for i, j in adjacent_coords:\n",
    "        \n",
    "        if i < 0 or j < 0 or i >= len(heights) or j >= len(heights[0]):\n",
    "            # adjacent coordinate is out of bounds\n",
    "            continue\n",
    "        \n",
    "        if height >= heights[i][j]:\n",
    "            return False\n",
    "    \n",
    "    return True"
   ]
  },
  {
   "cell_type": "code",
   "execution_count": 4,
   "metadata": {
    "scrolled": false
   },
   "outputs": [
    {
     "name": "stdout",
     "output_type": "stream",
     "text": [
      "Sum of risk levels: 575\n"
     ]
    }
   ],
   "source": [
    "risk_level_sum = 0\n",
    "\n",
    "for r, row in enumerate(heights):\n",
    "    for c, height in enumerate(row):\n",
    "        low_pt = is_low_point(heights, r, c)\n",
    "        if low_pt:\n",
    "            risk_level_sum += height+1\n",
    "            \n",
    "print(f\"Sum of risk levels: {risk_level_sum}\")"
   ]
  },
  {
   "cell_type": "markdown",
   "metadata": {},
   "source": [
    "# Part 2"
   ]
  },
  {
   "cell_type": "code",
   "execution_count": 5,
   "metadata": {},
   "outputs": [],
   "source": [
    "class HeightMap:\n",
    "    \n",
    "    def __init__(self, heights: List[List[int]]):\n",
    "        self.heights = heights\n",
    "        self.basin_sizes = []\n",
    "        # Keep track of all visited coordinates\n",
    "        self.visited = [[False for _c in range(len(heights[0]))] for _r in range(len(heights))]\n",
    "        \n",
    "    def find_basins(self):\n",
    "        for r in range(len(self.visited)):\n",
    "            for c in range(len(self.visited[0])):\n",
    "                if not self.visited[r][c]:\n",
    "                    self.explore(r, c)        \n",
    "    \n",
    "    def explore(self, start_r: int, start_c: int) -> int:\n",
    "        assert not self.visited[start_r][start_c]\n",
    "        \n",
    "        # new basin to explore!\n",
    "        basin_size = 0\n",
    "        \n",
    "        to_visit = [(start_r, start_c)]\n",
    "        \n",
    "        while to_visit:\n",
    "            r, c = to_visit.pop()\n",
    "            \n",
    "            if self.visited[r][c]:\n",
    "                continue\n",
    "            self.visited[r][c] = True\n",
    "            \n",
    "            height = self.heights[r][c]\n",
    "            if height == 9:\n",
    "                continue\n",
    "            \n",
    "            basin_size += 1\n",
    "            \n",
    "            # Find more coordinates to explore\n",
    "            adjacent_coords = [(r-1, c), (r+1, c), (r, c-1), (r, c+1)]\n",
    "            for i, j in adjacent_coords:\n",
    "\n",
    "                if i < 0 or j < 0 or i >= len(self.heights) or j >= len(self.heights[0]):\n",
    "                    # adjacent coordinate is out of bounds\n",
    "                    continue\n",
    "\n",
    "                already_visited = self.visited[i][j]\n",
    "                if not already_visited:\n",
    "                    to_visit.append((i, j))\n",
    "        \n",
    "        if basin_size > 0:\n",
    "            self.basin_sizes.append(basin_size)"
   ]
  },
  {
   "cell_type": "code",
   "execution_count": 6,
   "metadata": {
    "scrolled": false
   },
   "outputs": [],
   "source": [
    "height_map = HeightMap(heights)\n",
    "height_map.find_basins()\n",
    "height_map.basin_sizes.sort(reverse=True)"
   ]
  },
  {
   "cell_type": "code",
   "execution_count": 7,
   "metadata": {},
   "outputs": [
    {
     "name": "stdout",
     "output_type": "stream",
     "text": [
      "Product of sizes of 3 largest basins: 1019700\n"
     ]
    }
   ],
   "source": [
    "product = 1\n",
    "for i in range(3):\n",
    "    product *= height_map.basin_sizes[i]\n",
    "\n",
    "print(f\"Product of sizes of 3 largest basins: {product}\")"
   ]
  }
 ],
 "metadata": {
  "kernelspec": {
   "display_name": "Python 3 (ipykernel)",
   "language": "python",
   "name": "python3"
  },
  "language_info": {
   "codemirror_mode": {
    "name": "ipython",
    "version": 3
   },
   "file_extension": ".py",
   "mimetype": "text/x-python",
   "name": "python",
   "nbconvert_exporter": "python",
   "pygments_lexer": "ipython3",
   "version": "3.9.6"
  }
 },
 "nbformat": 4,
 "nbformat_minor": 2
}
