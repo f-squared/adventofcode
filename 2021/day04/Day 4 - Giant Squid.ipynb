{
 "cells": [
  {
   "cell_type": "code",
   "execution_count": 1,
   "metadata": {},
   "outputs": [],
   "source": [
    "import collections\n",
    "from typing import Dict, List, Optional\n",
    "\n",
    "\n",
    "class Board:\n",
    "    \"\"\"Represents a bingo board.\"\"\"\n",
    "    \n",
    "    def __init__(self, rows: List[int]):\n",
    "        # Assumption: board is square\n",
    "        assert len(rows) > 0\n",
    "        assert len(rows) == len(rows[0])\n",
    "        \n",
    "        self.rows: List[int] = rows\n",
    "        self.side_length: int = len(rows)\n",
    "        \n",
    "        # Map unmarked numbers to their (row, col) coordinate\n",
    "        self.coord_map = {}\n",
    "        for r, row in enumerate(rows):\n",
    "            for c, num in enumerate(row):\n",
    "                # Assumption: all numbers on board are unique\n",
    "                assert num not in self.coord_map\n",
    "                self.coord_map[num] = (r, c)\n",
    "        \n",
    "        # Extra check to make sure I got all the numbers\n",
    "        assert len(self.coord_map) == self.side_length**2\n",
    "        \n",
    "        # Used to determine if the board has won\n",
    "        self.row_hits: List[int] = [0 for _ in range(len(rows))]\n",
    "        self.col_hits: List[int] = [0 for _ in range(len(rows[0]))]\n",
    "            \n",
    "        self.final_score: int = None\n",
    "            \n",
    "    def mark(self, num: int) -> Optional[int]:\n",
    "        \"\"\"Returns final score if board has won this turn.\"\"\"\n",
    "        if self.final_score:\n",
    "            # Board has already won in a previous turn\n",
    "            return\n",
    "        \n",
    "        r, c = self.coord_map.pop(num)\n",
    "        self.row_hits[r] += 1\n",
    "        self.col_hits[c] += 1\n",
    "        if self.row_hits[r] == self.side_length or self.col_hits[c] == self.side_length:\n",
    "            # The board has won!\n",
    "            self.final_score = num * self.sum_of_unmarked_nums()\n",
    "            return self.final_score\n",
    "    \n",
    "    def sum_of_unmarked_nums(self) -> int:\n",
    "        return sum(self.coord_map.keys())\n",
    "        \n",
    "\n",
    "class Bingo:\n",
    "    \"\"\"Represents a bingo game.\"\"\"\n",
    "    \n",
    "    def __init__(self, chosen_numbers: List[int], raw_boards: List[str]):\n",
    "        # Assume that chosen numbers are all unique\n",
    "        self.chosen_numbers: List[int] = chosen_numbers\n",
    "        assert(len(self.chosen_numbers) == len(set(self.chosen_numbers)))\n",
    "        \n",
    "        self.boards: List[int] = []\n",
    "        self.num_to_board_idx: Dict[int, List[int]] = collections.defaultdict(list)\n",
    "        for board_idx, raw_board in enumerate(raw_boards):\n",
    "            rows = []\n",
    "            for raw_row in raw_board.splitlines():\n",
    "                nums = [int(num) for num in raw_row.split()]\n",
    "                \n",
    "                # Track of which boards have which numbers\n",
    "                for num in nums:\n",
    "                    self.num_to_board_idx[num].append(board_idx)\n",
    "                \n",
    "                rows.append(nums)\n",
    "\n",
    "            board = Board(rows)\n",
    "            self.boards.append(board)\n",
    "        \n",
    "        # Track final scores in order of wins\n",
    "        self.final_scores: List[int] = []\n",
    "        \n",
    "    def run_turn(self, chosen_num: int):\n",
    "        boards_to_mark = [self.boards[idx] for idx in self.num_to_board_idx[chosen_num]]\n",
    "        for board in boards_to_mark:\n",
    "            maybe_file_score = board.mark(chosen_num)\n",
    "            if maybe_file_score is not None:\n",
    "                self.final_scores.append(maybe_file_score)\n",
    "        \n",
    "    def run_game(self):\n",
    "        for chosen_num in chosen_numbers:\n",
    "            self.run_turn(chosen_num)"
   ]
  },
  {
   "cell_type": "code",
   "execution_count": 2,
   "metadata": {},
   "outputs": [],
   "source": [
    "input_filename = \"input.txt\"\n",
    "\n",
    "with open(input_filename) as input_file:\n",
    "    chosen_numbers = [int(num) for num in input_file.readline().strip().split(\",\")]\n",
    "    raw_boards = input_file.read().strip().split(\"\\n\\n\")  # I'm lazy!\n",
    "    \n",
    "game = Bingo(chosen_numbers, raw_boards)\n",
    "game.run_game()"
   ]
  },
  {
   "cell_type": "markdown",
   "metadata": {},
   "source": [
    "# Part 1"
   ]
  },
  {
   "cell_type": "code",
   "execution_count": 3,
   "metadata": {},
   "outputs": [
    {
     "name": "stdout",
     "output_type": "stream",
     "text": [
      "Final score of first winning board: 46920\n"
     ]
    }
   ],
   "source": [
    "print(f\"Final score of first winning board:\", game.final_scores[0])"
   ]
  },
  {
   "cell_type": "markdown",
   "metadata": {},
   "source": [
    "# Part 2"
   ]
  },
  {
   "cell_type": "code",
   "execution_count": 4,
   "metadata": {},
   "outputs": [
    {
     "name": "stdout",
     "output_type": "stream",
     "text": [
      "Final score of last winning board: 12635\n"
     ]
    }
   ],
   "source": [
    "print(f\"Final score of last winning board:\", game.final_scores[-1])"
   ]
  }
 ],
 "metadata": {
  "kernelspec": {
   "display_name": "Python 3 (ipykernel)",
   "language": "python",
   "name": "python3"
  },
  "language_info": {
   "codemirror_mode": {
    "name": "ipython",
    "version": 3
   },
   "file_extension": ".py",
   "mimetype": "text/x-python",
   "name": "python",
   "nbconvert_exporter": "python",
   "pygments_lexer": "ipython3",
   "version": "3.9.6"
  }
 },
 "nbformat": 4,
 "nbformat_minor": 2
}
