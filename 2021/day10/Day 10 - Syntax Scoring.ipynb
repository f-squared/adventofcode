{
 "cells": [
  {
   "cell_type": "code",
   "execution_count": 1,
   "metadata": {},
   "outputs": [],
   "source": [
    "input_filename = \"input.txt\"\n",
    "\n",
    "with open(input_filename) as input_file:\n",
    "    lines = [line.strip() for line in input_file.readlines()]"
   ]
  },
  {
   "cell_type": "code",
   "execution_count": 2,
   "metadata": {},
   "outputs": [],
   "source": [
    "OPEN_TO_CLOSE = {'(': ')', '[': ']', '{': '}', '<': '>'}\n",
    "CLOSE_TO_OPEN = {v: k for k, v in OPEN_TO_CLOSE.items()}"
   ]
  },
  {
   "cell_type": "markdown",
   "metadata": {},
   "source": [
    "# Part 1"
   ]
  },
  {
   "cell_type": "code",
   "execution_count": 3,
   "metadata": {},
   "outputs": [],
   "source": [
    "ILLEGAL_CHAR_SCORE = {\n",
    "    ')': 3,\n",
    "    ']': 57,\n",
    "    '}': 1197,\n",
    "    '>': 25137,\n",
    "}\n",
    "\n",
    "\n",
    "def score_line(line: str) -> int:    \n",
    "    stack = []\n",
    "    \n",
    "    for char in line:\n",
    "        \n",
    "        # Found opening character\n",
    "        if char in OPEN_TO_CLOSE:\n",
    "            stack.append(char)\n",
    "        \n",
    "        # Found closing character\n",
    "        elif char in CLOSE_TO_OPEN:\n",
    "            if stack and CLOSE_TO_OPEN[char] == stack[-1]:\n",
    "                # We've completed a chunk\n",
    "                stack.pop()\n",
    "            else:\n",
    "                # Found bad closing character\n",
    "                return ILLEGAL_CHAR_SCORE[char]\n",
    "            \n",
    "        else:\n",
    "            raise ValueError(\"Unexpected character:\", char)\n",
    "    \n",
    "    return 0"
   ]
  },
  {
   "cell_type": "code",
   "execution_count": 4,
   "metadata": {},
   "outputs": [
    {
     "name": "stdout",
     "output_type": "stream",
     "text": [
      "Total syntax error score: 388713\n"
     ]
    }
   ],
   "source": [
    "total_score = 0\n",
    "remaining_lines = []  # lazy prep for part 2\n",
    "\n",
    "for line in lines:\n",
    "    score = score_line(line)\n",
    "    if score == 0:\n",
    "        remaining_lines.append(line)\n",
    "    total_score += score\n",
    "    \n",
    "print(\"Total syntax error score:\", total_score)"
   ]
  },
  {
   "cell_type": "markdown",
   "metadata": {},
   "source": [
    "# Part 2"
   ]
  },
  {
   "cell_type": "code",
   "execution_count": 5,
   "metadata": {},
   "outputs": [
    {
     "data": {
      "text/plain": [
       "49"
      ]
     },
     "execution_count": 5,
     "metadata": {},
     "output_type": "execute_result"
    }
   ],
   "source": [
    "len(remaining_lines)"
   ]
  },
  {
   "cell_type": "code",
   "execution_count": 6,
   "metadata": {},
   "outputs": [],
   "source": [
    "AUTOCOMPLETE_CHAR_SCORE = {\n",
    "    ')': 1,\n",
    "    ']': 2,\n",
    "    '}': 3,\n",
    "    '>': 4,\n",
    "}\n",
    "\n",
    "\n",
    "def complete_line(line: str) -> int:\n",
    "    \"\"\"Returns score for completing a line.\"\"\"\n",
    "    \n",
    "    stack = []\n",
    "    for char in line:\n",
    "        \n",
    "        # Found opening character\n",
    "        if char in OPEN_TO_CLOSE:\n",
    "            stack.append(char)\n",
    "        \n",
    "        # Found closing character\n",
    "        elif char in CLOSE_TO_OPEN:\n",
    "            try:\n",
    "                popped_char = stack.pop()\n",
    "            except IndexError:\n",
    "                raise ValueError(f\"{line} is not a valid line\")\n",
    "            \n",
    "            assert popped_char == CLOSE_TO_OPEN[char]\n",
    "\n",
    "    score = 0\n",
    "    while stack:\n",
    "        open_char = stack.pop()\n",
    "        close_char = OPEN_TO_CLOSE[open_char]\n",
    "        score = score * 5 + AUTOCOMPLETE_CHAR_SCORE[close_char]\n",
    "    \n",
    "    return score"
   ]
  },
  {
   "cell_type": "code",
   "execution_count": 7,
   "metadata": {},
   "outputs": [
    {
     "name": "stdout",
     "output_type": "stream",
     "text": [
      "Middle completion score: 3539961434\n"
     ]
    }
   ],
   "source": [
    "scores = []\n",
    "for line in remaining_lines:\n",
    "    scores.append(complete_line(line))\n",
    "    \n",
    "scores.sort()\n",
    "midpoint_score = scores[len(scores)//2]\n",
    "\n",
    "print(\"Middle completion score:\", midpoint_score)"
   ]
  }
 ],
 "metadata": {
  "kernelspec": {
   "display_name": "Python 3 (ipykernel)",
   "language": "python",
   "name": "python3"
  },
  "language_info": {
   "codemirror_mode": {
    "name": "ipython",
    "version": 3
   },
   "file_extension": ".py",
   "mimetype": "text/x-python",
   "name": "python",
   "nbconvert_exporter": "python",
   "pygments_lexer": "ipython3",
   "version": "3.9.6"
  }
 },
 "nbformat": 4,
 "nbformat_minor": 2
}
