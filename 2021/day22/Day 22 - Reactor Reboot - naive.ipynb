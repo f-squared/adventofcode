{
 "cells": [
  {
   "cell_type": "code",
   "execution_count": 1,
   "metadata": {},
   "outputs": [],
   "source": [
    "from typing import Tuple, Iterable\n",
    "\n",
    "\n",
    "class RebootStep:\n",
    "    \n",
    "    def __init__(self, x1: int, x2: int, y1: int, y2: int, z1: int, z2: int,\n",
    "                 turn_on: bool = True):\n",
    "        self.x1 = x1\n",
    "        self.x2 = x2\n",
    "        self.y1 = y1\n",
    "        self.y2 = y2\n",
    "        self.z1 = z1\n",
    "        self.z2 = z2\n",
    "        \n",
    "        # Assumption I'm making\n",
    "        assert x1 <= x2\n",
    "        assert y1 <= y2\n",
    "        assert z1 <= z2\n",
    "        \n",
    "        self.turn_on = turn_on\n",
    "\n",
    "    @classmethod\n",
    "    def from_raw(cls, raw_step: str):\n",
    "        onoff, raw_coords = raw_step.strip().split()\n",
    "        \n",
    "        turn_on = True if onoff == 'on' else False\n",
    "        \n",
    "        raw_x, raw_y, raw_z = raw_coords.split(',')\n",
    "        def extract(raw_range: str) -> Tuple[int, int]:\n",
    "            return (int(r) for r in raw_range.split(\"=\")[1].split('..'))\n",
    "        \n",
    "        return cls(*extract(raw_x), *extract(raw_y), *extract(raw_z), turn_on)\n",
    "    \n",
    "    def __repr__(self):\n",
    "        onoff = \"on\" if self.turn_on else \"off\"\n",
    "        x_range = f\"x={self.x1}..{self.x2}\"\n",
    "        y_range = f\"y={self.y1}..{self.y2}\"\n",
    "        z_range = f\"z={self.z1}..{self.z2}\"\n",
    "        \n",
    "        \n",
    "        return f\"RebootStep({onoff} {x_range},{y_range},{z_range})\""
   ]
  },
  {
   "cell_type": "code",
   "execution_count": 2,
   "metadata": {},
   "outputs": [],
   "source": [
    "input_filename = \"input.txt\"\n",
    "\n",
    "with open(input_filename) as input_file:\n",
    "    steps = [RebootStep.from_raw(line) for line in input_file.readlines()]"
   ]
  },
  {
   "cell_type": "markdown",
   "metadata": {},
   "source": [
    "# Part 1\n",
    "Only a naive count so far!"
   ]
  },
  {
   "cell_type": "code",
   "execution_count": 3,
   "metadata": {},
   "outputs": [],
   "source": [
    "def ignore_some(num: int) -> int:\n",
    "    if num < -50:\n",
    "        return -50\n",
    "    if num > 50:\n",
    "        return 50\n",
    "    return num"
   ]
  },
  {
   "cell_type": "code",
   "execution_count": 4,
   "metadata": {},
   "outputs": [],
   "source": [
    "def make_range(start, end) -> Iterable[int]:\n",
    "    if start < -50 or start > 50 or end < -50 or end > 50:\n",
    "        return []\n",
    "    \n",
    "#     start = ignore_some(start)\n",
    "#     end = ignore_some(end)\n",
    "    \n",
    "    return range(start, end+1)"
   ]
  },
  {
   "cell_type": "code",
   "execution_count": 5,
   "metadata": {},
   "outputs": [],
   "source": [
    "on_cubes = set()\n",
    "\n",
    "for step in steps:\n",
    "    if step.turn_on:\n",
    "        for x in make_range(step.x1, step.x2):\n",
    "            for y in make_range(step.y1, step.y2):\n",
    "                for z in make_range(step.z1, step.z2):\n",
    "                    on_cubes.add((x, y, z))\n",
    "    \n",
    "    else:\n",
    "        for x in make_range(step.x1, step.x2):\n",
    "            for y in make_range(step.y1, step.y2):\n",
    "                for z in make_range(step.z1, step.z2):\n",
    "                    try:\n",
    "                        on_cubes.remove((x, y, z))\n",
    "                    except KeyError:\n",
    "                        pass"
   ]
  },
  {
   "cell_type": "code",
   "execution_count": 6,
   "metadata": {},
   "outputs": [
    {
     "name": "stdout",
     "output_type": "stream",
     "text": [
      "num cubes: 553201\n"
     ]
    }
   ],
   "source": [
    "print(\"num cubes:\", len(on_cubes))"
   ]
  },
  {
   "cell_type": "markdown",
   "metadata": {},
   "source": [
    "# Part 2"
   ]
  },
  {
   "cell_type": "code",
   "execution_count": 3,
   "metadata": {},
   "outputs": [],
   "source": [
    "def make_range(start, end) -> Iterable[int]:\n",
    "    return range(start, end+1)"
   ]
  },
  {
   "cell_type": "code",
   "execution_count": null,
   "metadata": {},
   "outputs": [],
   "source": [
    "on_cubes = set()\n",
    "\n",
    "for step in steps:\n",
    "    if step.turn_on:\n",
    "        for x in make_range(step.x1, step.x2):\n",
    "            for y in make_range(step.y1, step.y2):\n",
    "                for z in make_range(step.z1, step.z2):\n",
    "                    on_cubes.add((x, y, z))\n",
    "    \n",
    "    else:\n",
    "        for x in make_range(step.x1, step.x2):\n",
    "            for y in make_range(step.y1, step.y2):\n",
    "                for z in make_range(step.z1, step.z2):\n",
    "                    try:\n",
    "                        on_cubes.remove((x, y, z))\n",
    "                    except KeyError:\n",
    "                        pass"
   ]
  },
  {
   "cell_type": "code",
   "execution_count": null,
   "metadata": {},
   "outputs": [],
   "source": [
    "print(\"num cubes:\", len(on_cubes))"
   ]
  },
  {
   "cell_type": "code",
   "execution_count": null,
   "metadata": {},
   "outputs": [],
   "source": []
  }
 ],
 "metadata": {
  "kernelspec": {
   "display_name": "Python 3 (ipykernel)",
   "language": "python",
   "name": "python3"
  },
  "language_info": {
   "codemirror_mode": {
    "name": "ipython",
    "version": 3
   },
   "file_extension": ".py",
   "mimetype": "text/x-python",
   "name": "python",
   "nbconvert_exporter": "python",
   "pygments_lexer": "ipython3",
   "version": "3.9.6"
  }
 },
 "nbformat": 4,
 "nbformat_minor": 2
}
