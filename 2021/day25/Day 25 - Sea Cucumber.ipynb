{
 "cells": [
  {
   "cell_type": "code",
   "execution_count": 1,
   "metadata": {},
   "outputs": [],
   "source": [
    "from typing import Set, Tuple\n",
    "\n",
    "class SeaCucumberMap:\n",
    "    \n",
    "    def __init__(self,\n",
    "                 num_rows: int,\n",
    "                 num_cols: int,\n",
    "                 east_herd: Set[Tuple[int, int]], \n",
    "                 south_herd: Set[Tuple[int, int]]):\n",
    "        self.num_rows = num_rows\n",
    "        self.num_cols = num_cols\n",
    "\n",
    "        # Keep track of coordinates of sea cucumbers\n",
    "        self.east_herd = east_herd\n",
    "        self.south_herd = south_herd\n",
    "        \n",
    "        self.num_steps = 0\n",
    "        self.equilibrium_reached = False\n",
    "    \n",
    "    @classmethod\n",
    "    def from_raw(cls, raw_map: str):\n",
    "        raw_lines = raw_map.splitlines()\n",
    "        \n",
    "        num_rows = len(raw_lines)\n",
    "        num_cols = len(raw_lines[0])\n",
    "        \n",
    "        east_herd = set()\n",
    "        south_herd = set()\n",
    "        \n",
    "        for r, line in enumerate(raw_lines):\n",
    "            for c, char in enumerate(line):\n",
    "                if char == \">\":\n",
    "                    east_herd.add((r, c))\n",
    "                elif char == \"v\":\n",
    "                    south_herd.add((r, c))\n",
    "                elif char == \".\":\n",
    "                    pass\n",
    "                else:\n",
    "                    raise ValueError(f\"Unexpected character {char} in map!\")\n",
    "                \n",
    "        return cls(num_rows, num_cols, east_herd, south_herd)\n",
    "    \n",
    "    def print_map(self):\n",
    "        if self.num_rows > 20:\n",
    "            print(\"Too large to print.\")\n",
    "            return\n",
    "        \n",
    "        for r in range(self.num_rows):\n",
    "            row = []\n",
    "            for c in range(self.num_cols):\n",
    "                if (r, c) in self.east_herd:\n",
    "                    row.append(\">\")\n",
    "                elif (r, c) in self.south_herd:\n",
    "                    row.append(\"v\")\n",
    "                else:\n",
    "                    row.append(\".\")\n",
    "            print(\"\".join(row))\n",
    "    \n",
    "    def step(self):\n",
    "        movement_has_ocurred = False\n",
    "        \n",
    "        # East herd moves first.\n",
    "        next_east_herd = set()  # make new set so we don't have to worry about set order\n",
    "        for coord in self.east_herd:\n",
    "            next_coord = self.get_next_east(coord)\n",
    "            if self.is_occupied(next_coord):\n",
    "                next_east_herd.add(coord)\n",
    "            else:\n",
    "                next_east_herd.add(next_coord)\n",
    "                movement_has_ocurred = True\n",
    "        self.east_herd = next_east_herd\n",
    "        \n",
    "        # South herd moves.\n",
    "        next_south_herd = set()\n",
    "        for coord in self.south_herd:\n",
    "            next_coord = self.get_next_south(coord)\n",
    "            if self.is_occupied(next_coord):\n",
    "                next_south_herd.add(coord)\n",
    "            else:\n",
    "                next_south_herd.add(next_coord)\n",
    "                movement_has_ocurred = True\n",
    "        self.south_herd = next_south_herd\n",
    "        \n",
    "        self.num_steps += 1\n",
    "        if not movement_has_ocurred:\n",
    "            self.equilibrium_reached = True\n",
    "    \n",
    "    def get_next_east(self, coord: Tuple[int, int]):\n",
    "        r, c = coord\n",
    "        return (r, (c + 1) % self.num_cols)\n",
    "    \n",
    "    def get_next_south(self, coord: Tuple[int, int]):\n",
    "        r, c = coord\n",
    "        return ((r + 1) % self.num_rows, c)\n",
    "    \n",
    "    def is_occupied(self, coord: Tuple[int, int]):\n",
    "        return coord in self.east_herd or coord in self.south_herd"
   ]
  },
  {
   "cell_type": "code",
   "execution_count": 7,
   "metadata": {},
   "outputs": [],
   "source": [
    "input_filename = \"input.txt\"\n",
    "\n",
    "with open(input_filename) as input_file:\n",
    "    grid = SeaCucumberMap.from_raw(input_file.read())"
   ]
  },
  {
   "cell_type": "code",
   "execution_count": 8,
   "metadata": {
    "scrolled": true
   },
   "outputs": [
    {
     "name": "stdout",
     "output_type": "stream",
     "text": [
      "Too large to print.\n"
     ]
    }
   ],
   "source": [
    "grid.print_map()"
   ]
  },
  {
   "cell_type": "code",
   "execution_count": 9,
   "metadata": {},
   "outputs": [],
   "source": [
    "while not grid.equilibrium_reached:\n",
    "    grid.step()"
   ]
  },
  {
   "cell_type": "code",
   "execution_count": 10,
   "metadata": {},
   "outputs": [
    {
     "name": "stdout",
     "output_type": "stream",
     "text": [
      "Too large to print.\n"
     ]
    }
   ],
   "source": [
    "grid.print_map()"
   ]
  },
  {
   "cell_type": "code",
   "execution_count": 11,
   "metadata": {},
   "outputs": [
    {
     "data": {
      "text/plain": [
       "509"
      ]
     },
     "execution_count": 11,
     "metadata": {},
     "output_type": "execute_result"
    }
   ],
   "source": [
    "grid.num_steps"
   ]
  },
  {
   "cell_type": "code",
   "execution_count": null,
   "metadata": {},
   "outputs": [],
   "source": []
  }
 ],
 "metadata": {
  "kernelspec": {
   "display_name": "Python 3 (ipykernel)",
   "language": "python",
   "name": "python3"
  },
  "language_info": {
   "codemirror_mode": {
    "name": "ipython",
    "version": 3
   },
   "file_extension": ".py",
   "mimetype": "text/x-python",
   "name": "python",
   "nbconvert_exporter": "python",
   "pygments_lexer": "ipython3",
   "version": "3.9.6"
  }
 },
 "nbformat": 4,
 "nbformat_minor": 2
}
