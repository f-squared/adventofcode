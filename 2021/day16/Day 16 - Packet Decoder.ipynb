{
 "cells": [
  {
   "cell_type": "code",
   "execution_count": 1,
   "metadata": {},
   "outputs": [],
   "source": [
    "input_filename = \"input.txt\"\n",
    "\n",
    "with open(input_filename) as input_file:\n",
    "    hex_transmission = input_file.read().strip()"
   ]
  },
  {
   "cell_type": "markdown",
   "metadata": {},
   "source": [
    "# Parsing logic"
   ]
  },
  {
   "cell_type": "code",
   "execution_count": 2,
   "metadata": {},
   "outputs": [],
   "source": [
    "from typing import List, Optional, Tuple\n",
    "\n",
    "\n",
    "class Packet:\n",
    "    \n",
    "    def __init__(self, version: int, type_id: int,\n",
    "                 *, \n",
    "                 literal_value: Optional[int] = None,\n",
    "                 subpackets: Optional[List[\"Packet\"]] = None):\n",
    "        self.version = version\n",
    "        self.type_id = type_id\n",
    "        \n",
    "        self.literal_value = literal_value\n",
    "        self.subpackets = subpackets\n",
    "\n",
    "    def __repr__(self):\n",
    "        if self.type_id == 4:\n",
    "            remaining_info = f\"literal_value={str(self.literal_value)}\"\n",
    "        else:\n",
    "            remaining_info = f\"num_subpackets={len(self.subpackets)}\"\n",
    "\n",
    "        return f\"Packet(V={self.version}, T={self.type_id}, {remaining_info})\"\n",
    "\n",
    "\n",
    "class Transmission:\n",
    "    \n",
    "    def __init__(self, hex_msg: str):\n",
    "        self.hex_msg = hex_msg\n",
    "        \n",
    "        self.curr_bits = 0\n",
    "        self.pad = 0  # Track how many 0s are padding the front\n",
    "        \n",
    "        self.idx = 0  # Track which hex character we're looking at\n",
    "        self.num_bits_consumed = 0\n",
    "        \n",
    "        # Stores answer to part 1\n",
    "        self.version_sum = 0\n",
    "        \n",
    "        self.already_parsed = False\n",
    "        self.packet = self.parse()\n",
    "    \n",
    "    def parse(self) -> Packet:\n",
    "        if self.already_parsed:\n",
    "            raise Exception(\"Already parsed!\")\n",
    "        self.already_parsed = True\n",
    "        return self.parse_packet()\n",
    "    \n",
    "    def parse_packet(self) -> Packet:\n",
    "        if self.idx >= len(self.hex_msg):\n",
    "            raise Exception(\"Packet already fully parsed!\")\n",
    "        \n",
    "        version = self.get_next_bits(3)\n",
    "        self.version_sum += version\n",
    "        \n",
    "        type_id = self.get_next_bits(3)\n",
    "        \n",
    "        if type_id == 4:\n",
    "            literal_value = self.get_literal_value()\n",
    "            return Packet(version, type_id, literal_value=literal_value)\n",
    "        \n",
    "        length_type_id = self.get_next_bits(1)\n",
    "        if length_type_id == 0:\n",
    "            total_length_in_bits = self.get_next_bits(15)\n",
    "            subpackets = self.parse_subpackets_by_length(total_length_in_bits)\n",
    "        elif length_type_id == 1:\n",
    "            num_subpackets = self.get_next_bits(11)\n",
    "            subpackets = self.parse_subpackets_by_num_subpackets(num_subpackets)\n",
    "        else:\n",
    "            raise Exception(\"You made a mistake!\")\n",
    "        \n",
    "        return Packet(version, type_id, subpackets=subpackets)\n",
    "\n",
    "    def get_literal_value(self):\n",
    "        value = 0\n",
    "        while True:\n",
    "            bit_group = self.get_next_bits(5)\n",
    "            \n",
    "            # Take current value and append last 4 bits of new bit_group\n",
    "            value = (value << 4) + (bit_group & ((1 << 4) - 1))\n",
    "            \n",
    "            # Check if bit_group is the last group\n",
    "            if not bit_group >> 4:\n",
    "                break\n",
    "        \n",
    "        return value\n",
    "    \n",
    "    def parse_subpackets_by_length(self, total_length_in_bits: int) -> Packet:\n",
    "        \"\"\"\n",
    "        Parse packets until we've consumed `total_length_in_bits` number of bits.\n",
    "        \"\"\"\n",
    "        subpackets = []\n",
    "        num_bits = self.num_bits_consumed\n",
    "        while self.num_bits_consumed <  num_bits + total_length_in_bits:\n",
    "            packet = self.parse_packet()\n",
    "            subpackets.append(packet)\n",
    "        assert self.num_bits_consumed - num_bits == total_length_in_bits\n",
    "        return subpackets\n",
    "\n",
    "    def parse_subpackets_by_num_subpackets(self, num_subpackets: int) -> Packet:\n",
    "        \"\"\"\n",
    "        Parse `num_subpacket` number of packets.\n",
    "        \"\"\"\n",
    "        subpackets = []\n",
    "        for _ in range(num_subpackets):\n",
    "            packet = self.parse_packet()\n",
    "            subpackets.append(packet)\n",
    "        return subpackets\n",
    "    \n",
    "    def get_next_bits(self, num_bits: int):\n",
    "        \"\"\"Gets the next `num_bits` bits of the transmission.\"\"\"\n",
    "        while (self.curr_bits.bit_length() + self.pad) < num_bits:\n",
    "            self.append_next(self.hex_msg[self.idx])\n",
    "            self.idx += 1\n",
    "        \n",
    "        self.num_bits_consumed += num_bits\n",
    "        return self.consume(num_bits)\n",
    "    \n",
    "    def append_next(self, hex_char: str) -> None:\n",
    "        \"\"\"\n",
    "        Takes curr_bits and appends binary value of hex_char at the end.\n",
    "        For example, if curr_bits were 1 and hex_char were 5 = 0101, the\n",
    "        resulting bits would be 10101.\n",
    "        \"\"\"\n",
    "        bits_to_append = int(hex_char, 16)\n",
    "        if self.curr_bits == 0:\n",
    "            self.pad += max(4 - bits_to_append.bit_length(), 0)\n",
    "        \n",
    "        self.curr_bits = (self.curr_bits << 4) + bits_to_append\n",
    "\n",
    "    def consume(self, num_bits: int) -> int:\n",
    "        \"\"\"\n",
    "        Removes the first num_bits from curr_bits (including any padded 0s).\n",
    "        Returns the removed bits.\n",
    "        \"\"\"\n",
    "        num_padded_removed = min(self.pad, num_bits)\n",
    "        self.pad -= num_padded_removed\n",
    "        \n",
    "        num_bits = num_bits - num_padded_removed\n",
    "        \n",
    "        if num_bits > 0:\n",
    "            init_length = self.curr_bits.bit_length()\n",
    "            \n",
    "            num_bits_to_keep = (self.curr_bits.bit_length() + self.pad) - num_bits\n",
    "\n",
    "            removed_bits = self.curr_bits >> num_bits_to_keep\n",
    "            self.curr_bits = self.curr_bits & ((1 << num_bits_to_keep) - 1)\n",
    "            \n",
    "            assert self.pad == 0\n",
    "            self.pad = num_bits_to_keep - self.curr_bits.bit_length()\n",
    "\n",
    "            return removed_bits\n",
    "        \n",
    "        return 0"
   ]
  },
  {
   "cell_type": "markdown",
   "metadata": {},
   "source": [
    "# Part 1"
   ]
  },
  {
   "cell_type": "code",
   "execution_count": 3,
   "metadata": {},
   "outputs": [],
   "source": [
    "def get_version_sum(msg: str) -> int:\n",
    "    t = Transmission(msg)\n",
    "    return t.version_sum"
   ]
  },
  {
   "cell_type": "code",
   "execution_count": 4,
   "metadata": {},
   "outputs": [],
   "source": [
    "# Test cases\n",
    "assert get_version_sum(\"8A004A801A8002F478\") == 16\n",
    "assert get_version_sum(\"620080001611562C8802118E34\") == 12\n",
    "assert get_version_sum(\"C0015000016115A2E0802F182340\") == 23\n",
    "assert get_version_sum(\"A0016C880162017C3686B18A3D4780\") == 31"
   ]
  },
  {
   "cell_type": "code",
   "execution_count": 5,
   "metadata": {},
   "outputs": [
    {
     "data": {
      "text/plain": [
       "923"
      ]
     },
     "execution_count": 5,
     "metadata": {},
     "output_type": "execute_result"
    }
   ],
   "source": [
    "# Real case\n",
    "get_version_sum(hex_transmission)"
   ]
  },
  {
   "cell_type": "markdown",
   "metadata": {},
   "source": [
    "# Part 2"
   ]
  },
  {
   "cell_type": "code",
   "execution_count": 6,
   "metadata": {},
   "outputs": [],
   "source": [
    "def operate(packet: Packet) -> int:\n",
    "    \n",
    "    if packet.type_id == 4:\n",
    "        return packet.literal_value\n",
    "    \n",
    "    values = [operate(subpacket) for subpacket in packet.subpackets]\n",
    "    \n",
    "    if packet.type_id == 0:\n",
    "        return sum(values)\n",
    "    \n",
    "    elif packet.type_id == 1:\n",
    "        product = 1\n",
    "        for value in values:\n",
    "            product *= value\n",
    "        return product\n",
    "    \n",
    "    elif packet.type_id == 2:\n",
    "        return min(values)\n",
    "    \n",
    "    elif packet.type_id == 3:\n",
    "        return max(values)\n",
    "    \n",
    "    elif packet.type_id == 5:\n",
    "        assert len(values) == 2\n",
    "        return 1 if values[0] > values[1] else 0\n",
    "    \n",
    "    elif packet.type_id == 6:\n",
    "        assert len(values) == 2\n",
    "        return 1 if values[0] < values[1] else 0\n",
    "\n",
    "    elif packet.type_id == 7:\n",
    "        assert len(values) == 2\n",
    "        return 1 if values[0] == values[1] else 0\n",
    "    \n",
    "    else:\n",
    "        raise ValueError(\"Unexpected type_id:\", type_id)"
   ]
  },
  {
   "cell_type": "code",
   "execution_count": 7,
   "metadata": {},
   "outputs": [],
   "source": [
    "test_cases = [\n",
    "    # hex message, expected value\n",
    "    (\"D2FE28\", 2021),\n",
    "    (\"C200B40A82\", 3),\n",
    "    (\"04005AC33890\", 54),\n",
    "    (\"880086C3E88112\", 7),\n",
    "    (\"CE00C43D881120\", 9),\n",
    "    (\"D8005AC2A8F0\", 1),\n",
    "    (\"F600BC2D8F\", 0),\n",
    "    (\"9C005AC2F8F0\", 0),\n",
    "    (\"9C0141080250320F1802104A08\", 1),\n",
    "]\n",
    "\n",
    "for hex_msg, expected_value in test_cases:\n",
    "    try:\n",
    "        assert operate(Transmission(hex_msg).packet) == expected_value\n",
    "    except:\n",
    "        print(hex_msg, expected_value)"
   ]
  },
  {
   "cell_type": "code",
   "execution_count": 8,
   "metadata": {},
   "outputs": [
    {
     "data": {
      "text/plain": [
       "258888628940"
      ]
     },
     "execution_count": 8,
     "metadata": {},
     "output_type": "execute_result"
    }
   ],
   "source": [
    "# Real case\n",
    "t = Transmission(hex_transmission)\n",
    "operate(t.packet)"
   ]
  }
 ],
 "metadata": {
  "kernelspec": {
   "display_name": "Python 3 (ipykernel)",
   "language": "python",
   "name": "python3"
  },
  "language_info": {
   "codemirror_mode": {
    "name": "ipython",
    "version": 3
   },
   "file_extension": ".py",
   "mimetype": "text/x-python",
   "name": "python",
   "nbconvert_exporter": "python",
   "pygments_lexer": "ipython3",
   "version": "3.9.6"
  }
 },
 "nbformat": 4,
 "nbformat_minor": 2
}
