{
 "cells": [
  {
   "cell_type": "markdown",
   "metadata": {},
   "source": [
    "During Part 1, I suspected that Part 2 would not work with a brute force solution (i.e. keeping a literal representation of the polymer), so I instead kept track of how often pairs showed up. Luckily that turned out to be the right call for Part 2!"
   ]
  },
  {
   "cell_type": "code",
   "execution_count": 1,
   "metadata": {},
   "outputs": [],
   "source": [
    "import collections\n",
    "from typing import Dict\n",
    "\n",
    "\n",
    "class Polymer:\n",
    "    \n",
    "    def __init__(self, template: str, rule_map: Dict[str, str]):\n",
    "        self.pair_count: Dict[str, int] = collections.defaultdict(int)\n",
    "            \n",
    "        for i in range(len(template)-1):\n",
    "            pair = template[i:i+2]\n",
    "            self.pair_count[pair] += 1\n",
    "\n",
    "        self.char_count: Dict[str, int] = collections.defaultdict(int)\n",
    "        for char in template:\n",
    "            self.char_count[char] += 1\n",
    "        \n",
    "        self.rule_map = rule_map\n",
    "        self.step_num = 0\n",
    "        \n",
    "    def step(self):\n",
    "        new_pair_count: Dict[str, int] = collections.defaultdict(int)\n",
    "        \n",
    "        for rule_pair, rule_insert in self.rule_map.items():\n",
    "            count = self.pair_count.get(rule_pair, 0)\n",
    "            if count > 0:\n",
    "                new_pair_count[rule_pair[0] + rule_insert] += count\n",
    "                new_pair_count[rule_insert + rule_pair[1]] += count\n",
    "                self.char_count[rule_insert] += count\n",
    "        \n",
    "        self.pair_count = new_pair_count\n",
    "        self.step_num += 1\n",
    "        \n",
    "    def answer(self):\n",
    "        sorted_elements = sorted(self.char_count.items(), key=lambda kv: kv[1])\n",
    "        most_common = sorted_elements[-1]\n",
    "        least_common = sorted_elements[0]\n",
    "        \n",
    "        return most_common[1] - least_common[1]"
   ]
  },
  {
   "cell_type": "code",
   "execution_count": 2,
   "metadata": {},
   "outputs": [],
   "source": [
    "def create_polymer(input_filename: str) -> Polymer:\n",
    "    with open(input_filename) as input_file:\n",
    "        template, raw_rules = input_file.read().split(\"\\n\\n\")\n",
    "\n",
    "    rule_map = {}\n",
    "    for rule in raw_rules.splitlines():\n",
    "        pair, element = rule.split(\" -> \")\n",
    "        rule_map[pair] = element\n",
    "    \n",
    "    return Polymer(template, rule_map)"
   ]
  },
  {
   "cell_type": "markdown",
   "metadata": {},
   "source": [
    "# Test Counting Logic"
   ]
  },
  {
   "cell_type": "code",
   "execution_count": 3,
   "metadata": {},
   "outputs": [
    {
     "name": "stdout",
     "output_type": "stream",
     "text": [
      "Test cases succeeded!\n"
     ]
    }
   ],
   "source": [
    "def test_counting_logic():\n",
    "    polymer = create_polymer(\"input-example.txt\")\n",
    "\n",
    "    expected_polymers = {\n",
    "        1: 'NCNBCHB',\n",
    "        2: 'NBCCNBBBCBHCB',\n",
    "        3: 'NBBBCNCCNBBNBNBBCHBHHBCHB',\n",
    "        4: 'NBBNBNBBCCNBCNCCNBBNBBNBBBNBBNBBCBHCBHHNHCBBCBHCB',\n",
    "    }\n",
    "\n",
    "    for i in range(4):\n",
    "        polymer.step()\n",
    "\n",
    "        expected = expected_polymers[polymer.step_num]\n",
    "        \n",
    "        # Get expected values\n",
    "        pair_count = collections.defaultdict(int)\n",
    "        for i in range(len(expected)-1):\n",
    "            pair = expected[i:i+2]\n",
    "            pair_count[pair] += 1\n",
    "        char_count = collections.Counter(expected)\n",
    "\n",
    "        # Compare against values stored in `polymer`.\n",
    "        assert polymer.pair_count == pair_count\n",
    "        assert polymer.char_count == char_count\n",
    "        \n",
    "    for i in range(4, 10):\n",
    "        polymer.step()\n",
    "    assert polymer.answer() == 1588\n",
    "    \n",
    "    for i in range(10, 40):\n",
    "        polymer.step()\n",
    "    assert polymer.answer() == 2188189693529\n",
    "        \n",
    "    print(\"Test cases succeeded!\")\n",
    "\n",
    "test_counting_logic()"
   ]
  },
  {
   "cell_type": "markdown",
   "metadata": {},
   "source": [
    "# Parts 1 and 2"
   ]
  },
  {
   "cell_type": "code",
   "execution_count": 4,
   "metadata": {},
   "outputs": [
    {
     "name": "stdout",
     "output_type": "stream",
     "text": [
      "Part 1 answer: 2233\n",
      "Part 2 answer: 2884513602164\n"
     ]
    }
   ],
   "source": [
    "polymer = create_polymer(\"input.txt\")\n",
    "\n",
    "for i in range(10):\n",
    "    polymer.step()\n",
    "print(\"Part 1 answer:\", polymer.answer())\n",
    "\n",
    "for i in range(30):\n",
    "    polymer.step()\n",
    "print(\"Part 2 answer:\", polymer.answer())"
   ]
  },
  {
   "cell_type": "code",
   "execution_count": null,
   "metadata": {},
   "outputs": [],
   "source": []
  }
 ],
 "metadata": {
  "kernelspec": {
   "display_name": "Python 3 (ipykernel)",
   "language": "python",
   "name": "python3"
  },
  "language_info": {
   "codemirror_mode": {
    "name": "ipython",
    "version": 3
   },
   "file_extension": ".py",
   "mimetype": "text/x-python",
   "name": "python",
   "nbconvert_exporter": "python",
   "pygments_lexer": "ipython3",
   "version": "3.9.6"
  }
 },
 "nbformat": 4,
 "nbformat_minor": 2
}
