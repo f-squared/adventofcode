{
 "cells": [
  {
   "cell_type": "code",
   "execution_count": 1,
   "metadata": {},
   "outputs": [],
   "source": [
    "import collections\n",
    "from typing import Dict, List, Set\n",
    "\n",
    "\n",
    "class CaveGraph:\n",
    "    \n",
    "    @classmethod\n",
    "    def from_input(cls, input_filename: str):\n",
    "        with open(input_filename) as input_file:\n",
    "            raw_lines = input_file.readlines()\n",
    "        \n",
    "        # Map caves to their neighbors\n",
    "        graph: Dict[str, [List[str]]] = collections.defaultdict(list)\n",
    "        \n",
    "        for raw_line in raw_lines:\n",
    "            c1, c2 = raw_line.strip().split(\"-\")\n",
    "            graph[c1].append(c2)\n",
    "            graph[c2].append(c1)\n",
    "            \n",
    "        return cls(graph)    \n",
    "    \n",
    "    def __init__(self, graph):\n",
    "        self.graph = graph\n",
    "        self.num_paths = 0\n",
    "        \n",
    "    def find_paths(self, revisit_small_caves: bool = False):\n",
    "        \"\"\"Breadth-first search the caves starting at `start`.\"\"\"\n",
    "        self.num_paths = 0  # reset just in case we're not starting fresh\n",
    "        \n",
    "        if not revisit_small_caves:\n",
    "            self.travel(set(), \"start\")\n",
    "        else:\n",
    "            self.travel2(set(), set(), \"start\")\n",
    "\n",
    "        return self.num_paths\n",
    "    \n",
    "    def travel(self, visited: Set[str], cave: str) -> None:\n",
    "        \"\"\"We only count small caves towards `visited`.\"\"\"\n",
    "        if cave == \"end\":\n",
    "            self.num_paths += 1\n",
    "            return\n",
    "        \n",
    "        if cave.islower():\n",
    "            visited = visited.union({cave})\n",
    "        \n",
    "        for next_cave in self.graph[cave]:\n",
    "            if next_cave not in visited:\n",
    "                self.travel(visited, next_cave)\n",
    "                \n",
    "    def travel2(self, visited: Set[str], small_visited: Set[str], cave: str) -> None:\n",
    "        \"\"\"\n",
    "        Caves that are added to visited:\n",
    "        - `start` cave\n",
    "        - first small cave that is visited twice\n",
    "        - all other small caves\n",
    "        \"\"\"\n",
    "        if cave == \"end\":\n",
    "            self.num_paths += 1\n",
    "            return\n",
    "        \n",
    "        if cave.islower():\n",
    "            if cave == \"start\":\n",
    "                visited = visited.union({cave})\n",
    "            \n",
    "            elif len(visited) >= 2:\n",
    "                # We've already revisited a small cave\n",
    "                visited = visited.union({cave})\n",
    "            \n",
    "            elif cave in small_visited:\n",
    "                # We are revisiting a small cave for the first time\n",
    "                visited = visited.union(small_visited)\n",
    "                small_visited = set()\n",
    "                \n",
    "            else:\n",
    "                # We haven't re-visited any small caves yet\n",
    "                small_visited = small_visited.union({cave})\n",
    "        \n",
    "        for next_cave in self.graph[cave]:\n",
    "            if next_cave not in visited:\n",
    "                self.travel2(visited, small_visited, next_cave)"
   ]
  },
  {
   "cell_type": "code",
   "execution_count": 2,
   "metadata": {},
   "outputs": [],
   "source": [
    "example_graph_1 = CaveGraph.from_input(\"input-example-1.txt\")\n",
    "example_graph_2 = CaveGraph.from_input(\"input-example-2.txt\")\n",
    "example_graph_3 = CaveGraph.from_input(\"input-example-3.txt\")\n",
    "\n",
    "cave_graph = CaveGraph.from_input(\"input.txt\")"
   ]
  },
  {
   "cell_type": "markdown",
   "metadata": {},
   "source": [
    "# Part 1"
   ]
  },
  {
   "cell_type": "code",
   "execution_count": 3,
   "metadata": {},
   "outputs": [],
   "source": [
    "# Test Cases\n",
    "assert example_graph_1.find_paths() == 10\n",
    "assert example_graph_2.find_paths() == 19\n",
    "assert example_graph_3.find_paths() == 226"
   ]
  },
  {
   "cell_type": "code",
   "execution_count": 4,
   "metadata": {},
   "outputs": [
    {
     "name": "stdout",
     "output_type": "stream",
     "text": [
      "Number of paths: 4885\n"
     ]
    }
   ],
   "source": [
    "num_paths = cave_graph.find_paths()\n",
    "print(\"Number of paths:\", num_paths)"
   ]
  },
  {
   "cell_type": "markdown",
   "metadata": {},
   "source": [
    "# Part 2"
   ]
  },
  {
   "cell_type": "code",
   "execution_count": 5,
   "metadata": {},
   "outputs": [],
   "source": [
    "# Test Cases\n",
    "assert example_graph_1.find_paths(revisit_small_caves=True) == 36\n",
    "assert example_graph_2.find_paths(revisit_small_caves=True) == 103\n",
    "assert example_graph_3.find_paths(revisit_small_caves=True) == 3509"
   ]
  },
  {
   "cell_type": "code",
   "execution_count": 6,
   "metadata": {},
   "outputs": [
    {
     "name": "stdout",
     "output_type": "stream",
     "text": [
      "Number of paths: 117095\n"
     ]
    }
   ],
   "source": [
    "num_paths = cave_graph.find_paths(revisit_small_caves=True)\n",
    "print(\"Number of paths:\", num_paths)"
   ]
  }
 ],
 "metadata": {
  "kernelspec": {
   "display_name": "Python 3 (ipykernel)",
   "language": "python",
   "name": "python3"
  },
  "language_info": {
   "codemirror_mode": {
    "name": "ipython",
    "version": 3
   },
   "file_extension": ".py",
   "mimetype": "text/x-python",
   "name": "python",
   "nbconvert_exporter": "python",
   "pygments_lexer": "ipython3",
   "version": "3.9.6"
  }
 },
 "nbformat": 4,
 "nbformat_minor": 2
}
