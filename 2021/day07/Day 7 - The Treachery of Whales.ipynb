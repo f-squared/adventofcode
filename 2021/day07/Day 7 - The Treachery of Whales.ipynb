{
 "cells": [
  {
   "cell_type": "code",
   "execution_count": 1,
   "metadata": {},
   "outputs": [],
   "source": [
    "input_filename = \"input.txt\"\n",
    "\n",
    "with open(input_filename) as input_file:\n",
    "    crabs = [int(crab) for crab in input_file.read().strip().split(',')]"
   ]
  },
  {
   "cell_type": "code",
   "execution_count": 2,
   "metadata": {},
   "outputs": [],
   "source": [
    "from typing import Callable, List\n",
    "\n",
    "def find_best_pos(crabs: List[int], fuel_func: Callable[[int], int]) -> None:\n",
    "    \"\"\"Brute force way to find the best position.\"\"\"\n",
    "    best_pos = -1\n",
    "    min_fuel = float(\"inf\")\n",
    "\n",
    "    for pos in range(max(crabs)+1):\n",
    "        fuel = sum([fuel_func(abs(pos - crab)) for crab in crabs])\n",
    "        if fuel < min_fuel:\n",
    "            min_fuel = fuel\n",
    "            best_pos = pos\n",
    "\n",
    "        if fuel > min_fuel:\n",
    "            # We've found the min, no need to go on...\n",
    "            break\n",
    "\n",
    "    print(f\"Position {best_pos} takes {min_fuel} fuel\")"
   ]
  },
  {
   "cell_type": "markdown",
   "metadata": {},
   "source": [
    "# Part 1"
   ]
  },
  {
   "cell_type": "code",
   "execution_count": 3,
   "metadata": {},
   "outputs": [
    {
     "name": "stdout",
     "output_type": "stream",
     "text": [
      "Position 324 takes 344535 fuel\n"
     ]
    }
   ],
   "source": [
    "find_best_pos(crabs, lambda n: n)"
   ]
  },
  {
   "cell_type": "markdown",
   "metadata": {},
   "source": [
    "# Part 2"
   ]
  },
  {
   "cell_type": "code",
   "execution_count": 4,
   "metadata": {},
   "outputs": [],
   "source": [
    "def calc_fuel(n: int):\n",
    "    \"\"\"n = number of steps to take\"\"\"\n",
    "    return int((n / 2) * (n + 1))"
   ]
  },
  {
   "cell_type": "code",
   "execution_count": 5,
   "metadata": {},
   "outputs": [
    {
     "name": "stdout",
     "output_type": "stream",
     "text": [
      "Position 472 takes 95581659 fuel\n"
     ]
    }
   ],
   "source": [
    "find_best_pos(crabs, calc_fuel)"
   ]
  }
 ],
 "metadata": {
  "kernelspec": {
   "display_name": "Python 3 (ipykernel)",
   "language": "python",
   "name": "python3"
  },
  "language_info": {
   "codemirror_mode": {
    "name": "ipython",
    "version": 3
   },
   "file_extension": ".py",
   "mimetype": "text/x-python",
   "name": "python",
   "nbconvert_exporter": "python",
   "pygments_lexer": "ipython3",
   "version": "3.9.6"
  }
 },
 "nbformat": 4,
 "nbformat_minor": 2
}
