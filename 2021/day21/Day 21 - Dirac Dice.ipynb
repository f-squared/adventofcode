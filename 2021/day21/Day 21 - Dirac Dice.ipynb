{
 "cells": [
  {
   "cell_type": "markdown",
   "metadata": {},
   "source": [
    "# Part 1"
   ]
  },
  {
   "cell_type": "code",
   "execution_count": 1,
   "metadata": {},
   "outputs": [],
   "source": [
    "class Game:\n",
    "    \n",
    "    def __init__(self, p1: int, p2: int):\n",
    "        self.deterministic_die = 100\n",
    "        \n",
    "        # positions\n",
    "        self.p1 = p1\n",
    "        self.p2 = p2\n",
    "        \n",
    "        self.score1 = 0\n",
    "        self.score2 = 0\n",
    "        \n",
    "        self.num_die_rolls = 0\n",
    "        \n",
    "        self.is_over = False\n",
    "    \n",
    "    def roll_die(self):\n",
    "        self.deterministic_die += 1\n",
    "        if self.deterministic_die == 101:\n",
    "            self.deterministic_die = 1\n",
    "        return self.deterministic_die\n",
    "        \n",
    "    def play_round(self):\n",
    "        # Player 1's turn\n",
    "        steps = sum(self.roll_die() for _ in range(3))\n",
    "        self.p1 += steps\n",
    "        self.p1 = self.p1 % 10\n",
    "        if self.p1 == 0:\n",
    "            self.p1 = 10\n",
    "        self.score1 += self.p1\n",
    "        self.num_die_rolls += 3\n",
    "        \n",
    "        if self.score1 >= 1000:\n",
    "            self.is_over = True\n",
    "            return\n",
    "        \n",
    "        # Player 2's turn\n",
    "        steps = sum(self.roll_die() for _ in range(3))\n",
    "        self.p2 += steps\n",
    "        self.p2 = self.p2 % 10\n",
    "        if self.p2 == 0:\n",
    "            self.p2 = 10\n",
    "        self.score2 += self.p2\n",
    "        self.num_die_rolls += 3\n",
    "        \n",
    "        if self.score2 >= 1000:\n",
    "            self.is_over = True"
   ]
  },
  {
   "cell_type": "code",
   "execution_count": 2,
   "metadata": {},
   "outputs": [
    {
     "name": "stdout",
     "output_type": "stream",
     "text": [
      "Answer to Part 1: 556206\n"
     ]
    }
   ],
   "source": [
    "def part1(p1, p2):\n",
    "    game = Game(p1, p2)\n",
    "    while not game.is_over:\n",
    "        game.play_round()\n",
    "    \n",
    "    losing_score = min(game.score1, game.score2)\n",
    "    return losing_score * game.num_die_rolls\n",
    "        \n",
    "\n",
    "# Test Case\n",
    "assert part1(4, 8) == 739785\n",
    "\n",
    "# Get real answer\n",
    "print(\"Answer to Part 1:\", part1(7, 8))"
   ]
  },
  {
   "cell_type": "markdown",
   "metadata": {},
   "source": [
    "# Part 2"
   ]
  },
  {
   "cell_type": "code",
   "execution_count": 3,
   "metadata": {},
   "outputs": [],
   "source": [
    "from collections import defaultdict\n",
    "from copy import deepcopy\n",
    "\n",
    "\n",
    "class MultiverseGame:\n",
    "    \n",
    "    # Sum of die outcome -> number of multiverse branches where the outcome occurs\n",
    "    DIRAC_OUTCOMES = {3: 1, 4: 3, 5: 6, 6: 7, 7: 6, 8: 3, 9: 1}\n",
    "    \n",
    "    WINNING_SCORE = 21\n",
    "    \n",
    "    def __init__(self, p1: int, p2: int):\n",
    "        self.multi_positions = defaultdict(lambda: defaultdict(int))\n",
    "        # This is the root universe.\n",
    "        # Players start at starting positions with scores of 0.\n",
    "        self.multi_positions[(p1, p2)][0, 0] += 1\n",
    "        \n",
    "        self.player_1_wins = 0\n",
    "        self.player_2_wins = 0\n",
    "        \n",
    "    def get_new_positions(self, curr_pos: int):\n",
    "        new_positions = defaultdict(int)\n",
    "        for roll_sum, count in self.DIRAC_OUTCOMES.items():\n",
    "            new_position = (curr_pos + roll_sum) % 10\n",
    "            if new_position == 0:\n",
    "                new_position = 10\n",
    "            new_positions[new_position] += count\n",
    "        return new_positions\n",
    "    \n",
    "    def play_round(self):\n",
    "        new_multi_positions = defaultdict(lambda: defaultdict(int))\n",
    "        \n",
    "        # Possible positions, and possible scores associated with each possible position\n",
    "        for (p1, p2), scores_dict in self.multi_positions.items():\n",
    "\n",
    "            # Player 1's turn to roll Dirac Dice\n",
    "            new_positions1 = self.get_new_positions(p1)\n",
    "            # Player's 2 turn to roll Dirac Dice\n",
    "            new_positions2 = self.get_new_positions(p2)\n",
    "            \n",
    "            # Calculate new multiverses' scores\n",
    "            for new_p1, count1 in new_positions1.items():\n",
    "                for (score1, score2), score_count in scores_dict.items():\n",
    "                    # First see how player 1 is doing\n",
    "                    if score1 > self.WINNING_SCORE or score2 > self.WINNING_SCORE:\n",
    "                        raise Exception(\"You made a mistake!)\")\n",
    "\n",
    "                    new_score1 = score1+new_p1\n",
    "                    if new_score1 >= self.WINNING_SCORE:\n",
    "                        self.player_1_wins += count1*score_count\n",
    "                        continue\n",
    "                    \n",
    "                    # Now we factor in player 2 into the multiverses\n",
    "                    for new_p2, count2 in new_positions2.items():\n",
    "                        new_count = count1*count2*score_count\n",
    "                        \n",
    "                        new_score2 = score2+new_p2\n",
    "                        if new_score2 >= self.WINNING_SCORE:\n",
    "                            self.player_2_wins += new_count\n",
    "                            continue\n",
    "                        \n",
    "                        new_both_pos = (new_p1, new_p2)\n",
    "                        new_scores = (new_score1, new_score2)\n",
    "                        new_multi_positions[new_both_pos][new_scores] += new_count\n",
    "                \n",
    "\n",
    "                    \n",
    "\n",
    "                        \n",
    "        self.multi_positions = new_multi_positions"
   ]
  },
  {
   "cell_type": "code",
   "execution_count": 4,
   "metadata": {
    "scrolled": true
   },
   "outputs": [
    {
     "name": "stdout",
     "output_type": "stream",
     "text": [
      "The player who won in the most universes won games in 630797200227453 universes.\n"
     ]
    }
   ],
   "source": [
    "def part2(p1, p2):\n",
    "    game = MultiverseGame(p1, p2)\n",
    "    i = 0\n",
    "    while game.multi_positions:\n",
    "        # There's a multiverse where no one has explored yet,\n",
    "        # so keep exploring the multiverses.\n",
    "        game.play_round()\n",
    "        if i > 21:\n",
    "            raise Exception(\"Your loop is going on for too long!\")\n",
    "    \n",
    "    return game\n",
    "\n",
    "\n",
    "# Test case\n",
    "test_game = part2(4, 8)\n",
    "test_game.player_1_wins == 444356092776315\n",
    "test_game.player_2_wins == 341960390180808\n",
    "\n",
    "# Actual case\n",
    "game = part2(7, 8)\n",
    "answer = max(game.player_1_wins, game.player_2_wins)\n",
    "print(f\"The player who won in the most universes won games in {answer} universes.\")"
   ]
  }
 ],
 "metadata": {
  "kernelspec": {
   "display_name": "Python 3 (ipykernel)",
   "language": "python",
   "name": "python3"
  },
  "language_info": {
   "codemirror_mode": {
    "name": "ipython",
    "version": 3
   },
   "file_extension": ".py",
   "mimetype": "text/x-python",
   "name": "python",
   "nbconvert_exporter": "python",
   "pygments_lexer": "ipython3",
   "version": "3.9.6"
  }
 },
 "nbformat": 4,
 "nbformat_minor": 2
}
