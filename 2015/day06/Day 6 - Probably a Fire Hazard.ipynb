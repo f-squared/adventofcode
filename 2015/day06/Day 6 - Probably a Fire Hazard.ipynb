{
 "cells": [
  {
   "cell_type": "markdown",
   "metadata": {},
   "source": [
    "First, let's parse the instructions."
   ]
  },
  {
   "cell_type": "code",
   "execution_count": 1,
   "metadata": {},
   "outputs": [],
   "source": [
    "from enum import Enum\n",
    "from typing import NamedTuple, List, Callable, Dict"
   ]
  },
  {
   "cell_type": "code",
   "execution_count": 2,
   "metadata": {},
   "outputs": [],
   "source": [
    "class Operation(Enum):\n",
    "    TURN_ON = \"turn on\"\n",
    "    TURN_OFF = \"turn off\"\n",
    "    TOGGLE = \"toggle\"\n",
    "\n",
    "class Instruction(NamedTuple):\n",
    "    op: Operation\n",
    "    col_start: int\n",
    "    row_start: int\n",
    "    col_end: int\n",
    "    row_end: int"
   ]
  },
  {
   "cell_type": "code",
   "execution_count": 3,
   "metadata": {},
   "outputs": [],
   "source": [
    "def parse_line(line: str) -> Instruction:\n",
    "    elements = line.split()\n",
    "    \n",
    "    end_coords = elements.pop().split(',')\n",
    "    elements.pop()  # pop \"through\" string\n",
    "    start_coords = elements.pop().split(',')\n",
    "    op = \" \".join(elements)\n",
    "    \n",
    "    return Instruction(\n",
    "        Operation(op), \n",
    "        int(start_coords[0]),\n",
    "        int(start_coords[1]),\n",
    "        int(end_coords[0]),\n",
    "        int(end_coords[1]),\n",
    "    )\n",
    "\n",
    "    \n",
    "with open(\"day-6-input.txt\") as file:\n",
    "    instructions = [parse_line(line) for line in file.readlines()]"
   ]
  },
  {
   "cell_type": "markdown",
   "metadata": {},
   "source": [
    "# \"Normal\" Solution"
   ]
  },
  {
   "cell_type": "code",
   "execution_count": 4,
   "metadata": {},
   "outputs": [],
   "source": [
    "def find_solution(instructions: List[Instruction],\n",
    "                  op_map: Dict[Operation, Callable[[int], int]],\n",
    "                  count_func: Callable[[List[List[int]]], None]) -> None:\n",
    "    \n",
    "    num_cols = num_rows = 1000\n",
    "    # 0 for light off, 1+ for light on.\n",
    "    grid = [[0 for c in range(num_cols)] for r in range(num_rows)]\n",
    "    \n",
    "    for instruction in instructions:\n",
    "        op_func = op_map[instruction.op]\n",
    "        for r in range(instruction.row_start, instruction.row_end+1):\n",
    "            for c in range(instruction.col_start, instruction.col_end+1):\n",
    "                grid[r][c] = op_func(grid[r][c])\n",
    "\n",
    "    count_func(grid)"
   ]
  },
  {
   "cell_type": "markdown",
   "metadata": {},
   "source": [
    "## Part 1"
   ]
  },
  {
   "cell_type": "code",
   "execution_count": 5,
   "metadata": {},
   "outputs": [],
   "source": [
    "op_map_1 = {\n",
    "    Operation.TURN_ON: lambda state: 1,\n",
    "    Operation.TURN_OFF: lambda state: 0,\n",
    "    Operation.TOGGLE: lambda state: state ^ 1,\n",
    "}"
   ]
  },
  {
   "cell_type": "code",
   "execution_count": 6,
   "metadata": {},
   "outputs": [],
   "source": [
    "def count_lights(grid: List[List[int]]) -> None:\n",
    "    count = 0\n",
    "    for row in grid:\n",
    "        for cell in row:\n",
    "            if cell == 1:\n",
    "                count += 1\n",
    "    print(\"Total lights lit:\", count)"
   ]
  },
  {
   "cell_type": "code",
   "execution_count": 7,
   "metadata": {},
   "outputs": [
    {
     "name": "stdout",
     "output_type": "stream",
     "text": [
      "Total lights lit: 377891\n"
     ]
    }
   ],
   "source": [
    "find_solution(instructions, op_map_1, count_lights)"
   ]
  },
  {
   "cell_type": "markdown",
   "metadata": {},
   "source": [
    "## Part 2"
   ]
  },
  {
   "cell_type": "code",
   "execution_count": 8,
   "metadata": {},
   "outputs": [],
   "source": [
    "op_map_2 = {\n",
    "    Operation.TURN_ON: lambda state: state + 1,\n",
    "    Operation.TURN_OFF: lambda state: max(state - 1, 0),\n",
    "    Operation.TOGGLE: lambda state: state + 2,\n",
    "}"
   ]
  },
  {
   "cell_type": "code",
   "execution_count": 9,
   "metadata": {},
   "outputs": [],
   "source": [
    "def measure_brightness(grid: List[List[int]]) -> None:\n",
    "    total = 0\n",
    "    for row in grid:\n",
    "        for cell in row:\n",
    "            total += cell\n",
    "    \n",
    "    print(\"Total brightness:\", total)"
   ]
  },
  {
   "cell_type": "code",
   "execution_count": 10,
   "metadata": {},
   "outputs": [
    {
     "name": "stdout",
     "output_type": "stream",
     "text": [
      "Total brightness: 14110788\n"
     ]
    }
   ],
   "source": [
    "find_solution(instructions, op_map_2, measure_brightness)"
   ]
  },
  {
   "cell_type": "markdown",
   "metadata": {},
   "source": [
    "# Bit Manipulation Solution\n",
    "Part 1 could be done with bit manipulation in Python, so I thought I'd code it up for fun. However, this feels pretty bad because I'm literally making numbers up to $2^{1,000,000}$."
   ]
  },
  {
   "cell_type": "code",
   "execution_count": 11,
   "metadata": {},
   "outputs": [],
   "source": [
    "class BitGrid:\n",
    "    \n",
    "    def __init__(self, num_cols: int, num_rows: int):\n",
    "        self._num_cols = num_cols\n",
    "        self._num_rows = num_rows\n",
    "        self._value = 0\n",
    "        \n",
    "    def follow_instructions(self, instructions: List[Instruction]) -> None:\n",
    "        for instruction in instructions:\n",
    "            self._follow_instruction(instruction)\n",
    "    \n",
    "    def _follow_instruction(self, instruction: Instruction) -> None:\n",
    "        if instruction.op == Operation.TURN_ON:\n",
    "            self._turn_on(instruction)\n",
    "        elif instruction.op == Operation.TURN_OFF:\n",
    "            self._turn_off(instruction)\n",
    "        elif instruction.op == Operation.TOGGLE:\n",
    "            self._toggle(instruction)\n",
    "        else:\n",
    "            raise ValueError(\"Unexpected operation:\", instruction.op)\n",
    "\n",
    "    def _turn_on(self, instruction: Instruction) -> None:\n",
    "        \"\"\"Set bits.\"\"\"\n",
    "        mask_len = instruction.col_end - instruction.col_start + 1\n",
    "        mask = 2**mask_len - 1\n",
    "        for r in range(instruction.row_start, instruction.row_end+1):\n",
    "            shift = r * self._num_cols + instruction.col_start\n",
    "            self._value = self._value | (mask << shift)\n",
    "            \n",
    "    def _turn_off(self, instruction: Instruction) -> None:\n",
    "        \"\"\"Clear bits.\"\"\"\n",
    "        mask_len = instruction.col_end - instruction.col_start + 1\n",
    "        mask = 2**mask_len - 1\n",
    "        for r in range(instruction.row_start, instruction.row_end+1):\n",
    "            shift = r * self._num_cols + instruction.col_start\n",
    "            self._value = self._value & ~(mask << shift)\n",
    "        \n",
    "    def _toggle(self, instruction: Instruction) -> None:\n",
    "        \"\"\"Toggle bits with XOR.\"\"\"\n",
    "        mask_len = instruction.col_end - instruction.col_start + 1\n",
    "        mask = 2**mask_len - 1\n",
    "        for r in range(instruction.row_start, instruction.row_end+1):\n",
    "            shift = r * self._num_cols + instruction.col_start\n",
    "            self._value = self._value ^ (mask << shift)\n",
    "            \n",
    "    def count_lights(self) -> int:\n",
    "        \"\"\"Give up and and don't use bit manipulation due to performance.\"\"\"\n",
    "        return bin(self._value).count(\"1\")"
   ]
  },
  {
   "cell_type": "code",
   "execution_count": 12,
   "metadata": {
    "scrolled": true
   },
   "outputs": [
    {
     "data": {
      "text/plain": [
       "377891"
      ]
     },
     "execution_count": 12,
     "metadata": {},
     "output_type": "execute_result"
    }
   ],
   "source": [
    "num_cols = num_rows = 1000\n",
    "bit_grid = BitGrid(num_cols, num_rows)\n",
    "bit_grid.follow_instructions(instructions)\n",
    "bit_grid.count_lights()"
   ]
  },
  {
   "cell_type": "code",
   "execution_count": null,
   "metadata": {},
   "outputs": [],
   "source": []
  }
 ],
 "metadata": {
  "kernelspec": {
   "display_name": "Python 3 (ipykernel)",
   "language": "python",
   "name": "python3"
  },
  "language_info": {
   "codemirror_mode": {
    "name": "ipython",
    "version": 3
   },
   "file_extension": ".py",
   "mimetype": "text/x-python",
   "name": "python",
   "nbconvert_exporter": "python",
   "pygments_lexer": "ipython3",
   "version": "3.9.6"
  }
 },
 "nbformat": 4,
 "nbformat_minor": 2
}
