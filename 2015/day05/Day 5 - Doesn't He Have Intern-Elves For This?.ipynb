{
 "cells": [
  {
   "cell_type": "code",
   "execution_count": 1,
   "metadata": {},
   "outputs": [],
   "source": [
    "import collections"
   ]
  },
  {
   "cell_type": "code",
   "execution_count": 2,
   "metadata": {},
   "outputs": [],
   "source": [
    "filename = \"day-5-input.txt\"\n",
    "\n",
    "with open(filename) as file:\n",
    "    strings = [line.strip() for line in file.readlines()]"
   ]
  },
  {
   "cell_type": "markdown",
   "metadata": {},
   "source": [
    "# Part 1"
   ]
  },
  {
   "cell_type": "code",
   "execution_count": 3,
   "metadata": {},
   "outputs": [],
   "source": [
    "def is_nice_pt1(string: str) -> bool:\n",
    "    # does not contain the strings \"ab\", \"cd\", \"pq\", or \"xy\"\n",
    "    naughty_substrings = [\"ab\", \"cd\", \"pq\", \"xy\"]\n",
    "    for naughty_substring in naughty_substrings:\n",
    "        if naughty_substring in string:\n",
    "            return False\n",
    "\n",
    "    prev = None\n",
    "    found_double = False\n",
    "    num_vowels = 0\n",
    "    for letter in string:\n",
    "        if letter in \"aeiou\":\n",
    "            num_vowels += 1\n",
    "        if prev == letter:\n",
    "            found_double = True\n",
    "        prev = letter\n",
    "\n",
    "    # contains one letter that appears twice in a row\n",
    "    if not found_double:\n",
    "        return False\n",
    "    \n",
    "    # contains 3 vowels\n",
    "    if num_vowels < 3:\n",
    "        return False\n",
    "    \n",
    "    return True"
   ]
  },
  {
   "cell_type": "code",
   "execution_count": 4,
   "metadata": {},
   "outputs": [],
   "source": [
    "# Test Cases\n",
    "assert is_nice_pt1(\"ugknbfddgicrmopn\") is True\n",
    "assert is_nice_pt1(\"aaa\") is True\n",
    "assert is_nice_pt1(\"jchzalrnumimnmhp\") is False\n",
    "assert is_nice_pt1(\"haegwjzuvuyypxyu\") is False\n",
    "assert is_nice_pt1(\"dvszwmarrgswjxmb\") is False"
   ]
  },
  {
   "cell_type": "code",
   "execution_count": 5,
   "metadata": {},
   "outputs": [
    {
     "name": "stdout",
     "output_type": "stream",
     "text": [
      "236 strings are nice\n"
     ]
    }
   ],
   "source": [
    "num_nice_strings = 0\n",
    "for string in strings:\n",
    "    if is_nice_pt1(string):\n",
    "        num_nice_strings += 1\n",
    "        \n",
    "print(num_nice_strings, \"strings are nice\")"
   ]
  },
  {
   "cell_type": "markdown",
   "metadata": {},
   "source": [
    "# Part 2"
   ]
  },
  {
   "cell_type": "code",
   "execution_count": 6,
   "metadata": {},
   "outputs": [],
   "source": [
    "def is_nice_pt2(string: str) -> bool:\n",
    "    # map two letters to index of the first letter of the two letters\n",
    "    pairs_to_idxs = collections.defaultdict(list)\n",
    "    # keep track of triplets letters\n",
    "    triplets = set()\n",
    "    for i in range(len(string)-1):\n",
    "        pair = string[i:i+2]\n",
    "        pairs_to_idxs[pair].append(i)\n",
    "        if i < len(string)-2:\n",
    "            triplets.add(string[i:i+3])\n",
    "\n",
    "    # see if any pairs appear twice without overlap\n",
    "    found_double_pair = False\n",
    "    for pair, idxs in pairs_to_idxs.items():\n",
    "        if len(idxs) > 2:\n",
    "            found_double_pair = True\n",
    "            break\n",
    "        elif len(idxs) == 2:\n",
    "            if idxs[1]-idxs[0] > 1:\n",
    "                found_double_pair = True\n",
    "                break            \n",
    "    if not found_double_pair:\n",
    "        return False\n",
    "    \n",
    "    # see if any triplets have a repeating letter with one in between\n",
    "    for triplet in triplets:\n",
    "        if triplet[0] == triplet[2]:\n",
    "            return True\n",
    "    \n",
    "    return False"
   ]
  },
  {
   "cell_type": "code",
   "execution_count": 7,
   "metadata": {},
   "outputs": [],
   "source": [
    "# Test Cases\n",
    "assert is_nice_pt2(\"qjhvhtzxzqqjkmpb\") is True\n",
    "assert is_nice_pt2(\"xxyxx\") is True\n",
    "assert is_nice_pt2(\"uurcxstgmygtbstg\") is False\n",
    "assert is_nice_pt2(\"ieodomkazucvgmuy\") is False"
   ]
  },
  {
   "cell_type": "code",
   "execution_count": 8,
   "metadata": {},
   "outputs": [
    {
     "name": "stdout",
     "output_type": "stream",
     "text": [
      "51 strings are nice\n"
     ]
    }
   ],
   "source": [
    "num_nice_strings = 0\n",
    "for string in strings:\n",
    "    if is_nice_pt2(string):\n",
    "        num_nice_strings += 1\n",
    "        \n",
    "print(num_nice_strings, \"strings are nice\")"
   ]
  },
  {
   "cell_type": "code",
   "execution_count": null,
   "metadata": {},
   "outputs": [],
   "source": []
  }
 ],
 "metadata": {
  "kernelspec": {
   "display_name": "Python 3",
   "language": "python",
   "name": "python3"
  },
  "language_info": {
   "codemirror_mode": {
    "name": "ipython",
    "version": 3
   },
   "file_extension": ".py",
   "mimetype": "text/x-python",
   "name": "python",
   "nbconvert_exporter": "python",
   "pygments_lexer": "ipython3",
   "version": "3.6.5"
  }
 },
 "nbformat": 4,
 "nbformat_minor": 2
}
