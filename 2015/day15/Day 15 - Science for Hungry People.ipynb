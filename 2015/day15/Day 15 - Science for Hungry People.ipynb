{
 "cells": [
  {
   "cell_type": "code",
   "execution_count": 1,
   "id": "f76bc205",
   "metadata": {},
   "outputs": [],
   "source": [
    "import re\n",
    "\n",
    "\n",
    "INGREDIENT_TEMPLATE = (\n",
    "    \"(\\S*)\\: capacity (-?\\d+), durability (-?\\d+), flavor (-?\\d+), texture (-?\\d+), calories (-?\\d+)\"\n",
    ")\n",
    "\n",
    "capacities = []\n",
    "durabilities = []\n",
    "flavors = []\n",
    "textures = []\n",
    "calories = []\n",
    "\n",
    "\n",
    "input_filename = \"input-example.txt\"\n",
    "with open(input_filename) as input_file:\n",
    "    for line in input_file.readlines():\n",
    "        ingredient_search = re.search(INGREDIENT_TEMPLATE, line)\n",
    "        \n",
    "        capacities.append(int(ingredient_search.group(2)))\n",
    "        durabilities.append(int(ingredient_search.group(3)))\n",
    "        flavors.append(int(ingredient_search.group(4)))\n",
    "        textures.append(int(ingredient_search.group(5)))\n",
    "        calories.append(int(ingredient_search.group(6)))"
   ]
  },
  {
   "cell_type": "code",
   "execution_count": 16,
   "id": "1d776531",
   "metadata": {},
   "outputs": [],
   "source": [
    "def mixtures(n, total):\n",
    "    start = total if n == 1 else 0\n",
    "\n",
    "    for i in range(start, total+1):\n",
    "        left = total - i\n",
    "        if n-1:\n",
    "            for y in mixtures(n-1, left):\n",
    "                yield [i] + y\n",
    "        else:\n",
    "            yield [i]"
   ]
  },
  {
   "cell_type": "code",
   "execution_count": null,
   "id": "31077dda",
   "metadata": {},
   "outputs": [],
   "source": []
  }
 ],
 "metadata": {
  "kernelspec": {
   "display_name": "Python 3 (ipykernel)",
   "language": "python",
   "name": "python3"
  },
  "language_info": {
   "codemirror_mode": {
    "name": "ipython",
    "version": 3
   },
   "file_extension": ".py",
   "mimetype": "text/x-python",
   "name": "python",
   "nbconvert_exporter": "python",
   "pygments_lexer": "ipython3",
   "version": "3.9.9"
  }
 },
 "nbformat": 4,
 "nbformat_minor": 5
}
