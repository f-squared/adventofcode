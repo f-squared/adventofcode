{
 "cells": [
  {
   "cell_type": "code",
   "execution_count": 1,
   "id": "faada2a7",
   "metadata": {},
   "outputs": [],
   "source": [
    "input_filename_test = \"input-example.txt\"\n",
    "input_filename = \"input.txt\""
   ]
  },
  {
   "cell_type": "code",
   "execution_count": 2,
   "id": "2eb27f88",
   "metadata": {},
   "outputs": [],
   "source": [
    "MAX_SIGNAL = 65535\n",
    "OPERATORS = {\"AND\", \"OR\", \"NOT\", \"LSHIFT\", \"RSHIFT\"}\n",
    "\n",
    "\n",
    "class Instruction:\n",
    "    def __init__(self, raw_line: str) -> None:\n",
    "        self.orig = raw_line.strip()\n",
    "        \n",
    "        raw_instruction, wire = self.orig.split(\" -> \")\n",
    "        self.wire = wire\n",
    "        self.input_wires = []\n",
    "        self.parts = []\n",
    "        for part in raw_instruction.split():\n",
    "            try:\n",
    "                self.parts.append(int(part))\n",
    "            except ValueError:\n",
    "                self.parts.append(part)\n",
    "                if part not in OPERATORS:\n",
    "                    self.input_wires.append(part)\n",
    "        \n",
    "        # We expect only 1, 2, or 3 components before the \"->\"\n",
    "        if len(self.parts) > 3 or len(self.parts) < 1:\n",
    "            raise ValueError(\"Unexpected instruction format:\", raw_instruction)\n",
    "\n",
    "    def __repr__(self) -> str:\n",
    "        return f\"Instruction({self.orig})\"\n",
    "    \n",
    "    def __str__(self) -> str:\n",
    "        return self.orig\n",
    "            \n",
    "    def update(self, wire: str, signal: int) -> None:\n",
    "        for i, part in enumerate(self.parts):\n",
    "            if part == wire:\n",
    "                self.parts[i] = signal\n",
    "                \n",
    "    def can_reduce(self) -> bool:\n",
    "        if len(self.parts) == 1:\n",
    "            if isinstance(self.parts[0], int):\n",
    "                return True\n",
    "            \n",
    "        elif len(self.parts) == 2:\n",
    "            if isinstance(self.parts[1], int):\n",
    "                return True\n",
    "            \n",
    "        elif len(self.parts) == 3:\n",
    "            if isinstance(self.parts[0], int) and isinstance(self.parts[2], int):\n",
    "                return True\n",
    "        \n",
    "        return False\n",
    "                \n",
    "    def reduce(self) -> int:\n",
    "        \"\"\"\n",
    "        Produce the signal value for this instruction.\n",
    "        Can only reduce if all input wires are replaced with their signal values.\n",
    "        \"\"\"\n",
    "        \n",
    "        if len(self.parts) == 1:\n",
    "            assert isinstance(self.parts[0], int)\n",
    "            return int(self.parts[0])\n",
    "        \n",
    "        # Unary operations (it's only NOT)\n",
    "        elif len(self.parts) == 2:\n",
    "            assert isinstance(self.parts[1], int)\n",
    "            if self.parts[0] != \"NOT\":\n",
    "                raise ValueError(\"Unexpected unary operator:\", self.parts[0])\n",
    "            \n",
    "            return MAX_SIGNAL - self.parts[1]\n",
    "        \n",
    "        # Binary operations\n",
    "        elif len(self.parts) == 3:\n",
    "            assert isinstance(self.parts[0], int)\n",
    "            assert isinstance(self.parts[2], int)\n",
    "            \n",
    "            operator = self.parts[1]\n",
    "            if operator == \"AND\":\n",
    "                return self.parts[0] & self.parts[2]\n",
    "            elif operator == \"OR\":\n",
    "                return self.parts[0] | self.parts[2]\n",
    "            elif operator == \"LSHIFT\":\n",
    "                return self.parts[0] << self.parts[2]\n",
    "            elif operator == \"RSHIFT\":\n",
    "                return self.parts[0] >> self.parts[2]\n",
    "            \n",
    "            else:\n",
    "                raise ValueError(\"Unexpected binary operator:\", operator)\n",
    "                \n",
    "        \n",
    "        else:\n",
    "            raise ValueError(\"Unexpected number of instruction parts:\", self.parts)"
   ]
  },
  {
   "cell_type": "code",
   "execution_count": 3,
   "id": "1700df45",
   "metadata": {},
   "outputs": [],
   "source": [
    "from collections import defaultdict\n",
    "from typing import Dict\n",
    "\n",
    "\n",
    "def process_circuit(input_filename: str, is_part_2: bool = False) -> Dict[str, int]:\n",
    "    with open(input_filename) as input_file:\n",
    "        booklet_lines = input_file.readlines()\n",
    "\n",
    "    wire_to_signal = {}  # wire name to signal value\n",
    "    wire_to_instructions = defaultdict(list)  # wire to instructions where it is an input\n",
    "\n",
    "    # Initial processing of instructions\n",
    "    stack = []\n",
    "    for line in booklet_lines:\n",
    "        instruction = Instruction(line)\n",
    "        \n",
    "        # lazy way to get part 2 answer\n",
    "        if is_part_2:\n",
    "            if instruction.wire == \"b\":\n",
    "                instruction.parts[0] = 956\n",
    "        \n",
    "        if instruction.can_reduce():\n",
    "            wire_to_signal[instruction.wire] = instruction.reduce()\n",
    "            stack.append(instruction.wire)\n",
    "\n",
    "        for input_wire in instruction.input_wires:\n",
    "            wire_to_instructions[input_wire].append(instruction)\n",
    "            \n",
    "    # Replace wire names with signal values in instructions until they're all replaced\n",
    "    while stack:\n",
    "        curr_wire = stack.pop()\n",
    "        curr_signal = wire_to_signal[curr_wire]\n",
    "        for instruction in wire_to_instructions[curr_wire]:\n",
    "            instruction.update(curr_wire, curr_signal)\n",
    "\n",
    "            if instruction.can_reduce():\n",
    "                # update our data structures\n",
    "                wire_to_signal[instruction.wire] =  instruction.reduce()\n",
    "                stack.append(instruction.wire)\n",
    "                \n",
    "    return wire_to_signal"
   ]
  },
  {
   "cell_type": "markdown",
   "id": "87049227",
   "metadata": {},
   "source": [
    "# Part 1"
   ]
  },
  {
   "cell_type": "code",
   "execution_count": 4,
   "id": "9fc6e03d",
   "metadata": {},
   "outputs": [],
   "source": [
    "# Test case\n",
    "assert process_circuit(input_filename_test) == {\n",
    "    \"d\": 72,\n",
    "    \"e\": 507,\n",
    "    \"f\": 492,\n",
    "    \"g\": 114,\n",
    "    \"h\": 65412,\n",
    "    \"i\": 65079,\n",
    "    \"x\": 123,\n",
    "    \"y\": 456,\n",
    "}"
   ]
  },
  {
   "cell_type": "code",
   "execution_count": 5,
   "id": "d4eb5e16",
   "metadata": {},
   "outputs": [
    {
     "data": {
      "text/plain": [
       "956"
      ]
     },
     "execution_count": 5,
     "metadata": {},
     "output_type": "execute_result"
    }
   ],
   "source": [
    "# Part 1 answer\n",
    "process_circuit(input_filename)[\"a\"]"
   ]
  },
  {
   "cell_type": "markdown",
   "id": "de212cd3",
   "metadata": {},
   "source": [
    "# Part 2"
   ]
  },
  {
   "cell_type": "code",
   "execution_count": 6,
   "id": "e9892729",
   "metadata": {},
   "outputs": [
    {
     "data": {
      "text/plain": [
       "40149"
      ]
     },
     "execution_count": 6,
     "metadata": {},
     "output_type": "execute_result"
    }
   ],
   "source": [
    "process_circuit(input_filename, is_part_2=True)[\"a\"]"
   ]
  }
 ],
 "metadata": {
  "kernelspec": {
   "display_name": "Python 3 (ipykernel)",
   "language": "python",
   "name": "python3"
  },
  "language_info": {
   "codemirror_mode": {
    "name": "ipython",
    "version": 3
   },
   "file_extension": ".py",
   "mimetype": "text/x-python",
   "name": "python",
   "nbconvert_exporter": "python",
   "pygments_lexer": "ipython3",
   "version": "3.9.9"
  }
 },
 "nbformat": 4,
 "nbformat_minor": 5
}
