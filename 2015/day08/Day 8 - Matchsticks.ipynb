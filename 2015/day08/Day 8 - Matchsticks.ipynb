{
 "cells": [
  {
   "cell_type": "code",
   "execution_count": 1,
   "id": "60b128df",
   "metadata": {},
   "outputs": [],
   "source": [
    "input_filename = \"input.txt\"\n",
    "\n",
    "with open(input_filename) as input_file:\n",
    "    lines = [line.strip() for line in input_file.readlines()]"
   ]
  },
  {
   "cell_type": "markdown",
   "id": "94cf68bc",
   "metadata": {},
   "source": [
    "# Part 1"
   ]
  },
  {
   "cell_type": "code",
   "execution_count": 2,
   "id": "17fab46a",
   "metadata": {},
   "outputs": [],
   "source": [
    "def mem_count(line: str) -> int:\n",
    "    count = 0\n",
    "    \n",
    "    # Skip first double quote (\") that begins the line\n",
    "    i = 1\n",
    "    while i < len(line)-1:  # Skip double quote (\") that ends the line\n",
    "        char = line[i]\n",
    "        count += 1\n",
    "        \n",
    "        # Look for escaped characters, and jump ahead if we find them\n",
    "        if char == \"\\\\\":\n",
    "            i += 1\n",
    "            next_char = line[i]\n",
    "            if next_char == '\"' or next_char == \"\\\\\":\n",
    "                pass\n",
    "            elif next_char == \"x\":\n",
    "                i += 2\n",
    "            else:\n",
    "                raise ValueError(\"Unexpected escape sequence in line:\", line)\n",
    "    \n",
    "        i += 1\n",
    "    return count"
   ]
  },
  {
   "cell_type": "code",
   "execution_count": 3,
   "id": "8df8c0ac",
   "metadata": {
    "scrolled": false
   },
   "outputs": [
    {
     "data": {
      "text/plain": [
       "1371"
      ]
     },
     "execution_count": 3,
     "metadata": {},
     "output_type": "execute_result"
    }
   ],
   "source": [
    "total = 0\n",
    "for line in lines:\n",
    "    total += (len(line) - mem_count(line))        \n",
    "total"
   ]
  },
  {
   "cell_type": "markdown",
   "id": "53113b04",
   "metadata": {},
   "source": [
    "# Part 2"
   ]
  },
  {
   "cell_type": "code",
   "execution_count": 4,
   "id": "f990b34b",
   "metadata": {},
   "outputs": [],
   "source": [
    "def encode(line: str) -> str:\n",
    "    builder = ['\"']  # begin with double quote\n",
    "    \n",
    "    for char in line:\n",
    "        if char == '\"':\n",
    "            builder.extend(['\\\\', '\"'])\n",
    "        elif char == \"\\\\\":\n",
    "            builder.extend(['\\\\', '\\\\'])\n",
    "        else:\n",
    "            builder.extend(char)\n",
    "            \n",
    "    builder.append('\"')  # end with double quote\n",
    "    \n",
    "    return \"\".join(builder)"
   ]
  },
  {
   "cell_type": "code",
   "execution_count": 5,
   "id": "b7f7f438",
   "metadata": {},
   "outputs": [
    {
     "data": {
      "text/plain": [
       "2117"
      ]
     },
     "execution_count": 5,
     "metadata": {},
     "output_type": "execute_result"
    }
   ],
   "source": [
    "total = 0\n",
    "for line in lines:\n",
    "    total += len(encode(line)) - len(line)\n",
    "total"
   ]
  }
 ],
 "metadata": {
  "kernelspec": {
   "display_name": "Python 3 (ipykernel)",
   "language": "python",
   "name": "python3"
  },
  "language_info": {
   "codemirror_mode": {
    "name": "ipython",
    "version": 3
   },
   "file_extension": ".py",
   "mimetype": "text/x-python",
   "name": "python",
   "nbconvert_exporter": "python",
   "pygments_lexer": "ipython3",
   "version": "3.9.9"
  }
 },
 "nbformat": 4,
 "nbformat_minor": 5
}
