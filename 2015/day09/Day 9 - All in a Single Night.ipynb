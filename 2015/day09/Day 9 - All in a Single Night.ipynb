{
 "cells": [
  {
   "cell_type": "code",
   "execution_count": 1,
   "id": "e40e3560",
   "metadata": {},
   "outputs": [],
   "source": [
    "input_filename = \"input.txt\"\n",
    "\n",
    "with open(input_filename) as input_file:\n",
    "    lines = input_file.readlines()"
   ]
  },
  {
   "cell_type": "code",
   "execution_count": 2,
   "id": "c81b13f8",
   "metadata": {},
   "outputs": [],
   "source": [
    "cities = set()\n",
    "\n",
    "partial_routes = {}\n",
    "\n",
    "for line in lines:\n",
    "    city1, _, city2, _, distance = line.split()\n",
    "    cities.add(city1)\n",
    "    cities.add(city2)\n",
    "    \n",
    "    partial_routes[f\"{city1} -> {city2}\"] = int(distance)\n",
    "    partial_routes[f\"{city2} -> {city1}\"] = int(distance)"
   ]
  },
  {
   "cell_type": "code",
   "execution_count": 3,
   "id": "be68d3fd",
   "metadata": {
    "scrolled": true
   },
   "outputs": [],
   "source": [
    "import itertools\n",
    "from typing import List\n",
    "\n",
    "\n",
    "def get_distance(route: List[str]) -> int:\n",
    "    distance = 0\n",
    "    for i in range(len(route)-1):\n",
    "        city1 = route[i]\n",
    "        city2 = route[i+1]\n",
    "        distance += partial_routes[f\"{city1} -> {city2}\"]        \n",
    "    return distance"
   ]
  },
  {
   "cell_type": "code",
   "execution_count": 4,
   "id": "7cba86e1",
   "metadata": {},
   "outputs": [],
   "source": [
    "shortest_distance = float(\"inf\")\n",
    "longest_distance = 0\n",
    "\n",
    "# Let's brute force it!\n",
    "for route in itertools.permutations(cities, len(cities)):\n",
    "    distance = get_distance(route)\n",
    "    shortest_distance = min(shortest_distance, distance)\n",
    "    longest_distance = max(longest_distance, distance)"
   ]
  },
  {
   "cell_type": "markdown",
   "id": "da3e3144",
   "metadata": {},
   "source": [
    "# Part 1"
   ]
  },
  {
   "cell_type": "code",
   "execution_count": 5,
   "id": "cdf692ce",
   "metadata": {},
   "outputs": [
    {
     "data": {
      "text/plain": [
       "117"
      ]
     },
     "execution_count": 5,
     "metadata": {},
     "output_type": "execute_result"
    }
   ],
   "source": [
    "shortest_distance"
   ]
  },
  {
   "cell_type": "markdown",
   "id": "de64d397",
   "metadata": {},
   "source": [
    "# Part 2"
   ]
  },
  {
   "cell_type": "code",
   "execution_count": 6,
   "id": "07d3955c",
   "metadata": {},
   "outputs": [
    {
     "data": {
      "text/plain": [
       "909"
      ]
     },
     "execution_count": 6,
     "metadata": {},
     "output_type": "execute_result"
    }
   ],
   "source": [
    "longest_distance"
   ]
  }
 ],
 "metadata": {
  "kernelspec": {
   "display_name": "Python 3 (ipykernel)",
   "language": "python",
   "name": "python3"
  },
  "language_info": {
   "codemirror_mode": {
    "name": "ipython",
    "version": 3
   },
   "file_extension": ".py",
   "mimetype": "text/x-python",
   "name": "python",
   "nbconvert_exporter": "python",
   "pygments_lexer": "ipython3",
   "version": "3.9.9"
  }
 },
 "nbformat": 4,
 "nbformat_minor": 5
}
