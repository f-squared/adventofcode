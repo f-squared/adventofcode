{
 "cells": [
  {
   "cell_type": "code",
   "execution_count": 1,
   "metadata": {},
   "outputs": [],
   "source": [
    "import collections"
   ]
  },
  {
   "cell_type": "code",
   "execution_count": 2,
   "metadata": {},
   "outputs": [],
   "source": [
    "filename = \"day-3-input.txt\"\n",
    "\n",
    "with open(filename) as file:\n",
    "    directions = file.read().strip()"
   ]
  },
  {
   "cell_type": "markdown",
   "metadata": {},
   "source": [
    "# Part 1"
   ]
  },
  {
   "cell_type": "code",
   "execution_count": 3,
   "metadata": {},
   "outputs": [],
   "source": [
    "DIRECTIONS = {\n",
    "    \"^\": (1, 0),\n",
    "    \"v\": (-1, 0),\n",
    "    \">\": (0, 1),\n",
    "    \"<\": (0, -1),\n",
    "}\n",
    "\n",
    "houses = collections.defaultdict(int)\n",
    "houses[(0, 0)] = 1\n",
    "\n",
    "x, y = 0, 0\n",
    "for direction in directions:\n",
    "    dx, dy = DIRECTIONS[direction]\n",
    "    x, y = x+dx, y+dy\n",
    "    houses[(x, y)] += 1"
   ]
  },
  {
   "cell_type": "code",
   "execution_count": 4,
   "metadata": {},
   "outputs": [
    {
     "data": {
      "text/plain": [
       "2081"
      ]
     },
     "execution_count": 4,
     "metadata": {},
     "output_type": "execute_result"
    }
   ],
   "source": [
    "len(houses)"
   ]
  },
  {
   "cell_type": "markdown",
   "metadata": {},
   "source": [
    "# Part 2"
   ]
  },
  {
   "cell_type": "code",
   "execution_count": 5,
   "metadata": {},
   "outputs": [],
   "source": [
    "houses = collections.defaultdict(int)\n",
    "houses[(0, 0)] = 1\n",
    "\n",
    "santa_x, santa_y = 0, 0\n",
    "robo_x, robo_y = 0, 0\n",
    "\n",
    "for i, direction in enumerate(directions):\n",
    "    dx, dy = DIRECTIONS[direction]\n",
    "    \n",
    "    if i % 2 == 0:\n",
    "        santa_x, santa_y = santa_x+dx, santa_y+dy\n",
    "        houses[(santa_x, santa_y)] += 1\n",
    "        \n",
    "    else:\n",
    "        robo_x, robo_y = robo_x+dx, robo_y+dy\n",
    "        houses[(robo_x, robo_y)] += 1"
   ]
  },
  {
   "cell_type": "code",
   "execution_count": 6,
   "metadata": {},
   "outputs": [
    {
     "data": {
      "text/plain": [
       "2341"
      ]
     },
     "execution_count": 6,
     "metadata": {},
     "output_type": "execute_result"
    }
   ],
   "source": [
    "len(houses)"
   ]
  },
  {
   "cell_type": "code",
   "execution_count": null,
   "metadata": {},
   "outputs": [],
   "source": []
  }
 ],
 "metadata": {
  "kernelspec": {
   "display_name": "Python 3",
   "language": "python",
   "name": "python3"
  },
  "language_info": {
   "codemirror_mode": {
    "name": "ipython",
    "version": 3
   },
   "file_extension": ".py",
   "mimetype": "text/x-python",
   "name": "python",
   "nbconvert_exporter": "python",
   "pygments_lexer": "ipython3",
   "version": "3.6.5"
  }
 },
 "nbformat": 4,
 "nbformat_minor": 2
}
