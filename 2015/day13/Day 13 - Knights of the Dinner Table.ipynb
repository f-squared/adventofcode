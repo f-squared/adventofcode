{
 "cells": [
  {
   "cell_type": "code",
   "execution_count": 1,
   "id": "7cfefaec",
   "metadata": {},
   "outputs": [],
   "source": [
    "input_filename = \"input.txt\"\n",
    "\n",
    "with open(input_filename) as input_file:\n",
    "    lines = input_file.readlines()"
   ]
  },
  {
   "cell_type": "code",
   "execution_count": 2,
   "id": "5977f13e",
   "metadata": {},
   "outputs": [],
   "source": [
    "from collections import defaultdict\n",
    "from itertools import permutations\n",
    "from typing import List, Tuple"
   ]
  },
  {
   "cell_type": "code",
   "execution_count": 3,
   "id": "a8232204",
   "metadata": {},
   "outputs": [],
   "source": [
    "names = set()\n",
    "# For each pair, figure out their net happiness\n",
    "pairings_to_happiness = defaultdict(int)\n",
    "\n",
    "for line in lines:\n",
    "    name1, _, sign, raw_hu, _, _, _, _, _, _, name2 = line.strip().strip(\".\").split()\n",
    "    \n",
    "    names.add(name1)\n",
    "    names.add(name2)\n",
    "    \n",
    "    happiness_delta = int(raw_hu)\n",
    "    if sign == \"lose\":\n",
    "        happiness_delta = -happiness_delta\n",
    "    \n",
    "    pairings_to_happiness[(name1, name2)] += happiness_delta\n",
    "    pairings_to_happiness[(name2, name1)] += happiness_delta\n",
    "    \n",
    "# be lazy\n",
    "names = list(names)"
   ]
  },
  {
   "cell_type": "code",
   "execution_count": 4,
   "id": "b7b3898e",
   "metadata": {},
   "outputs": [],
   "source": [
    "def get_seating_happiness(seating: Tuple[str]) -> int:\n",
    "    happiness = 0\n",
    "    for i in range(len(seating)):\n",
    "        name1 = seating[i-1]\n",
    "        name2 = seating[i]\n",
    "        happiness += pairings_to_happiness[(name1, name2)]\n",
    "    return happiness"
   ]
  },
  {
   "cell_type": "code",
   "execution_count": 5,
   "id": "d615699d",
   "metadata": {},
   "outputs": [],
   "source": [
    "def get_max_happiness(names: List[str]) -> int:\n",
    "    # Because it's cyclical, we can anchor around one person\n",
    "    # There still will be 2x duplication but oh well\n",
    "    max_happiness = 0\n",
    "    for perm in permutations(names[1:], len(names)-1):\n",
    "        seating = (names[0],) + perm\n",
    "        max_happiness = max(max_happiness, get_seating_happiness(seating))\n",
    "        \n",
    "    return max_happiness"
   ]
  },
  {
   "cell_type": "markdown",
   "id": "7bcdd398",
   "metadata": {},
   "source": [
    "# Part 1"
   ]
  },
  {
   "cell_type": "code",
   "execution_count": 6,
   "id": "f2d6b7a9",
   "metadata": {},
   "outputs": [
    {
     "data": {
      "text/plain": [
       "709"
      ]
     },
     "execution_count": 6,
     "metadata": {},
     "output_type": "execute_result"
    }
   ],
   "source": [
    "get_max_happiness(names)"
   ]
  },
  {
   "cell_type": "markdown",
   "id": "1966250b",
   "metadata": {},
   "source": [
    "# Part 2"
   ]
  },
  {
   "cell_type": "code",
   "execution_count": 7,
   "id": "621468d7",
   "metadata": {},
   "outputs": [
    {
     "data": {
      "text/plain": [
       "668"
      ]
     },
     "execution_count": 7,
     "metadata": {},
     "output_type": "execute_result"
    }
   ],
   "source": [
    "names.append(\"Me\")\n",
    "# Take advantage of the fact that we're using a default \\dict\n",
    "get_max_happiness(names)"
   ]
  }
 ],
 "metadata": {
  "kernelspec": {
   "display_name": "Python 3 (ipykernel)",
   "language": "python",
   "name": "python3"
  },
  "language_info": {
   "codemirror_mode": {
    "name": "ipython",
    "version": 3
   },
   "file_extension": ".py",
   "mimetype": "text/x-python",
   "name": "python",
   "nbconvert_exporter": "python",
   "pygments_lexer": "ipython3",
   "version": "3.9.9"
  }
 },
 "nbformat": 4,
 "nbformat_minor": 5
}
