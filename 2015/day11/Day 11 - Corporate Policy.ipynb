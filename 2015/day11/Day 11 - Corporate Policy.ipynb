{
 "cells": [
  {
   "cell_type": "code",
   "execution_count": 1,
   "id": "c4b5d18b",
   "metadata": {},
   "outputs": [],
   "source": [
    "def is_secure(password: str) -> bool:\n",
    "    # Requirement 1\n",
    "    pass_1 = False\n",
    "    ords = [ord(char) for char in password]\n",
    "    for i in range(len(password)-2):\n",
    "        if ords[i] + 2 == ords[i+1] + 1 == ords[i+2]:\n",
    "            pass_1 = True\n",
    "            break\n",
    "            \n",
    "    if not pass_1:\n",
    "        return\n",
    "    \n",
    "    # Requirement 2\n",
    "    pass_2 = True\n",
    "    for char in password:\n",
    "        if char in {\"i\", \"o\", \"l\"}:\n",
    "            pass_2 = False\n",
    "            \n",
    "    if not pass_2:\n",
    "        return\n",
    "    \n",
    "    # Requirement 3\n",
    "    ord_pairs = set()\n",
    "    for i in range(len(password)-1):\n",
    "        if password[i] == password[i+1]:\n",
    "            ord_pairs.add(password[i])\n",
    "    pass_3 = len(ord_pairs) > 1\n",
    "    \n",
    "    return pass_1 and pass_2 and pass_3\n",
    "\n",
    "\n",
    "def increment_string(string: str) -> str:\n",
    "    ordinals = [ord(char) for char in string]\n",
    "    \n",
    "    i = 1\n",
    "    while i <= len(string):\n",
    "        incremented_ord = ordinals[-i] + 1\n",
    "        \n",
    "        # Avoid i, l, o\n",
    "        if incremented_ord in {105, 108, 111}:\n",
    "            incremented_ord += 1\n",
    "        \n",
    "        if incremented_ord <= 122:\n",
    "            ordinals[-i] = incremented_ord\n",
    "            break\n",
    "        else:\n",
    "            ordinals[-i] = 97\n",
    "        \n",
    "        i += 1\n",
    "        \n",
    "    return \"\".join(chr(ordinal) for ordinal in ordinals)\n",
    "\n",
    "\n",
    "def next_password(password: str) -> str:\n",
    "    num_iters = 0\n",
    "    pw = increment_string(password)\n",
    "    while not is_secure(pw):\n",
    "        num_iters += 1\n",
    "        pw = increment_string(pw)\n",
    "\n",
    "    print(\"Number of iterations to find next password:\", num_iters)\n",
    "    return pw"
   ]
  },
  {
   "cell_type": "markdown",
   "id": "a009b7b9",
   "metadata": {},
   "source": [
    "# Test Cases"
   ]
  },
  {
   "cell_type": "code",
   "execution_count": 2,
   "id": "86998e9f",
   "metadata": {},
   "outputs": [
    {
     "name": "stdout",
     "output_type": "stream",
     "text": [
      "Number of iterations to find next password: 12021\n"
     ]
    }
   ],
   "source": [
    "assert next_password(\"abcdefgh\") == 'abcdffaa'"
   ]
  },
  {
   "cell_type": "code",
   "execution_count": 3,
   "id": "fe56291c",
   "metadata": {
    "scrolled": false
   },
   "outputs": [
    {
     "name": "stdout",
     "output_type": "stream",
     "text": [
      "Number of iterations to find next password: 4083686\n"
     ]
    }
   ],
   "source": [
    "assert next_password(\"ghijklmn\") == 'ghjaabcc'"
   ]
  },
  {
   "cell_type": "markdown",
   "id": "9e564359",
   "metadata": {},
   "source": [
    "# Part 1"
   ]
  },
  {
   "cell_type": "code",
   "execution_count": 4,
   "id": "2c89d092",
   "metadata": {},
   "outputs": [
    {
     "name": "stdout",
     "output_type": "stream",
     "text": [
      "Number of iterations to find next password: 142137\n"
     ]
    },
    {
     "data": {
      "text/plain": [
       "'vzbxxyzz'"
      ]
     },
     "execution_count": 4,
     "metadata": {},
     "output_type": "execute_result"
    }
   ],
   "source": [
    "next_password(\"vzbxkghb\")"
   ]
  },
  {
   "cell_type": "markdown",
   "id": "5240992a",
   "metadata": {},
   "source": [
    "# Part 2"
   ]
  },
  {
   "cell_type": "code",
   "execution_count": 5,
   "id": "4e46f721",
   "metadata": {},
   "outputs": [
    {
     "name": "stdout",
     "output_type": "stream",
     "text": [
      "Number of iterations to find next password: 585122\n"
     ]
    },
    {
     "data": {
      "text/plain": [
       "'vzcaabcc'"
      ]
     },
     "execution_count": 5,
     "metadata": {},
     "output_type": "execute_result"
    }
   ],
   "source": [
    "next_password(\"vzbxxyzz\")"
   ]
  }
 ],
 "metadata": {
  "kernelspec": {
   "display_name": "Python 3 (ipykernel)",
   "language": "python",
   "name": "python3"
  },
  "language_info": {
   "codemirror_mode": {
    "name": "ipython",
    "version": 3
   },
   "file_extension": ".py",
   "mimetype": "text/x-python",
   "name": "python",
   "nbconvert_exporter": "python",
   "pygments_lexer": "ipython3",
   "version": "3.9.9"
  }
 },
 "nbformat": 4,
 "nbformat_minor": 5
}
