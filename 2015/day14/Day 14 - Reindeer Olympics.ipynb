{
 "cells": [
  {
   "cell_type": "code",
   "execution_count": 1,
   "id": "6a1fd2b1",
   "metadata": {},
   "outputs": [],
   "source": [
    "import re\n",
    "\n",
    "\n",
    "REINDEER_TEMPLATE = (\n",
    "    \"^(\\S*) can fly (\\d*) km\\/s for (\\d*) seconds, but then must rest for (\\d*) seconds\"\n",
    ")\n",
    "RACE_DURATION = 2503\n",
    "\n",
    "\n",
    "class Reindeer:\n",
    "    \n",
    "    def __init__(self, name: str, speed: int, fly_time: int, rest_time: int):\n",
    "        self.name = name\n",
    "        self.speed = speed\n",
    "        self.fly_time = fly_time\n",
    "        self.rest_time = rest_time\n",
    "        \n",
    "        self._full_cycle_distance = self.speed * self.fly_time\n",
    "        \n",
    "    @classmethod\n",
    "    def from_input(cls, input_line):\n",
    "        reindeer_search = re.search(REINDEER_TEMPLATE, input_line)\n",
    "        return cls(\n",
    "            reindeer_search.group(1), \n",
    "            int(reindeer_search.group(2)), \n",
    "            int(reindeer_search.group(3)),\n",
    "            int(reindeer_search.group(4)),\n",
    "        )\n",
    "    \n",
    "    def fly(self, duration: int) -> int:\n",
    "        \"\"\"Calculate how far the reindeer has traveled after `duration` seconds.\"\"\"\n",
    "        full_cycles = duration // (self.fly_time + self.rest_time)\n",
    "        distance = full_cycles * self._full_cycle_distance\n",
    "        \n",
    "        remaining_duration = duration - full_cycles * (self.fly_time + self.rest_time)\n",
    "        next_fly_duration = min(self.fly_time, remaining_duration)\n",
    "        distance += next_fly_duration * self.speed\n",
    "        \n",
    "        return distance "
   ]
  },
  {
   "cell_type": "markdown",
   "id": "3e5583cc",
   "metadata": {},
   "source": [
    "# Part 1"
   ]
  },
  {
   "cell_type": "code",
   "execution_count": 2,
   "id": "4589946f",
   "metadata": {},
   "outputs": [
    {
     "name": "stdout",
     "output_type": "stream",
     "text": [
      "Reindeer test cases passed!\n"
     ]
    }
   ],
   "source": [
    "def test_cases():\n",
    "    comet = Reindeer.from_input(\n",
    "        \"Comet can fly 14 km/s for 10 seconds, but then must rest for 127 seconds.\"\n",
    "    )\n",
    "    dancer = Reindeer.from_input(\n",
    "        \"Dancer can fly 16 km/s for 11 seconds, but then must rest for 162 seconds.\"\n",
    "    )\n",
    "    \n",
    "    assert comet.fly(1) == 14\n",
    "    assert comet.fly(10) == 140\n",
    "    assert comet.fly(11) == 140\n",
    "    assert comet.fly(12) == 140\n",
    "    assert comet.fly(1000) == 1120\n",
    "    \n",
    "    assert dancer.fly(1) == 16\n",
    "    assert dancer.fly(10) == 160\n",
    "    assert dancer.fly(11) == 176\n",
    "    assert dancer.fly(12) == 176\n",
    "    assert dancer.fly(1000) == 1056\n",
    "    \n",
    "    print(\"Reindeer test cases passed!\")\n",
    "\n",
    "test_cases()"
   ]
  },
  {
   "cell_type": "code",
   "execution_count": 3,
   "id": "f56ad899",
   "metadata": {
    "scrolled": true
   },
   "outputs": [
    {
     "data": {
      "text/plain": [
       "2655"
      ]
     },
     "execution_count": 3,
     "metadata": {},
     "output_type": "execute_result"
    }
   ],
   "source": [
    "input_filename = \"input.txt\"\n",
    "\n",
    "with open(input_filename) as input_file:\n",
    "    reindeers = [Reindeer.from_input(line) for line in input_file.readlines()]\n",
    "\n",
    "max_distance = 0\n",
    "for reindeer in reindeers:\n",
    "    max_distance = max(max_distance, reindeer.fly(RACE_DURATION))\n",
    "max_distance"
   ]
  },
  {
   "cell_type": "markdown",
   "id": "18477ac7",
   "metadata": {},
   "source": [
    "# Part 2\n",
    "In which I am lazy."
   ]
  },
  {
   "cell_type": "code",
   "execution_count": 4,
   "id": "7c11ff49",
   "metadata": {},
   "outputs": [],
   "source": [
    "import collections\n",
    "from typing import List, Dict\n",
    "\n",
    "\n",
    "def compete(reindeers: List[Reindeer], competition_time: int) -> Dict[str, int]:\n",
    "    \"\"\"\n",
    "    Reindeer compete using Santa's new scoring system.\n",
    "    Returns their final scores.\n",
    "    \"\"\"\n",
    "    scores = collections.defaultdict(int)  # reindeer name to their score\n",
    "\n",
    "    for t in range(1, competition_time+1):\n",
    "        curr_ranking = []  # unsorted at first\n",
    "        for reindeer in reindeers:\n",
    "            reindeer.fly(t)\n",
    "            curr_ranking.append((reindeer.fly(t), reindeer.name))\n",
    "        curr_ranking.sort(reverse=True)\n",
    "\n",
    "        best_distance = curr_ranking[0][0]\n",
    "        for distance, reindeer_name in curr_ranking:\n",
    "            if distance == best_distance:\n",
    "                scores[reindeer_name] += 1\n",
    "                continue\n",
    "            break\n",
    "            \n",
    "    return scores"
   ]
  },
  {
   "cell_type": "code",
   "execution_count": 5,
   "id": "4b0832e4",
   "metadata": {},
   "outputs": [
    {
     "name": "stdout",
     "output_type": "stream",
     "text": [
      "Test competition succeeded!\n"
     ]
    }
   ],
   "source": [
    "def test_competition():\n",
    "    comet = Reindeer.from_input(\n",
    "        \"Comet can fly 14 km/s for 10 seconds, but then must rest for 127 seconds.\"\n",
    "    )\n",
    "    dancer = Reindeer.from_input(\n",
    "        \"Dancer can fly 16 km/s for 11 seconds, but then must rest for 162 seconds.\"\n",
    "    )\n",
    "    \n",
    "    assert compete([comet, dancer], 1000) == {\n",
    "        \"Dancer\": 689,\n",
    "        \"Comet\": 312,\n",
    "    }\n",
    "    print(\"Test competition succeeded!\")\n",
    "    \n",
    "test_competition()"
   ]
  },
  {
   "cell_type": "code",
   "execution_count": 6,
   "id": "f21a3814",
   "metadata": {},
   "outputs": [
    {
     "data": {
      "text/plain": [
       "1059"
      ]
     },
     "execution_count": 6,
     "metadata": {},
     "output_type": "execute_result"
    }
   ],
   "source": [
    "max(compete(reindeers, RACE_DURATION).values())"
   ]
  }
 ],
 "metadata": {
  "kernelspec": {
   "display_name": "Python 3 (ipykernel)",
   "language": "python",
   "name": "python3"
  },
  "language_info": {
   "codemirror_mode": {
    "name": "ipython",
    "version": 3
   },
   "file_extension": ".py",
   "mimetype": "text/x-python",
   "name": "python",
   "nbconvert_exporter": "python",
   "pygments_lexer": "ipython3",
   "version": "3.9.9"
  }
 },
 "nbformat": 4,
 "nbformat_minor": 5
}
