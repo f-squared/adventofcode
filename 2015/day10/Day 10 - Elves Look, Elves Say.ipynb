{
 "cells": [
  {
   "cell_type": "markdown",
   "id": "e691d0a3",
   "metadata": {},
   "source": [
    "# Brute Force"
   ]
  },
  {
   "cell_type": "code",
   "execution_count": 1,
   "id": "0ba74f2c",
   "metadata": {},
   "outputs": [],
   "source": [
    "def look_and_say(sequence: str) -> str:\n",
    "    builder = []\n",
    "    \n",
    "    i = 0\n",
    "    while i < len(sequence):\n",
    "        curr_digit = sequence[i]\n",
    "\n",
    "        count = 0\n",
    "        while i+count < len(sequence) and sequence[i+count] == curr_digit:\n",
    "            count += 1\n",
    "        \n",
    "        builder.append(count)\n",
    "        builder.append(curr_digit)\n",
    "        \n",
    "        i += count\n",
    "    \n",
    "    return \"\".join([str(digit) for digit in builder])"
   ]
  },
  {
   "cell_type": "markdown",
   "id": "ff3ff862",
   "metadata": {},
   "source": [
    "## Part 1"
   ]
  },
  {
   "cell_type": "code",
   "execution_count": 2,
   "id": "6bc07a3e",
   "metadata": {
    "scrolled": true
   },
   "outputs": [
    {
     "name": "stdout",
     "output_type": "stream",
     "text": [
      "CPU times: user 1.35 s, sys: 49.4 ms, total: 1.4 s\n",
      "Wall time: 1.41 s\n"
     ]
    },
    {
     "data": {
      "text/plain": [
       "492982"
      ]
     },
     "execution_count": 2,
     "metadata": {},
     "output_type": "execute_result"
    }
   ],
   "source": [
    "%%time\n",
    "value = \"1321131112\"\n",
    "iterations = 40\n",
    "\n",
    "for i in range(iterations):\n",
    "    result = look_and_say(value)\n",
    "    value = result\n",
    "\n",
    "len(result)"
   ]
  },
  {
   "cell_type": "markdown",
   "id": "94f0b672",
   "metadata": {},
   "source": [
    "## Part 2"
   ]
  },
  {
   "cell_type": "code",
   "execution_count": 3,
   "id": "c9065c4c",
   "metadata": {},
   "outputs": [
    {
     "name": "stdout",
     "output_type": "stream",
     "text": [
      "CPU times: user 20.3 s, sys: 980 ms, total: 21.2 s\n",
      "Wall time: 22.9 s\n"
     ]
    },
    {
     "data": {
      "text/plain": [
       "6989950"
      ]
     },
     "execution_count": 3,
     "metadata": {},
     "output_type": "execute_result"
    }
   ],
   "source": [
    "%%time\n",
    "value = \"1321131112\"\n",
    "iterations = 50\n",
    "\n",
    "for i in range(iterations):\n",
    "    result = look_and_say(value)\n",
    "    value = result\n",
    "\n",
    "len(result)"
   ]
  }
 ],
 "metadata": {
  "kernelspec": {
   "display_name": "Python 3 (ipykernel)",
   "language": "python",
   "name": "python3"
  },
  "language_info": {
   "codemirror_mode": {
    "name": "ipython",
    "version": 3
   },
   "file_extension": ".py",
   "mimetype": "text/x-python",
   "name": "python",
   "nbconvert_exporter": "python",
   "pygments_lexer": "ipython3",
   "version": "3.9.9"
  }
 },
 "nbformat": 4,
 "nbformat_minor": 5
}
