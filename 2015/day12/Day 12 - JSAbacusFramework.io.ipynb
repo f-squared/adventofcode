{
 "cells": [
  {
   "cell_type": "code",
   "execution_count": 1,
   "id": "1b408a66",
   "metadata": {},
   "outputs": [
    {
     "ename": "NameError",
     "evalue": "name 'json' is not defined",
     "output_type": "error",
     "traceback": [
      "\u001b[0;31m---------------------------------------------------------------------------\u001b[0m",
      "\u001b[0;31mNameError\u001b[0m                                 Traceback (most recent call last)",
      "Cell \u001b[0;32mIn [1], line 3\u001b[0m\n\u001b[1;32m      1\u001b[0m input_filename \u001b[38;5;241m=\u001b[39m \u001b[38;5;124m\"\u001b[39m\u001b[38;5;124minput.txt\u001b[39m\u001b[38;5;124m\"\u001b[39m\n\u001b[1;32m      2\u001b[0m \u001b[38;5;28;01mwith\u001b[39;00m \u001b[38;5;28mopen\u001b[39m(input_filename) \u001b[38;5;28;01mas\u001b[39;00m input_file:\n\u001b[0;32m----> 3\u001b[0m     doc \u001b[38;5;241m=\u001b[39m \u001b[43mjson\u001b[49m\u001b[38;5;241m.\u001b[39mload(input_file)\n",
      "\u001b[0;31mNameError\u001b[0m: name 'json' is not defined"
     ]
    }
   ],
   "source": [
    "input_filename = \"input.txt\"\n",
    "with open(input_filename) as input_file:\n",
    "    doc = json.load(input_file)"
   ]
  },
  {
   "cell_type": "code",
   "execution_count": null,
   "id": "75c11a6b",
   "metadata": {},
   "outputs": [],
   "source": [
    "import json\n",
    "from typing import Union, List, Dict"
   ]
  },
  {
   "cell_type": "markdown",
   "id": "8b3a9613",
   "metadata": {},
   "source": [
    "# Part 1"
   ]
  },
  {
   "cell_type": "code",
   "execution_count": null,
   "id": "b6aebbab",
   "metadata": {},
   "outputs": [],
   "source": [
    "def sum_nums(doc: Union[List, Dict, int, str]) -> int:\n",
    "    if isinstance(doc, int):\n",
    "        return doc\n",
    "    \n",
    "    elif isinstance(doc, str):\n",
    "        return 0\n",
    "    \n",
    "    elif isinstance(doc, list):\n",
    "        return sum([sum_nums(item) for item in doc])\n",
    "    \n",
    "    elif isinstance(doc, dict):\n",
    "        return sum([sum_nums(value) for value in doc.values()])\n",
    "    \n",
    "    else:\n",
    "        raise TypeError(f\"Unexpected type {type(doc)} for {doc}\" )"
   ]
  },
  {
   "cell_type": "code",
   "execution_count": null,
   "id": "52fa1d16",
   "metadata": {},
   "outputs": [],
   "source": [
    "def part_1_test_cases():\n",
    "    test_cases = [\n",
    "        # (json doc, expected sum)\n",
    "        ('[1,2,3]', 6),\n",
    "        ('{\"a\":2,\"b\":4}', 6),\n",
    "        ('[[[3]]]', 3),\n",
    "        ('{\"a\":{\"b\":4},\"c\":-1}', 3),\n",
    "        ('{\"a\":[-1,1]}', 0),\n",
    "        ('[-1,{\"a\":1}]', 0),\n",
    "        ('[]', 0),\n",
    "        ('{}', 0),\n",
    "    ]\n",
    "    \n",
    "    for test_json, expected in test_cases:\n",
    "        assert sum_nums(json.loads(test_json)) == expected\n",
    "        \n",
    "part_1_test_cases()"
   ]
  },
  {
   "cell_type": "code",
   "execution_count": null,
   "id": "9a2ba9ba",
   "metadata": {},
   "outputs": [],
   "source": [
    "\n",
    "    \n",
    "sum_nums(doc)"
   ]
  },
  {
   "cell_type": "markdown",
   "id": "ac74de84",
   "metadata": {},
   "source": [
    "# Part 2"
   ]
  },
  {
   "cell_type": "code",
   "execution_count": null,
   "id": "af8ac648",
   "metadata": {},
   "outputs": [],
   "source": [
    "def sum_nums_ignoring_red(doc: Union[List, Dict, int, str]) -> int:\n",
    "    if isinstance(doc, int):\n",
    "        return doc\n",
    "    \n",
    "    elif isinstance(doc, str):\n",
    "        return 0\n",
    "    \n",
    "    elif isinstance(doc, list):\n",
    "        return sum([sum_nums_ignoring_red(item) for item in doc])\n",
    "    \n",
    "    elif isinstance(doc, dict):\n",
    "        if \"red\" in doc.values():\n",
    "            return 0\n",
    "        return sum([sum_nums_ignoring_red(value) for value in doc.values()])\n",
    "    \n",
    "    else:\n",
    "        raise TypeError(f\"Unexpected type {type(doc)} for {doc}\" )"
   ]
  },
  {
   "cell_type": "code",
   "execution_count": null,
   "id": "1c8cbdd0",
   "metadata": {},
   "outputs": [],
   "source": [
    "def part_2_test_cases():\n",
    "    test_cases = [\n",
    "        # (json doc, expected sum)\n",
    "        ('[1,2,3]', 6),\n",
    "        ('{\"a\":2,\"b\":4}', 6),\n",
    "        ('[[[3]]]', 3),\n",
    "        ('{\"a\":{\"b\":4},\"c\":-1}', 3),\n",
    "        ('{\"a\":[-1,1]}', 0),\n",
    "        ('[-1,{\"a\":1}]', 0),\n",
    "        ('[]', 0),\n",
    "        ('{}', 0),\n",
    "        ('[1,{\"c\":\"red\",\"b\":2},3]', 4),\n",
    "        ('{\"d\":\"red\",\"e\":[1,2,3,4],\"f\":5}', 0),\n",
    "        ('[1,\"red\",5]', 6)\n",
    "    ]\n",
    "    \n",
    "    for test_json, expected in test_cases:\n",
    "        assert sum_nums_ignoring_red(json.loads(test_json)) == expected\n",
    "        \n",
    "part_2_test_cases()"
   ]
  },
  {
   "cell_type": "code",
   "execution_count": null,
   "id": "d924a14e",
   "metadata": {},
   "outputs": [],
   "source": [
    "sum_nums_ignoring_red(doc)"
   ]
  },
  {
   "cell_type": "code",
   "execution_count": null,
   "id": "a1a113b7",
   "metadata": {},
   "outputs": [],
   "source": []
  }
 ],
 "metadata": {
  "kernelspec": {
   "display_name": "Python 3 (ipykernel)",
   "language": "python",
   "name": "python3"
  },
  "language_info": {
   "codemirror_mode": {
    "name": "ipython",
    "version": 3
   },
   "file_extension": ".py",
   "mimetype": "text/x-python",
   "name": "python",
   "nbconvert_exporter": "python",
   "pygments_lexer": "ipython3",
   "version": "3.9.9"
  }
 },
 "nbformat": 4,
 "nbformat_minor": 5
}
