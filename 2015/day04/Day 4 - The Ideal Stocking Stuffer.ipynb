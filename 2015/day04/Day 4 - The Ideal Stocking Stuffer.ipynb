{
 "cells": [
  {
   "cell_type": "code",
   "execution_count": 1,
   "metadata": {},
   "outputs": [],
   "source": [
    "from hashlib import md5"
   ]
  },
  {
   "cell_type": "code",
   "execution_count": 2,
   "metadata": {},
   "outputs": [],
   "source": [
    "secret_key = b\"iwrupvqb\""
   ]
  },
  {
   "cell_type": "code",
   "execution_count": 3,
   "metadata": {},
   "outputs": [
    {
     "name": "stdout",
     "output_type": "stream",
     "text": [
      "The answer to Part 1 is: 346386\n",
      "The answer to Part 2 is: 9958218\n",
      "CPU times: user 24.4 s, sys: 124 ms, total: 24.6 s\n",
      "Wall time: 25.7 s\n"
     ]
    }
   ],
   "source": [
    "%%time\n",
    "i = 1\n",
    "found_part_1 = False\n",
    "while True:\n",
    "    h = md5(secret_key + str(i).encode()).hexdigest()\n",
    "    if h[:5] == \"00000\" and not found_part_1:\n",
    "        print(\"The answer to Part 1 is:\", i)\n",
    "        found_part_1 = True\n",
    "    if h[:6] == \"000000\":\n",
    "        print(\"The answer to Part 2 is:\", i)\n",
    "        break\n",
    "    i += 1"
   ]
  },
  {
   "cell_type": "markdown",
   "metadata": {},
   "source": [
    "Would be interesting to try this with concurrency later."
   ]
  },
  {
   "cell_type": "code",
   "execution_count": null,
   "metadata": {},
   "outputs": [],
   "source": []
  }
 ],
 "metadata": {
  "kernelspec": {
   "display_name": "Python 3",
   "language": "python",
   "name": "python3"
  },
  "language_info": {
   "codemirror_mode": {
    "name": "ipython",
    "version": 3
   },
   "file_extension": ".py",
   "mimetype": "text/x-python",
   "name": "python",
   "nbconvert_exporter": "python",
   "pygments_lexer": "ipython3",
   "version": "3.6.5"
  }
 },
 "nbformat": 4,
 "nbformat_minor": 2
}
