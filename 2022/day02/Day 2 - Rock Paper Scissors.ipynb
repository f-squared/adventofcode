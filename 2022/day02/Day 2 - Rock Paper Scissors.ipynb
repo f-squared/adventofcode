{
 "cells": [
  {
   "cell_type": "code",
   "execution_count": 1,
   "id": "0a70ea85",
   "metadata": {},
   "outputs": [],
   "source": [
    "input_filename = \"input.txt\""
   ]
  },
  {
   "cell_type": "code",
   "execution_count": 2,
   "id": "0064680b",
   "metadata": {},
   "outputs": [],
   "source": [
    "shape_score = {\n",
    "    'rock': 1,\n",
    "    'paper': 2,\n",
    "    'scissors': 3,\n",
    "}\n",
    "\n",
    "\n",
    "def find_outcome(opp_shape, your_shape) -> int:\n",
    "    # draw\n",
    "    if opp_shape == your_shape:\n",
    "        return 3\n",
    "    \n",
    "    # scenarios where you lose\n",
    "    if (opp_shape, your_shape) in [\n",
    "        ('rock', 'scissors'),\n",
    "        ('scissors', 'paper'),\n",
    "        ('paper', 'rock'),\n",
    "    ]:\n",
    "        return 0\n",
    "    \n",
    "    # otherwise you win!\n",
    "    return 6\n",
    "\n",
    "\n",
    "def get_turn_score(turn):\n",
    "    _opp_shape, your_shape = turn\n",
    "    return shape_score[your_shape] + find_outcome(*turn)"
   ]
  },
  {
   "cell_type": "markdown",
   "id": "034cb533",
   "metadata": {},
   "source": [
    "# Part 1"
   ]
  },
  {
   "cell_type": "code",
   "execution_count": 3,
   "id": "8eed5da4",
   "metadata": {},
   "outputs": [
    {
     "name": "stdout",
     "output_type": "stream",
     "text": [
      "Your total score: 13268\n"
     ]
    }
   ],
   "source": [
    "letter_to_shape = {\n",
    "    'A': 'rock',\n",
    "    'B': 'paper',\n",
    "    'C': 'scissors',\n",
    "    'X': 'rock',\n",
    "    'Y': 'paper',\n",
    "    'Z': 'scissors',\n",
    "}\n",
    "\n",
    "with open(input_filename) as input_file:\n",
    "    turns = [[letter_to_shape[letter] for letter in turn.split()] \n",
    "             for turn in input_file.readlines()]\n",
    "    \n",
    "print(\"Your total score:\", sum([get_turn_score(turn) for turn in turns]))"
   ]
  },
  {
   "cell_type": "markdown",
   "id": "d5062797",
   "metadata": {},
   "source": [
    "# Part 2"
   ]
  },
  {
   "cell_type": "code",
   "execution_count": 4,
   "id": "f9a39c26",
   "metadata": {},
   "outputs": [
    {
     "name": "stdout",
     "output_type": "stream",
     "text": [
      "Your total score: 15508\n"
     ]
    }
   ],
   "source": [
    "def determine_shapes(raw_letters: str):\n",
    "    opp_letter, your_letter = raw_letters.split()\n",
    "    \n",
    "    opp_shape = {\n",
    "        'A': 'rock',\n",
    "        'B': 'paper',\n",
    "        'C': 'scissors',\n",
    "    }[opp_letter]\n",
    "    \n",
    "    # assume draw at first b/c I'm lazy\n",
    "    if your_letter == 'Y':\n",
    "        your_shape = opp_shape\n",
    "    \n",
    "    # you need to lose\n",
    "    elif your_letter == 'X':\n",
    "        your_shape = {\n",
    "            'rock': 'scissors',\n",
    "            'paper': 'rock',\n",
    "            'scissors': 'paper',\n",
    "        }[opp_shape]\n",
    "        \n",
    "    # you need to win\n",
    "    elif your_letter == 'Z':\n",
    "        your_shape = {\n",
    "            'rock': 'paper',\n",
    "            'paper': 'scissors',\n",
    "            'scissors': 'rock',\n",
    "        }[opp_shape]\n",
    "    \n",
    "    else:\n",
    "        raise ValueError(\"Unexpected elf strategy!\")\n",
    "        \n",
    "    return opp_shape, your_shape\n",
    "\n",
    "\n",
    "with open(input_filename) as input_file:\n",
    "    turns = [determine_shapes(raw_turn)for raw_turn in input_file.readlines()]\n",
    "    \n",
    "print(\"Your total score:\", sum([get_turn_score(turn) for turn in turns]))"
   ]
  },
  {
   "cell_type": "code",
   "execution_count": null,
   "id": "c657e9c2",
   "metadata": {},
   "outputs": [],
   "source": []
  }
 ],
 "metadata": {
  "kernelspec": {
   "display_name": "Python 3 (ipykernel)",
   "language": "python",
   "name": "python3"
  },
  "language_info": {
   "codemirror_mode": {
    "name": "ipython",
    "version": 3
   },
   "file_extension": ".py",
   "mimetype": "text/x-python",
   "name": "python",
   "nbconvert_exporter": "python",
   "pygments_lexer": "ipython3",
   "version": "3.9.9"
  }
 },
 "nbformat": 4,
 "nbformat_minor": 5
}
