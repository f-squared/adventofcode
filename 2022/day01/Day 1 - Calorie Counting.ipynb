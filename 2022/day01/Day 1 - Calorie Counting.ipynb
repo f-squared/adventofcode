{
 "cells": [
  {
   "cell_type": "code",
   "execution_count": 1,
   "id": "b2f5d174",
   "metadata": {},
   "outputs": [],
   "source": [
    "input_filename = \"input.txt\""
   ]
  },
  {
   "cell_type": "code",
   "execution_count": 2,
   "id": "f7baa800",
   "metadata": {},
   "outputs": [],
   "source": [
    "with open(input_filename) as input_file:\n",
    "    elf_calories_raw = input_file.read().split(\"\\n\\n\")\n",
    "    elf_calories = [[int(cal) for cal in raw.splitlines()] \n",
    "                    for raw in elf_calories_raw]"
   ]
  },
  {
   "cell_type": "code",
   "execution_count": 3,
   "id": "fea92e32",
   "metadata": {},
   "outputs": [],
   "source": [
    "elf_calorie_totals = [sum(calories) for calories in elf_calories]"
   ]
  },
  {
   "cell_type": "markdown",
   "id": "060a44f0",
   "metadata": {},
   "source": [
    "# Part 1"
   ]
  },
  {
   "cell_type": "code",
   "execution_count": 4,
   "id": "87766e30",
   "metadata": {},
   "outputs": [
    {
     "data": {
      "text/plain": [
       "72070"
      ]
     },
     "execution_count": 4,
     "metadata": {},
     "output_type": "execute_result"
    }
   ],
   "source": [
    "max(elf_calorie_totals)"
   ]
  },
  {
   "cell_type": "markdown",
   "id": "1a2ec5e7",
   "metadata": {},
   "source": [
    "# Part 2"
   ]
  },
  {
   "cell_type": "code",
   "execution_count": 5,
   "id": "e31b45ed",
   "metadata": {},
   "outputs": [
    {
     "data": {
      "text/plain": [
       "211805"
      ]
     },
     "execution_count": 5,
     "metadata": {},
     "output_type": "execute_result"
    }
   ],
   "source": [
    "sum(sorted(elf_calorie_totals)[-3:])"
   ]
  }
 ],
 "metadata": {
  "kernelspec": {
   "display_name": "Python 3 (ipykernel)",
   "language": "python",
   "name": "python3"
  },
  "language_info": {
   "codemirror_mode": {
    "name": "ipython",
    "version": 3
   },
   "file_extension": ".py",
   "mimetype": "text/x-python",
   "name": "python",
   "nbconvert_exporter": "python",
   "pygments_lexer": "ipython3",
   "version": "3.9.9"
  }
 },
 "nbformat": 4,
 "nbformat_minor": 5
}
