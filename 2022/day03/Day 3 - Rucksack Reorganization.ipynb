{
 "cells": [
  {
   "cell_type": "code",
   "execution_count": 1,
   "id": "0107d43c",
   "metadata": {},
   "outputs": [],
   "source": [
    "input_filename = 'input.txt'"
   ]
  },
  {
   "cell_type": "code",
   "execution_count": 2,
   "id": "99f668f6",
   "metadata": {},
   "outputs": [],
   "source": [
    "from typing import List"
   ]
  },
  {
   "cell_type": "code",
   "execution_count": 3,
   "id": "fc492963",
   "metadata": {},
   "outputs": [],
   "source": [
    "def get_priority(item: str) -> int:\n",
    "    ordinal = ord(item)\n",
    "    \n",
    "    # a through z\n",
    "    if 97 <= ordinal <= 122:\n",
    "        return ordinal - 96\n",
    "\n",
    "    # A through Z\n",
    "    elif 65 <= ordinal <= 90:\n",
    "        return ordinal - 38\n",
    "    \n",
    "    else:\n",
    "        raise ValueError(\"Unexpected item!\")"
   ]
  },
  {
   "cell_type": "code",
   "execution_count": 4,
   "id": "9d4a0987",
   "metadata": {},
   "outputs": [],
   "source": [
    "with open(input_filename) as input_file:\n",
    "    rucksacks = [rucksack.strip() for rucksack in input_file.readlines()]"
   ]
  },
  {
   "cell_type": "markdown",
   "id": "898bcb9b",
   "metadata": {},
   "source": [
    "# Part 1"
   ]
  },
  {
   "cell_type": "code",
   "execution_count": 5,
   "id": "d61ad005",
   "metadata": {},
   "outputs": [],
   "source": [
    "def find_common_item(rucksack: str) -> str:\n",
    "    mid = len(rucksack) // 2\n",
    "    compartments = (rucksack[:mid], rucksack[mid:])\n",
    "\n",
    "    # place each compartment contents into sets\n",
    "    csets = tuple(set(compartment) for compartment in compartments)\n",
    "\n",
    "    # puzzle says there is only one intersecting item\n",
    "    return csets[0].intersection(csets[1]).pop()"
   ]
  },
  {
   "cell_type": "code",
   "execution_count": 6,
   "id": "a5edc49a",
   "metadata": {},
   "outputs": [
    {
     "name": "stdout",
     "output_type": "stream",
     "text": [
      "Sum of priorities is: 7863\n"
     ]
    }
   ],
   "source": [
    "print(\"Sum of priorities is:\", \n",
    "      sum([get_priority(find_common_item(rucksack)) for rucksack in rucksacks]))"
   ]
  },
  {
   "cell_type": "markdown",
   "id": "c99f644e",
   "metadata": {},
   "source": [
    "# Part 2"
   ]
  },
  {
   "cell_type": "code",
   "execution_count": 7,
   "id": "46f7e184",
   "metadata": {},
   "outputs": [],
   "source": [
    "def find_badge(rucksacks: List[str]) -> str:\n",
    "    # I'm feeling lazy.\n",
    "    r0 = set(rucksacks[0])\n",
    "    r1 = set(rucksacks[1])\n",
    "    r2 = set(rucksacks[2])\n",
    "    \n",
    "    return r0.intersection(r1).intersection(r2).pop()"
   ]
  },
  {
   "cell_type": "code",
   "execution_count": 8,
   "id": "c5c04d08",
   "metadata": {},
   "outputs": [
    {
     "name": "stdout",
     "output_type": "stream",
     "text": [
      "Sum of badge priorities: 2488\n"
     ]
    }
   ],
   "source": [
    "priority_sum = 0\n",
    "for i in range(0, len(rucksacks), 3):\n",
    "    priority_sum += get_priority(find_badge(rucksacks[i:i+3]))\n",
    "    \n",
    "print(\"Sum of badge priorities:\", priority_sum)"
   ]
  },
  {
   "cell_type": "code",
   "execution_count": null,
   "id": "5cd63103",
   "metadata": {},
   "outputs": [],
   "source": []
  }
 ],
 "metadata": {
  "kernelspec": {
   "display_name": "Python 3 (ipykernel)",
   "language": "python",
   "name": "python3"
  },
  "language_info": {
   "codemirror_mode": {
    "name": "ipython",
    "version": 3
   },
   "file_extension": ".py",
   "mimetype": "text/x-python",
   "name": "python",
   "nbconvert_exporter": "python",
   "pygments_lexer": "ipython3",
   "version": "3.9.9"
  }
 },
 "nbformat": 4,
 "nbformat_minor": 5
}
