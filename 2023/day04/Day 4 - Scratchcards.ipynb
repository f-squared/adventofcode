{
 "cells": [
  {
   "cell_type": "code",
   "execution_count": 1,
   "id": "0a21aaa4",
   "metadata": {},
   "outputs": [],
   "source": [
    "input_filename = \"input.txt\""
   ]
  },
  {
   "cell_type": "code",
   "execution_count": 2,
   "id": "31640f9f",
   "metadata": {},
   "outputs": [],
   "source": [
    "from typing import List, Set, Iterable\n",
    "\n",
    "class Scratchcard:\n",
    "    def __init__(self, card_id: int, winning_numbers: Set[int], numbers: List[int]):\n",
    "        self.id = card_id\n",
    "        self.winning_numbers = winning_numbers\n",
    "        self.numbers = numbers\n",
    "    \n",
    "    \n",
    "    @classmethod\n",
    "    def from_raw(cls, raw_line: str):\n",
    "        first_part, rest = raw_line.split(\": \")\n",
    "        card_id = int(first_part.split()[1])\n",
    "        \n",
    "        winning_raw, numbers_raw = rest.split(\" | \")\n",
    "        winning_numbers = [int(num) for num in winning_raw.split()]\n",
    "        numbers = [int(num) for num in numbers_raw.split()]\n",
    "        \n",
    "        return cls(card_id, winning_numbers, numbers)\n",
    "    \n",
    "    @property\n",
    "    def num_matches(self) -> int:\n",
    "        return len([num for num in self.numbers if num in self.winning_numbers])\n",
    "    \n",
    "    @property\n",
    "    def points(self) -> int:\n",
    "        \"\"\"Used for Part 1 only.\"\"\"\n",
    "        if self.num_matches == 0:\n",
    "            return 0\n",
    "        elif self.num_matches == 1:\n",
    "            return 1\n",
    "        else:\n",
    "            return 2 ** (self.num_matches - 1)\n",
    "    \n",
    "    @property\n",
    "    def next_ids(self) -> Iterable[int]:\n",
    "        \"\"\"Returns ids of the original cards that this card wins you\"\"\"\n",
    "        return range(self.id + 1, self.id + self.num_matches + 1)"
   ]
  },
  {
   "cell_type": "code",
   "execution_count": 3,
   "id": "cbee271e",
   "metadata": {},
   "outputs": [],
   "source": [
    "with open(input_filename) as input_file:\n",
    "    cards = [Scratchcard.from_raw(line.strip()) for line in input_file.readlines()]"
   ]
  },
  {
   "cell_type": "markdown",
   "id": "1555eea3",
   "metadata": {},
   "source": [
    "# Part 1"
   ]
  },
  {
   "cell_type": "code",
   "execution_count": 4,
   "id": "e70051bd",
   "metadata": {},
   "outputs": [
    {
     "data": {
      "text/plain": [
       "33950"
      ]
     },
     "execution_count": 4,
     "metadata": {},
     "output_type": "execute_result"
    }
   ],
   "source": [
    "sum([card.points for card in cards])"
   ]
  },
  {
   "cell_type": "markdown",
   "id": "97277b3d",
   "metadata": {},
   "source": [
    "# Part 2"
   ]
  },
  {
   "cell_type": "code",
   "execution_count": 5,
   "id": "07d61500",
   "metadata": {
    "scrolled": true
   },
   "outputs": [
    {
     "data": {
      "text/plain": [
       "14814534"
      ]
     },
     "execution_count": 5,
     "metadata": {},
     "output_type": "execute_result"
    }
   ],
   "source": [
    "tracker = [1] * (len(cards) + 1)\n",
    "tracker[0] = 0  # zero index will not be used\n",
    "\n",
    "for card in cards:\n",
    "    num_cards = tracker[card.id]\n",
    "    \n",
    "    for next_id in card.next_ids:\n",
    "        tracker[next_id] += 1 * num_cards\n",
    "        \n",
    "\n",
    "sum(tracker)"
   ]
  }
 ],
 "metadata": {
  "kernelspec": {
   "display_name": "Python 3 (ipykernel)",
   "language": "python",
   "name": "python3"
  },
  "language_info": {
   "codemirror_mode": {
    "name": "ipython",
    "version": 3
   },
   "file_extension": ".py",
   "mimetype": "text/x-python",
   "name": "python",
   "nbconvert_exporter": "python",
   "pygments_lexer": "ipython3",
   "version": "3.9.9"
  }
 },
 "nbformat": 4,
 "nbformat_minor": 5
}
