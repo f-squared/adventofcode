{
 "cells": [
  {
   "cell_type": "code",
   "execution_count": 1,
   "id": "fcd174e8",
   "metadata": {},
   "outputs": [],
   "source": [
    "input_filename = \"input.txt\"\n",
    "with open(input_filename) as input_file:\n",
    "    raw_times, raw_distances = input_file.readlines()"
   ]
  },
  {
   "cell_type": "markdown",
   "id": "801ff1c1",
   "metadata": {},
   "source": [
    "# Math time!"
   ]
  },
  {
   "cell_type": "markdown",
   "id": "877cbf48",
   "metadata": {},
   "source": [
    "$d = (T - t) \\cdot t$\n",
    "where:\n",
    "* $T$ is race time\n",
    "* $t$ is hold time\n",
    "* $d$ is the resulting distance traveled\n",
    "\n",
    "We want to solve for when we can travel a distance more than $D$, the record distance. This turns into a quadratic equation.\n",
    "\n",
    "$D = (T - t) \\cdot t$\n",
    "\n",
    "$t^2 - Tt + D = 0$\n",
    "\n",
    "Solve this with a quadratic equation. Here's the result:\n",
    "\n",
    "$$t = \\frac{T \\pm \\sqrt{T^2 - 4D}}{ 2 }$$"
   ]
  },
  {
   "cell_type": "code",
   "execution_count": 2,
   "id": "1d30c47b",
   "metadata": {},
   "outputs": [
    {
     "name": "stdout",
     "output_type": "stream",
     "text": [
      "Test cases for `ways_to_beat_record` passed.\n"
     ]
    }
   ],
   "source": [
    "import math\n",
    "from typing import List\n",
    "\n",
    "def ways_to_beat_record(race_time: int, record_distance: int) -> List[int]:\n",
    "    \"\"\"\n",
    "    `race_time` in milliseconds and `record_distance` in millimeters.\n",
    "    Returns a list of hold times that can beat the record.\n",
    "    \"\"\"\n",
    "    # Use the quadratic equation\n",
    "    radicand = race_time**2 - (4 * record_distance)\n",
    "    lower_root = (race_time - radicand**0.5) / 2\n",
    "    higher_root = (race_time + radicand**0.5) / 2\n",
    "    \n",
    "    lowest_time = math.floor(lower_root + 1)\n",
    "    highest_time = math.ceil(higher_root - 1)\n",
    "    \n",
    "    return range(lowest_time, highest_time+1)\n",
    "    \n",
    "\n",
    "def test_ways_to_beat_record():\n",
    "    assert list(ways_to_beat_record(7, 9)) == [2, 3, 4, 5]\n",
    "    assert ways_to_beat_record(15, 40) == range(4, 11+1)\n",
    "    assert ways_to_beat_record(30, 200) == range(11, 19+1)\n",
    "    print(\"Test cases for `ways_to_beat_record` passed.\")\n",
    "    \n",
    "test_ways_to_beat_record()"
   ]
  },
  {
   "cell_type": "markdown",
   "id": "7beb0b3f",
   "metadata": {},
   "source": [
    "# Part 1"
   ]
  },
  {
   "cell_type": "code",
   "execution_count": 3,
   "id": "60f92866",
   "metadata": {},
   "outputs": [],
   "source": [
    "times = [int(raw_time) for raw_time in raw_times.split()[1:]]\n",
    "distances = [int(raw_distance) for raw_distance in raw_distances.split()[1:]]"
   ]
  },
  {
   "cell_type": "code",
   "execution_count": 4,
   "id": "700ded4a",
   "metadata": {
    "scrolled": true
   },
   "outputs": [
    {
     "data": {
      "text/plain": [
       "1624896"
      ]
     },
     "execution_count": 4,
     "metadata": {},
     "output_type": "execute_result"
    }
   ],
   "source": [
    "result = 1\n",
    "for time, distance in zip(times, distances):\n",
    "    result *= len(ways_to_beat_record(time, distance))\n",
    "result"
   ]
  },
  {
   "cell_type": "markdown",
   "id": "2e67d747",
   "metadata": {},
   "source": [
    "# Part 2"
   ]
  },
  {
   "cell_type": "code",
   "execution_count": 5,
   "id": "b8b2da04",
   "metadata": {},
   "outputs": [],
   "source": [
    "big_time = int(\"\".join(raw_times.split()[1:]))\n",
    "big_distance = int(\"\".join(raw_distances.split()[1:]))"
   ]
  },
  {
   "cell_type": "code",
   "execution_count": 6,
   "id": "78e683cc",
   "metadata": {},
   "outputs": [
    {
     "data": {
      "text/plain": [
       "32583852"
      ]
     },
     "execution_count": 6,
     "metadata": {},
     "output_type": "execute_result"
    }
   ],
   "source": [
    "len(ways_to_beat_record(big_time, big_distance))"
   ]
  }
 ],
 "metadata": {
  "kernelspec": {
   "display_name": "Python 3 (ipykernel)",
   "language": "python",
   "name": "python3"
  },
  "language_info": {
   "codemirror_mode": {
    "name": "ipython",
    "version": 3
   },
   "file_extension": ".py",
   "mimetype": "text/x-python",
   "name": "python",
   "nbconvert_exporter": "python",
   "pygments_lexer": "ipython3",
   "version": "3.9.9"
  }
 },
 "nbformat": 4,
 "nbformat_minor": 5
}
