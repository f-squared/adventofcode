{
 "cells": [
  {
   "cell_type": "code",
   "execution_count": 1,
   "id": "1969dae1",
   "metadata": {},
   "outputs": [],
   "source": [
    "input_filename = \"input.txt\""
   ]
  },
  {
   "cell_type": "code",
   "execution_count": 2,
   "id": "18d497ae",
   "metadata": {},
   "outputs": [],
   "source": [
    "from typing import List, Tuple\n",
    "\n",
    "class Round:\n",
    "    def __init__(self, red: int, green: int, blue: int):\n",
    "        self.red = red\n",
    "        self.green = green\n",
    "        self.blue = blue\n",
    "    \n",
    "    @classmethod\n",
    "    def from_raw(cls, raw_round: str):\n",
    "        cube_list = raw_round.split(\", \")\n",
    "        red, green, blue = 0, 0, 0\n",
    "        for entry in cube_list:\n",
    "            quantity_str, color = entry.split()\n",
    "            quantity = int(quantity_str)\n",
    "            if color == \"red\":\n",
    "                red = int(quantity)\n",
    "            elif color == \"blue\":\n",
    "                blue = int(quantity)\n",
    "            elif color == \"green\":\n",
    "                green = int(quantity)\n",
    "        return cls(red, green, blue)\n",
    "    \n",
    "    def __repr__(self):\n",
    "        return f\"Round(red={self.red}, green={self.green}, blue={self.blue})\"\n",
    "        \n",
    "\n",
    "class Game:\n",
    "    def __init__(self, id_: int, rounds: List[Round]):\n",
    "        self.id = id_\n",
    "        self.rounds = rounds\n",
    "    \n",
    "    @classmethod\n",
    "    def from_raw(cls, raw_line: str):\n",
    "        game_str, rounds_raw = raw_line.strip().split(\": \")\n",
    "        \n",
    "        game_id = int(game_str.split()[1])\n",
    "        \n",
    "        round_strings = rounds_raw.split(\"; \")\n",
    "        rounds = [Round.from_raw(round_str) for round_str in round_strings]\n",
    "        \n",
    "        return cls(game_id, rounds)\n",
    "    \n",
    "    def possible_with_bag(self, red: int, green: int, blue: int) -> bool:\n",
    "        for round_ in self.rounds:\n",
    "            if round_.red > red:\n",
    "                return False\n",
    "            if round_.blue > blue:\n",
    "                return False\n",
    "            if round_.green > green:\n",
    "                return False\n",
    "        return True\n",
    "    \n",
    "    def fewest_cubes(self) -> Tuple[int, int, int]:\n",
    "        red, green, blue = 0, 0, 0\n",
    "        for round_ in self.rounds:\n",
    "            red = max(round_.red, red)\n",
    "            green = max(round_.green, green)\n",
    "            blue = max(round_.blue, blue)\n",
    "        return red, green, blue\n",
    "    \n",
    "    def fewest_cubes_power(self) -> int:\n",
    "        red, green, blue = self.fewest_cubes()\n",
    "        return red * green * blue"
   ]
  },
  {
   "cell_type": "code",
   "execution_count": 3,
   "id": "705a4bef",
   "metadata": {},
   "outputs": [],
   "source": [
    "with open(input_filename) as input_file:\n",
    "    games = [Game.from_raw(line.strip()) for line in input_file.readlines()]"
   ]
  },
  {
   "cell_type": "markdown",
   "id": "5b8eab25",
   "metadata": {},
   "source": [
    "# Part 1"
   ]
  },
  {
   "cell_type": "code",
   "execution_count": 4,
   "id": "f68e2269",
   "metadata": {},
   "outputs": [
    {
     "data": {
      "text/plain": [
       "2593"
      ]
     },
     "execution_count": 4,
     "metadata": {},
     "output_type": "execute_result"
    }
   ],
   "source": [
    "sum([game.id for game in games if game.possible_with_bag(12, 13, 14)])"
   ]
  },
  {
   "cell_type": "markdown",
   "id": "b8a7f9d7",
   "metadata": {},
   "source": [
    "# Part 2"
   ]
  },
  {
   "cell_type": "code",
   "execution_count": 5,
   "id": "5a161fb3",
   "metadata": {},
   "outputs": [
    {
     "data": {
      "text/plain": [
       "54699"
      ]
     },
     "execution_count": 5,
     "metadata": {},
     "output_type": "execute_result"
    }
   ],
   "source": [
    "sum([game.fewest_cubes_power() for game in games])"
   ]
  }
 ],
 "metadata": {
  "kernelspec": {
   "display_name": "Python 3 (ipykernel)",
   "language": "python",
   "name": "python3"
  },
  "language_info": {
   "codemirror_mode": {
    "name": "ipython",
    "version": 3
   },
   "file_extension": ".py",
   "mimetype": "text/x-python",
   "name": "python",
   "nbconvert_exporter": "python",
   "pygments_lexer": "ipython3",
   "version": "3.9.9"
  }
 },
 "nbformat": 4,
 "nbformat_minor": 5
}
