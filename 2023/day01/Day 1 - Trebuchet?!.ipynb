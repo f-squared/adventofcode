{
 "cells": [
  {
   "cell_type": "code",
   "execution_count": 1,
   "id": "dc2870eb",
   "metadata": {},
   "outputs": [],
   "source": [
    "with open(\"input.txt\") as input_file:\n",
    "    lines = [line.strip() for line in input_file.readlines()]"
   ]
  },
  {
   "cell_type": "markdown",
   "id": "f12ff835",
   "metadata": {},
   "source": [
    "# Part 1"
   ]
  },
  {
   "cell_type": "code",
   "execution_count": 2,
   "id": "0e721c92",
   "metadata": {},
   "outputs": [],
   "source": [
    "def calibrate_pt1(line: str) -> int:\n",
    "    result = 0\n",
    "    \n",
    "    for char in line:\n",
    "        try:\n",
    "            result += int(char) * 10\n",
    "            break\n",
    "        except ValueError:\n",
    "            pass\n",
    "    \n",
    "    for char in line[::-1]:\n",
    "        try:\n",
    "            result += int(char)\n",
    "            break\n",
    "        except ValueError:\n",
    "            pass\n",
    "        \n",
    "    return result"
   ]
  },
  {
   "cell_type": "code",
   "execution_count": 3,
   "id": "54e6654c",
   "metadata": {},
   "outputs": [],
   "source": [
    "def test_cases_pt1():\n",
    "    assert calibrate_pt1(\"1abc2\") == 12\n",
    "    assert calibrate_pt1(\"pqr3stu8vwx\") == 38\n",
    "    assert calibrate_pt1(\"a1b2c3d4e5f\") == 15\n",
    "    assert calibrate_pt1(\"treb7uchet\") == 77\n",
    "\n",
    "test_cases_pt1()"
   ]
  },
  {
   "cell_type": "code",
   "execution_count": 4,
   "id": "c16c44f2",
   "metadata": {},
   "outputs": [
    {
     "data": {
      "text/plain": [
       "54390"
      ]
     },
     "execution_count": 4,
     "metadata": {},
     "output_type": "execute_result"
    }
   ],
   "source": [
    "sum(calibrate_pt1(line) for line in lines)"
   ]
  },
  {
   "cell_type": "markdown",
   "id": "53cc7364",
   "metadata": {},
   "source": [
    "# Part 2"
   ]
  },
  {
   "cell_type": "code",
   "execution_count": 5,
   "id": "465b9a01",
   "metadata": {},
   "outputs": [],
   "source": [
    "def calibrate_pt2(line: str) -> int:\n",
    "    DIGITS_MAP = {\n",
    "        \"one\": 1,\n",
    "        \"two\": 2,\n",
    "        \"three\": 3,\n",
    "        \"four\": 4,\n",
    "        \"five\": 5,\n",
    "        \"six\": 6,\n",
    "        \"seven\": 7,\n",
    "        \"eight\": 8,\n",
    "        \"nine\": 9,\n",
    "    }\n",
    "    \n",
    "    def analyze(string: str, index: int) -> int:\n",
    "        try:\n",
    "            return int(string[index])\n",
    "        except ValueError:\n",
    "            pass\n",
    "        \n",
    "        for word, digit in DIGITS_MAP.items():\n",
    "            if string[index:index+len(word)] == word:\n",
    "                return digit\n",
    "        \n",
    "        return 0  # ehhh\n",
    "    \n",
    "    \n",
    "    result = 0\n",
    "\n",
    "    \n",
    "    for i in range(len(line)):\n",
    "        maybe_digit = analyze(line, i)\n",
    "        if maybe_digit:\n",
    "            result += maybe_digit*10\n",
    "            break\n",
    "\n",
    "    for i in range(len(line)-1, -1, -1):\n",
    "        maybe_digit = analyze(line, i)\n",
    "        if maybe_digit:\n",
    "            result += maybe_digit\n",
    "            break\n",
    "    \n",
    "    return result"
   ]
  },
  {
   "cell_type": "code",
   "execution_count": 6,
   "id": "8797ce52",
   "metadata": {},
   "outputs": [],
   "source": [
    "def test_cases_pt2():\n",
    "    assert calibrate_pt2(\"two1nine\") == 29\n",
    "    assert calibrate_pt2(\"eightwothree\") == 83 \n",
    "    assert calibrate_pt2(\"abcone2threexyz\") == 13\n",
    "    assert calibrate_pt2(\"xtwone3four\") == 24\n",
    "    assert calibrate_pt2(\"4nineeightseven2\") == 42\n",
    "    assert calibrate_pt2(\"zoneight234\") == 14\n",
    "    assert calibrate_pt2(\"7pqrstsixteen\") == 76\n",
    "\n",
    "test_cases_pt2()"
   ]
  },
  {
   "cell_type": "code",
   "execution_count": 7,
   "id": "4d174e1f",
   "metadata": {},
   "outputs": [
    {
     "data": {
      "text/plain": [
       "54277"
      ]
     },
     "execution_count": 7,
     "metadata": {},
     "output_type": "execute_result"
    }
   ],
   "source": [
    "sum(calibrate_pt2(line) for line in lines)"
   ]
  }
 ],
 "metadata": {
  "kernelspec": {
   "display_name": "Python 3 (ipykernel)",
   "language": "python",
   "name": "python3"
  },
  "language_info": {
   "codemirror_mode": {
    "name": "ipython",
    "version": 3
   },
   "file_extension": ".py",
   "mimetype": "text/x-python",
   "name": "python",
   "nbconvert_exporter": "python",
   "pygments_lexer": "ipython3",
   "version": "3.9.9"
  }
 },
 "nbformat": 4,
 "nbformat_minor": 5
}
