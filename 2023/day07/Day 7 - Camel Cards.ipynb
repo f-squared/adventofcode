{
 "cells": [
  {
   "cell_type": "code",
   "execution_count": 1,
   "id": "94206a6d",
   "metadata": {},
   "outputs": [],
   "source": [
    "input_filename = \"input.txt\""
   ]
  },
  {
   "cell_type": "code",
   "execution_count": 2,
   "id": "0a81c39d",
   "metadata": {},
   "outputs": [],
   "source": [
    "from collections import Counter\n",
    "from enum import Enum"
   ]
  },
  {
   "cell_type": "markdown",
   "id": "04fd0223",
   "metadata": {},
   "source": [
    "# Part 1"
   ]
  },
  {
   "cell_type": "code",
   "execution_count": 3,
   "id": "a03fa25b",
   "metadata": {},
   "outputs": [],
   "source": [
    "class HandType(Enum):\n",
    "    FIVE_OF_A_KIND = 6\n",
    "    FOUR_OF_A_KIND = 5\n",
    "    FULL_HOUSE = 4\n",
    "    THREE_OF_A_KIND = 3\n",
    "    TWO_PAIR = 2\n",
    "    ONE_PAIR = 1\n",
    "    HIGH_CARD = 0\n",
    "\n",
    "    def __lt__(self, other):\n",
    "        return self.value < other.value"
   ]
  },
  {
   "cell_type": "code",
   "execution_count": 4,
   "id": "a6b2ebaf",
   "metadata": {},
   "outputs": [
    {
     "name": "stdout",
     "output_type": "stream",
     "text": [
      "test_hand_types passed!\n",
      "test_comparison passed!\n"
     ]
    }
   ],
   "source": [
    "class CamelHand:\n",
    "    ALL_LABELS = \"23456789TJQKA\"  # weakest to strongest\n",
    "    \n",
    "    def __init__(self, hand: str, bid: int = 0):\n",
    "        assert len(hand) == 5\n",
    "        for letter in hand:\n",
    "            assert letter in self.ALL_LABELS\n",
    "        self.hand = hand\n",
    "        self.bid = bid\n",
    "        \n",
    "        self.hand_set = Counter(hand)\n",
    "        \n",
    "    @classmethod\n",
    "    def from_raw(cls, line: str):\n",
    "        hand, raw_bid = line.split()\n",
    "        return cls(hand, int(raw_bid))\n",
    "    \n",
    "    def __eq__(self, other):\n",
    "        return self.hand == other.hand\n",
    "    \n",
    "    def __lt__(self, other):\n",
    "        if self.hand_type == other.hand_type:\n",
    "            # compare the cards in the hands\n",
    "            for label1, label2 in zip(self.hand, other.hand):\n",
    "                strength1 = self.ALL_LABELS.index(label1)\n",
    "                strength2 = self.ALL_LABELS.index(label2)\n",
    "                if strength1 == strength2:\n",
    "                    continue\n",
    "                return strength1 < strength2\n",
    "            \n",
    "        return self.hand_type < other.hand_type\n",
    "    \n",
    "    @property\n",
    "    def hand_type(self) -> int:\n",
    "        \"\"\"\n",
    "        Returns hand type enum member.\n",
    "        \"\"\"\n",
    "        values = sorted(self.hand_set.values())\n",
    "        \n",
    "        if values == [5]:\n",
    "            return HandType.FIVE_OF_A_KIND\n",
    "        \n",
    "        elif values == [1, 4]:\n",
    "            return HandType.FOUR_OF_A_KIND\n",
    "        \n",
    "        elif values == [2, 3]:\n",
    "            return HandType.FULL_HOUSE\n",
    "        \n",
    "        elif values == [1, 1, 3]:\n",
    "            return HandType.THREE_OF_A_KIND\n",
    "        \n",
    "        elif values == [1, 2, 2]:\n",
    "            return HandType.TWO_PAIR\n",
    "        \n",
    "        elif values == [1, 1, 1, 2]:\n",
    "            return HandType.ONE_PAIR\n",
    "        \n",
    "        elif values == [1, 1, 1, 1, 1]:\n",
    "            return HandType.HIGH_CARD\n",
    "        \n",
    "        else:\n",
    "            raise Exception(f\"Unexpected hand: {self.hand}\")\n",
    "\n",
    "        \n",
    "\n",
    "def test_hand_types():\n",
    "    assert CamelHand(\"AAAAA\").hand_type == HandType.FIVE_OF_A_KIND\n",
    "    assert CamelHand(\"AA8AA\").hand_type == HandType.FOUR_OF_A_KIND\n",
    "    assert CamelHand(\"23332\").hand_type == HandType.FULL_HOUSE\n",
    "    assert CamelHand(\"TTT98\").hand_type == HandType.THREE_OF_A_KIND\n",
    "    assert CamelHand(\"23432\").hand_type == HandType.TWO_PAIR\n",
    "    assert CamelHand(\"A23A4\").hand_type == HandType.ONE_PAIR\n",
    "    assert CamelHand(\"23456\").hand_type == HandType.HIGH_CARD\n",
    "    print(\"test_hand_types passed!\")\n",
    "\n",
    "\n",
    "def test_comparison():\n",
    "    assert CamelHand(\"AAAAA\") == CamelHand(\"AAAAA\")\n",
    "    assert CamelHand(\"AAAAA\") > CamelHand(\"AKAAA\")\n",
    "    assert CamelHand(\"33332\") > CamelHand(\"2AAAA\")\n",
    "    assert CamelHand(\"77788\") < CamelHand(\"77888\")\n",
    "    assert CamelHand(\"23456\") < CamelHand(\"77888\")\n",
    "    print(\"test_comparison passed!\")\n",
    "\n",
    "\n",
    "    \n",
    "test_hand_types()\n",
    "test_comparison()"
   ]
  },
  {
   "cell_type": "code",
   "execution_count": 5,
   "id": "eb1a4e3c",
   "metadata": {},
   "outputs": [
    {
     "data": {
      "text/plain": [
       "250370104"
      ]
     },
     "execution_count": 5,
     "metadata": {},
     "output_type": "execute_result"
    }
   ],
   "source": [
    "with open(input_filename) as input_file:\n",
    "    hands = sorted([CamelHand.from_raw(line) for line in input_file.readlines()])\n",
    "\n",
    "winnings = 0\n",
    "for rank, hand in enumerate(hands, start=1):\n",
    "    winnings += (hand.bid * rank)\n",
    "\n",
    "winnings"
   ]
  },
  {
   "cell_type": "markdown",
   "id": "93669a0d",
   "metadata": {},
   "source": [
    "# Part 2"
   ]
  },
  {
   "cell_type": "code",
   "execution_count": 6,
   "id": "314856c7",
   "metadata": {},
   "outputs": [
    {
     "name": "stdout",
     "output_type": "stream",
     "text": [
      "test_joker_hand_types passed!\n"
     ]
    }
   ],
   "source": [
    "class CamelHandWithJokers(CamelHand):\n",
    "    ALL_LABELS = \"J23456789TQKA\"  # weakest to strongest\n",
    "\n",
    "    @property\n",
    "    def hand_type(self) -> int:\n",
    "        super_hand_type = super().hand_type\n",
    "        \n",
    "        num_jokers = self.hand_set[\"J\"]\n",
    "        \n",
    "        # Cases where the hand type definitely doesn't change\n",
    "        if num_jokers == 0 or num_jokers == 5:\n",
    "            return super_hand_type\n",
    "        \n",
    "        # No need to check for FIVE_OF_A_KIND because it'd be all jokers.\n",
    "        \n",
    "        if super_hand_type == HandType.FOUR_OF_A_KIND:\n",
    "            if num_jokers == 1 or num_jokers == 4:\n",
    "                return HandType.FIVE_OF_A_KIND\n",
    "            else:\n",
    "                raise Exception(f\"Unexpected four of a kind joker hand: {self.hand}\")\n",
    "            \n",
    "        if super_hand_type == HandType.FULL_HOUSE:\n",
    "            return HandType.FIVE_OF_A_KIND\n",
    "        \n",
    "        if super_hand_type == HandType.THREE_OF_A_KIND:\n",
    "            if num_jokers == 3 or num_jokers == 1:\n",
    "                return HandType.FOUR_OF_A_KIND\n",
    "            else:\n",
    "                raise Exception(f\"Unexpected three of a kind joker hand: {self.hand}\")\n",
    "        \n",
    "        if super_hand_type == HandType.TWO_PAIR:\n",
    "            if num_jokers == 2:\n",
    "                return HandType.FOUR_OF_A_KIND\n",
    "            elif num_jokers == 1:\n",
    "                return HandType.FULL_HOUSE\n",
    "            else:\n",
    "                raise Exception(f\"Unexpected two pair joker hand: {self.hand}\")\n",
    "                \n",
    "        if super_hand_type == HandType.ONE_PAIR:\n",
    "            if num_jokers == 2:\n",
    "                return HandType.THREE_OF_A_KIND\n",
    "            elif num_jokers == 1:\n",
    "                return HandType.THREE_OF_A_KIND\n",
    "            else:\n",
    "                raise Exception(f\"Unexpected one pair joker hand: {self.hand}\")\n",
    "                \n",
    "        if super_hand_type == HandType.HIGH_CARD:\n",
    "            if num_jokers == 1:\n",
    "                return HandType.ONE_PAIR\n",
    "            else:\n",
    "                raise Exception(f\"Unexpected high card joker hand: {self.hand}\")\n",
    "        \n",
    "        raise Exception(f\"Unexpected joker hand at end: {self.hand}\")\n",
    "\n",
    "\n",
    "def test_joker_hand_types():\n",
    "    assert CamelHandWithJokers(\"JJJJJ\").hand_type == HandType.FIVE_OF_A_KIND\n",
    "    assert CamelHandWithJokers(\"AAAAA\").hand_type == HandType.FIVE_OF_A_KIND\n",
    "    assert CamelHandWithJokers(\"32T3K\").hand_type == HandType.ONE_PAIR\n",
    "    assert CamelHandWithJokers(\"KK677\").hand_type == HandType.TWO_PAIR\n",
    "\n",
    "    assert CamelHandWithJokers(\"QJJQ2\").hand_type == HandType.FOUR_OF_A_KIND\n",
    "    assert CamelHandWithJokers(\"KTJJT\").hand_type == HandType.FOUR_OF_A_KIND\n",
    "    assert CamelHandWithJokers(\"T55J5\").hand_type == HandType.FOUR_OF_A_KIND\n",
    "    assert CamelHandWithJokers(\"QQQJA\").hand_type == HandType.FOUR_OF_A_KIND\n",
    "\n",
    "    print(\"test_joker_hand_types passed!\")\n",
    "\n",
    "\n",
    "test_joker_hand_types()"
   ]
  },
  {
   "cell_type": "code",
   "execution_count": 7,
   "id": "17d35180",
   "metadata": {},
   "outputs": [
    {
     "data": {
      "text/plain": [
       "251735672"
      ]
     },
     "execution_count": 7,
     "metadata": {},
     "output_type": "execute_result"
    }
   ],
   "source": [
    "with open(input_filename) as input_file:\n",
    "    hands = sorted([CamelHandWithJokers.from_raw(line) for line in input_file.readlines()])\n",
    "\n",
    "winnings = 0\n",
    "for rank, hand in enumerate(hands, start=1):\n",
    "    winnings += (hand.bid * rank)\n",
    "\n",
    "winnings"
   ]
  }
 ],
 "metadata": {
  "kernelspec": {
   "display_name": "Python 3 (ipykernel)",
   "language": "python",
   "name": "python3"
  },
  "language_info": {
   "codemirror_mode": {
    "name": "ipython",
    "version": 3
   },
   "file_extension": ".py",
   "mimetype": "text/x-python",
   "name": "python",
   "nbconvert_exporter": "python",
   "pygments_lexer": "ipython3",
   "version": "3.9.9"
  }
 },
 "nbformat": 4,
 "nbformat_minor": 5
}
